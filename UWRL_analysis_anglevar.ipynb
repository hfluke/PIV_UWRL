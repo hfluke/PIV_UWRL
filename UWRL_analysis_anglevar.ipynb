{
 "cells": [
  {
   "cell_type": "code",
   "execution_count": null,
   "metadata": {},
   "outputs": [],
   "source": [
    "import pandas as pd\n",
    "import numpy as np\n",
    "import seaborn as sns\n",
    "import matplotlib.pyplot as plt"
   ]
  },
  {
   "cell_type": "code",
   "execution_count": null,
   "metadata": {},
   "outputs": [],
   "source": [
    "df = pd.read_csv(\"UWRL_river_velocimetry_dataset_angle_variance_NEW.csv\")"
   ]
  },
  {
   "cell_type": "code",
   "execution_count": null,
   "metadata": {},
   "outputs": [],
   "source": [
    "print(df.columns)\n",
    "df"
   ]
  },
  {
   "cell_type": "code",
   "execution_count": null,
   "metadata": {},
   "outputs": [],
   "source": [
    "plt.figure(figsize=(10, 8))\n",
    "\n",
    "sns.histplot(\n",
    "    data=df, \n",
    "    x='angle',\n",
    "    binwidth=0.05,\n",
    "    label='all vectors',\n",
    "    color='green'\n",
    ")\n",
    "\n",
    "sns.histplot(\n",
    "    data=df[(df.velocity >= 0.1)],\n",
    "    x='angle',\n",
    "    binwidth=0.05,\n",
    "    label='vector length >= 0.1',\n",
    "    color='#F9944E'\n",
    ")\n",
    "\n",
    "plt.axvline(x=0, color='blue', linestyle='-', linewidth=1)\n",
    "plt.axvline(x= np.pi/2, color='red', linestyle='-', linewidth=1)\n",
    "plt.axvline(x=-np.pi/2, color='red', linestyle='-', linewidth=1)\n",
    "\n",
    "plt.legend(loc='center left', bbox_to_anchor=(1, 0.5))\n",
    "plt.show()\n",
    "plt.close()"
   ]
  },
  {
   "cell_type": "code",
   "execution_count": null,
   "metadata": {},
   "outputs": [],
   "source": [
    "df2 = df[~(df.angle_var.isna())]"
   ]
  },
  {
   "cell_type": "code",
   "execution_count": null,
   "metadata": {},
   "outputs": [],
   "source": [
    "df2[['v_x', 'velocity', 'angle', 'angle_var']]"
   ]
  },
  {
   "cell_type": "code",
   "execution_count": null,
   "metadata": {},
   "outputs": [],
   "source": [
    "sns.scatterplot(\n",
    "    data=df2,\n",
    "    x='velocity',\n",
    "    y='angle_var',\n",
    ")"
   ]
  },
  {
   "cell_type": "code",
   "execution_count": null,
   "metadata": {},
   "outputs": [],
   "source": [
    "sns.histplot(\n",
    "    data=df2,\n",
    "    x='angle_var',\n",
    "    bins=100\n",
    ")"
   ]
  },
  {
   "cell_type": "code",
   "execution_count": null,
   "metadata": {},
   "outputs": [],
   "source": [
    "plt.figure(figsize=(10, 10))\n",
    "\n",
    "sns.histplot(\n",
    "    data=df2,\n",
    "    x='velocity',\n",
    "    y='angle_var',\n",
    "    bins=100\n",
    ")"
   ]
  },
  {
   "cell_type": "code",
   "execution_count": null,
   "metadata": {},
   "outputs": [],
   "source": [
    "plt.figure(figsize=(10, 10))\n",
    "\n",
    "sns.histplot(\n",
    "    data=df2, \n",
    "    x='v_x',\n",
    "    y='angle_var',\n",
    "    bins=100\n",
    ")"
   ]
  },
  {
   "cell_type": "code",
   "execution_count": null,
   "metadata": {},
   "outputs": [],
   "source": [
    "plt.figure(figsize=(10, 10))\n",
    "\n",
    "sns.histplot(\n",
    "    data=df2[df2.cloudcover == 0],\n",
    "    x='velocity',\n",
    "    y='angle_var',\n",
    "    bins=100\n",
    ")"
   ]
  },
  {
   "cell_type": "code",
   "execution_count": null,
   "metadata": {},
   "outputs": [],
   "source": [
    "plt.figure(figsize=(10, 10))\n",
    "\n",
    "sns.histplot(\n",
    "    data=df2[df2.v_x >= 0],\n",
    "    x='velocity',\n",
    "    y='angle_var',\n",
    "    bins=100\n",
    ")"
   ]
  },
  {
   "cell_type": "code",
   "execution_count": null,
   "metadata": {},
   "outputs": [],
   "source": [
    "plt.figure(figsize=(10, 10))\n",
    "\n",
    "sns.histplot(\n",
    "    data=df2[(df2.cloudcover == 0) & (df2.v_x >= 0) & (df2.angle_var_support == 8)],\n",
    "    x='velocity',\n",
    "    y='angle_var',\n",
    "    bins=100\n",
    ")"
   ]
  },
  {
   "cell_type": "code",
   "execution_count": null,
   "metadata": {},
   "outputs": [],
   "source": [
    "plt.figure(figsize=(10, 10))\n",
    "\n",
    "sns.histplot(\n",
    "    data=df2[(df2.cloudcover == 0) & (df2.v_x >= 0) & (df2.velocity > 0.1)],\n",
    "    x='velocity',\n",
    "    y='angle_var',\n",
    "    bins=100\n",
    ")"
   ]
  },
  {
   "cell_type": "code",
   "execution_count": null,
   "metadata": {},
   "outputs": [],
   "source": [
    "sns.histplot(\n",
    "    data=df,\n",
    "    x='y',\n",
    "    y='angle_var'\n",
    ")"
   ]
  },
  {
   "cell_type": "code",
   "execution_count": null,
   "metadata": {},
   "outputs": [],
   "source": [
    "sns.histplot(\n",
    "    data=df2,\n",
    "    x='y'\n",
    ")"
   ]
  },
  {
   "cell_type": "code",
   "execution_count": null,
   "metadata": {},
   "outputs": [],
   "source": [
    "plt.figure(figsize=(10, 10))\n",
    "\n",
    "sns.histplot(\n",
    "    data=df,\n",
    "    x='y',\n",
    "    y='angle_var',\n",
    "    bins=74\n",
    ")"
   ]
  },
  {
   "cell_type": "code",
   "execution_count": null,
   "metadata": {},
   "outputs": [],
   "source": [
    "for i in sorted(df.angle_var_support.unique()):\n",
    "\n",
    "    print(i)\n",
    "\n",
    "    plt.figure(figsize=(8, 8))\n",
    "\n",
    "    sns.histplot(\n",
    "        data=df[(df.velocity < 0.2) & (df.angle_var_support == i)],\n",
    "        x='velocity',\n",
    "        y='angle_var',\n",
    "        bins=100\n",
    "    )\n",
    "\n",
    "    plt.show()\n",
    "    plt.close()"
   ]
  },
  {
   "cell_type": "code",
   "execution_count": null,
   "metadata": {},
   "outputs": [],
   "source": [
    "df.angle_var_support.unique()"
   ]
  }
 ],
 "metadata": {
  "kernelspec": {
   "display_name": "pyorc",
   "language": "python",
   "name": "python3"
  },
  "language_info": {
   "codemirror_mode": {
    "name": "ipython",
    "version": 3
   },
   "file_extension": ".py",
   "mimetype": "text/x-python",
   "name": "python",
   "nbconvert_exporter": "python",
   "pygments_lexer": "ipython3",
   "version": "3.12.3"
  }
 },
 "nbformat": 4,
 "nbformat_minor": 2
}
