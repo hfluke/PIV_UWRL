{
 "cells": [
  {
   "cell_type": "code",
   "execution_count": null,
   "metadata": {},
   "outputs": [],
   "source": [
    "import pyorc\n",
    "import xarray as xr\n",
    "from matplotlib.colors import Normalize\n",
    "import matplotlib.pyplot as plt\n"
   ]
  },
  {
   "cell_type": "code",
   "execution_count": 2,
   "metadata": {},
   "outputs": [],
   "source": [
    "ds = xr.open_dataset(\"Velocimetry_Results/video_capture_2024-09-12_12-00-04_velocimetry_results.nc\")\n",
    "video = pyorc.Video(\"Videos/video_capture_2024-09-12_12-00-04.mp4\", start_frame=0, end_frame=125)\n",
    "video.camera_config = ds.velocimetry.camera_config"
   ]
  },
  {
   "cell_type": "code",
   "execution_count": 3,
   "metadata": {},
   "outputs": [
    {
     "ename": "",
     "evalue": "",
     "output_type": "error",
     "traceback": [
      "\u001b[1;31mThe Kernel crashed while executing code in the current cell or a previous cell. \n",
      "\u001b[1;31mPlease review the code in the cell(s) to identify a possible cause of the failure. \n",
      "\u001b[1;31mClick <a href='https://aka.ms/vscodeJupyterKernelCrash'>here</a> for more info. \n",
      "\u001b[1;31mView Jupyter <a href='command:jupyter.viewOutput'>log</a> for further details."
     ]
    }
   ],
   "source": [
    "t = ds.time.values\n",
    "for i in range(len(t)):\n",
    "    if i > 67:\n",
    "        # print(t[i])\n",
    "        ds_time = ds.where(ds.time == t[i], drop=True)\n",
    "        ds_time = ds_time.mean(dim=\"time\", keep_attrs=True)\n",
    "\n",
    "        ds_time.velocimetry.plot(\n",
    "            ax=video.get_frames(method=\"rgb\")[0].frames.plot(mode=\"camera\").axes,\n",
    "            mode=\"camera\",\n",
    "            alpha=1.0,\n",
    "            cmap=\"rainbow\",\n",
    "            scale=200,\n",
    "            width=0.0015,\n",
    "            norm=Normalize(vmin=0., vmax=1.0, clip=False),\n",
    "            add_colorbar=True\n",
    "        )\n",
    "        # plt.show()\n",
    "        plt.savefig(f\"Treat/frame{i}.png\")\n",
    "        plt.close()"
   ]
  },
  {
   "cell_type": "code",
   "execution_count": null,
   "metadata": {},
   "outputs": [],
   "source": [
    "# ds_mean = ds.mean(dim=\"time\", keep_attrs=True)\n",
    "\n",
    "# ds_mean.velocimetry.plot(\n",
    "#     ax=video.get_frames(method=\"rgb\")[0].frames.plot(mode=\"camera\").axes,\n",
    "#     mode=\"camera\",\n",
    "#     alpha=1.0,\n",
    "#     cmap=\"rainbow\",\n",
    "#     scale=200,\n",
    "#     width=0.0015,\n",
    "#     norm=Normalize(vmin=0., vmax=1.0, clip=False),\n",
    "#     add_colorbar=True\n",
    "# )"
   ]
  }
 ],
 "metadata": {
  "kernelspec": {
   "display_name": "pyorc",
   "language": "python",
   "name": "python3"
  },
  "language_info": {
   "codemirror_mode": {
    "name": "ipython",
    "version": 3
   },
   "file_extension": ".py",
   "mimetype": "text/x-python",
   "name": "python",
   "nbconvert_exporter": "python",
   "pygments_lexer": "ipython3",
   "version": "3.12.3"
  }
 },
 "nbformat": 4,
 "nbformat_minor": 2
}
