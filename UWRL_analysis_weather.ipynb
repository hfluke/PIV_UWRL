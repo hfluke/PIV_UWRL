{
 "cells": [
  {
   "cell_type": "code",
   "execution_count": null,
   "metadata": {},
   "outputs": [],
   "source": [
    "import pandas as pd\n",
    "import numpy as np\n",
    "import seaborn as sns\n",
    "import matplotlib.pyplot as plt"
   ]
  },
  {
   "cell_type": "code",
   "execution_count": null,
   "metadata": {},
   "outputs": [],
   "source": [
    "df = pd.read_csv('UWRL_river_velocimetry_dataset.csv')"
   ]
  },
  {
   "cell_type": "code",
   "execution_count": null,
   "metadata": {},
   "outputs": [],
   "source": [
    "df['v_pos'] =  [0 if pd.isna(x) else (-1 if x < 0 else 1) for x in df['v_x']]\n",
    "df.datetime = pd.to_datetime(df.datetime)\n",
    "print(df.columns)\n",
    "df"
   ]
  },
  {
   "cell_type": "code",
   "execution_count": null,
   "metadata": {},
   "outputs": [],
   "source": [
    "df_var = pd.read_csv('UWRL_river_velocimetry_dataset_angle_variance.csv')"
   ]
  },
  {
   "cell_type": "code",
   "execution_count": null,
   "metadata": {},
   "outputs": [],
   "source": [
    "df_var['v_pos'] =  [0 if pd.isna(x) else (-1 if x < 0 else 1) for x in df_var['v_x']]\n",
    "df_var.datetime = pd.to_datetime(df_var.datetime)\n",
    "print(df_var.columns)\n",
    "df_var"
   ]
  },
  {
   "cell_type": "code",
   "execution_count": null,
   "metadata": {},
   "outputs": [],
   "source": [
    "plt.figure(figsize=(20, 10))\n",
    "\n",
    "sns.histplot(\n",
    "    data=df,\n",
    "    x='conditions',\n",
    "    hue='v_pos',\n",
    "    discrete=True,\n",
    "    multiple='dodge',\n",
    "    shrink=0.8\n",
    ")"
   ]
  },
  {
   "cell_type": "code",
   "execution_count": null,
   "metadata": {},
   "outputs": [],
   "source": [
    "conditions = df.conditions.unique()\n",
    "\n",
    "for condition in conditions:\n",
    "    df_temp = df[df.conditions == condition]\n",
    "    print(condition)\n",
    "    print(f'     negative: {len(df_temp[df_temp.v_pos == -1]) / len(df_temp):.2%}')\n",
    "    print(f'          nan: {len(df_temp[df_temp.v_pos == 0]) / len(df_temp):.2%}')\n",
    "    print(f'  nonnegative: {len(df_temp[df_temp.v_pos == 1]) / len(df_temp):.2%}')"
   ]
  },
  {
   "cell_type": "code",
   "execution_count": null,
   "metadata": {},
   "outputs": [],
   "source": [
    "sns.histplot(\n",
    "    data=df[df.v_x >= 0],\n",
    "    x='cloudcover',\n",
    "    y='velocity'\n",
    ")"
   ]
  },
  {
   "cell_type": "code",
   "execution_count": null,
   "metadata": {},
   "outputs": [],
   "source": [
    "sns.scatterplot(\n",
    "    data=df,\n",
    "    x='datetime',\n",
    "    y='velocity',\n",
    ")"
   ]
  },
  {
   "cell_type": "code",
   "execution_count": null,
   "metadata": {},
   "outputs": [],
   "source": [
    "sns.histplot(\n",
    "    data=df,\n",
    "    x='v_pos',\n",
    "    hue='conditions',\n",
    "    discrete=True,\n",
    "    shrink=0.8,\n",
    "    multiple='dodge'\n",
    ")"
   ]
  },
  {
   "cell_type": "code",
   "execution_count": null,
   "metadata": {},
   "outputs": [],
   "source": [
    "plt.figure(figsize=(15, 5))\n",
    "\n",
    "sns.histplot(\n",
    "    data=df,\n",
    "    x='conditions',\n",
    "    hue='v_pos',\n",
    "    discrete=True,\n",
    "    shrink=0.8,\n",
    "    multiple='dodge'\n",
    ")"
   ]
  },
  {
   "cell_type": "code",
   "execution_count": null,
   "metadata": {},
   "outputs": [],
   "source": [
    "df2 = df_var[(df_var.conditions == 'Snow, Rain, Overcast')|(df_var.conditions == 'Snow, Overcast')|(df_var.conditions == 'Snow, Rain, Partially cloudy')]\n",
    "\n",
    "sns.scatterplot(\n",
    "    data=df2,\n",
    "    x='velocity',\n",
    "    y='angle'\n",
    ")\n",
    "plt.show()\n",
    "plt.close()\n",
    "\n",
    "df3 = df_var[df_var.cloudcover == 100]\n",
    "\n",
    "sns.scatterplot(\n",
    "    data=df3,\n",
    "    x='velocity',\n",
    "    y='angle'\n",
    ")\n",
    "plt.show()\n",
    "plt.close()"
   ]
  }
 ],
 "metadata": {
  "kernelspec": {
   "display_name": "pyorc",
   "language": "python",
   "name": "python3"
  },
  "language_info": {
   "codemirror_mode": {
    "name": "ipython",
    "version": 3
   },
   "file_extension": ".py",
   "mimetype": "text/x-python",
   "name": "python",
   "nbconvert_exporter": "python",
   "pygments_lexer": "ipython3",
   "version": "3.12.3"
  }
 },
 "nbformat": 4,
 "nbformat_minor": 2
}
