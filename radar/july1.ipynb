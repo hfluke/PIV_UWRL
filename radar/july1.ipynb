{
 "cells": [
  {
   "cell_type": "code",
   "execution_count": null,
   "metadata": {},
   "outputs": [],
   "source": [
    "import pyorc\n",
    "import numpy as np\n",
    "import pandas as pd\n",
    "import xarray as xr\n",
    "import seaborn as sns\n",
    "import matplotlib.pyplot as plt"
   ]
  },
  {
   "cell_type": "code",
   "execution_count": null,
   "metadata": {},
   "outputs": [],
   "source": [
    "radar = pd.read_csv('july1-test1.csv')\n",
    "print(radar.columns)\n",
    "radar"
   ]
  },
  {
   "cell_type": "code",
   "execution_count": null,
   "metadata": {},
   "outputs": [],
   "source": [
    "print(radar['Time stamp'].dtype)\n",
    "radar['Time stamp']"
   ]
  },
  {
   "cell_type": "code",
   "execution_count": null,
   "metadata": {},
   "outputs": [],
   "source": [
    "radar['Time stamp'] = pd.to_datetime(radar['Time stamp'], format=\"%m/%d/%Y %I:%M\")\n",
    "print(radar['Time stamp'].dtype)\n",
    "radar['Time stamp']"
   ]
  },
  {
   "cell_type": "code",
   "execution_count": null,
   "metadata": {},
   "outputs": [],
   "source": [
    "fig, ax = plt.subplots(2, sharex=True)\n",
    "\n",
    "sns.lineplot(\n",
    "    data=radar,\n",
    "    x='Time stamp',\n",
    "    y=' Average velocity value',\n",
    "    ax = ax[0]\n",
    ")\n",
    "sns.lineplot(\n",
    "    data=radar,\n",
    "    x='Time stamp',\n",
    "    y='Tilt angle value',\n",
    "    ax=ax[1]\n",
    ")"
   ]
  },
  {
   "cell_type": "code",
   "execution_count": null,
   "metadata": {},
   "outputs": [],
   "source": [
    "ds = xr.open_dataset('video_capture_2024-07-01_12-22-37_velocimetry_results.nc')\n",
    "ds = ds.mean(dim=\"time\", keep_attrs=True)\n",
    "\n",
    "df = ds.to_dataframe().reset_index(); ds.close()\n",
    "df['velocity'] = np.sqrt(df.v_x**2 + df.v_y**2)\n",
    "df"
   ]
  },
  {
   "cell_type": "code",
   "execution_count": null,
   "metadata": {},
   "outputs": [],
   "source": [
    "ds = xr.open_dataset('video_capture_2024-07-01_12-22-37_velocimetry_results.nc')\n",
    "\n",
    "ds.velocimetry.mask.corr(inplace=True)\n",
    "ds.velocimetry.mask.minmax(inplace=True)\n",
    "ds.velocimetry.mask.rolling(inplace=True)\n",
    "ds.velocimetry.mask.outliers(inplace=True)\n",
    "ds.velocimetry.mask.variance(inplace=True)\n",
    "ds.velocimetry.mask.angle(angle_tolerance=0.5*np.pi)\n",
    "ds.velocimetry.mask.count(inplace=True)\n",
    "ds.velocimetry.mask.window_mean(wdw=2, inplace=True, tolerance=0.5, reduce_time=True)\n",
    "\n",
    "ds = ds.mean(dim=\"time\", keep_attrs=True)\n",
    "\n",
    "df_post = ds.to_dataframe().reset_index(); ds.close()\n",
    "df_post['velocity'] = np.sqrt(df_post.v_x**2 + df_post.v_y**2)\n",
    "df_post"
   ]
  },
  {
   "cell_type": "code",
   "execution_count": null,
   "metadata": {},
   "outputs": [],
   "source": [
    "print('MEAN VELOCITY')\n",
    "print(f\"{'Radar':<24}: {np.mean(radar[' Average velocity value'])}\")\n",
    "print(f\"{'PyORC':<24}: {np.mean(df['velocity'])}\")\n",
    "print(f\"{'PyORC w/ post-processing':<24}: {np.mean(df_post['velocity'])}\")\n",
    "\n",
    "range = [0,1.5]\n",
    "n=64\n",
    "\n",
    "plt.figure(figsize=(7, 5))\n",
    "\n",
    "sns.histplot(\n",
    "    data=radar,\n",
    "    x=' Average velocity value',\n",
    "    binrange=range,\n",
    "    bins=n,\n",
    "    label='radar'\n",
    ")\n",
    "sns.histplot(\n",
    "    data=df,\n",
    "    x='velocity',\n",
    "    binrange=range,\n",
    "    bins=n,\n",
    "    label='PyORC'\n",
    ")\n",
    "sns.histplot(\n",
    "    data=df_post,\n",
    "    x='velocity',\n",
    "    binrange=range,\n",
    "    bins=n,\n",
    "    label='PyORC w/ post-processing'\n",
    ")\n",
    "\n",
    "plt.xlabel('velocity')\n",
    "plt.legend()"
   ]
  }
 ],
 "metadata": {
  "kernelspec": {
   "display_name": "pyorc",
   "language": "python",
   "name": "python3"
  },
  "language_info": {
   "codemirror_mode": {
    "name": "ipython",
    "version": 3
   },
   "file_extension": ".py",
   "mimetype": "text/x-python",
   "name": "python",
   "nbconvert_exporter": "python",
   "pygments_lexer": "ipython3",
   "version": "3.12.3"
  }
 },
 "nbformat": 4,
 "nbformat_minor": 2
}
