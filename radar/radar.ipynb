{
 "cells": [
  {
   "cell_type": "code",
   "execution_count": 1,
   "metadata": {},
   "outputs": [],
   "source": [
    "import numpy as np\n",
    "import pandas as pd\n",
    "import xarray as xr\n",
    "import seaborn as sns\n",
    "from scipy import stats\n",
    "import matplotlib.pylab as plt"
   ]
  },
  {
   "cell_type": "code",
   "execution_count": 5,
   "metadata": {},
   "outputs": [
    {
     "data": {
      "text/plain": [
       "Index(['Time stamp', ' Average velocity value', 'Average velocity unit',\n",
       "       'Flow direction value', 'Flow direction unit', 'Average SNR value',\n",
       "       'Average SNR unit', 'Tilt angle value', 'Tilt angle unit'],\n",
       "      dtype='object')"
      ]
     },
     "execution_count": 5,
     "metadata": {},
     "output_type": "execute_result"
    }
   ],
   "source": [
    "df_rad = pd.read_csv('test1.csv')\n",
    "# df_vec = xr.open_dataset('video_capture_2024-07-01_12-22-37_velocimetry_results_bounded.nc')\n",
    "df_vec = xr.open_dataset('video_capture_2024-07-01_12-22-37_velocimetry_results.nc')\n",
    "df_vec = df_vec.to_dataframe().reset_index()\n",
    "df_vec"
   ]
  },
  {
   "cell_type": "code",
   "execution_count": 3,
   "metadata": {},
   "outputs": [
    {
     "name": "stdout",
     "output_type": "stream",
     "text": [
      "Average velocity: 1.200099502487562\n",
      "        Variance: 0.005492527412687801\n",
      "               n: 2010\n"
     ]
    },
    {
     "data": {
      "text/plain": [
       "<Axes: xlabel=' Average velocity value', ylabel='Count'>"
      ]
     },
     "execution_count": 3,
     "metadata": {},
     "output_type": "execute_result"
    },
    {
     "data": {
      "image/png": "[encoded data removed]",
      "text/plain": [
       "<Figure size 640x480 with 1 Axes>"
      ]
     },
     "metadata": {},
     "output_type": "display_data"
    }
   ],
   "source": [
    "print(f\"Average velocity: {np.mean(df_rad[' Average velocity value'])}\")\n",
    "print(f\"        Variance: {np.var(df_rad[' Average velocity value'])}\")\n",
    "print(f\"               n: {len(df_rad[' Average velocity value'])}\")\n",
    "\n",
    "sns.histplot(\n",
    "    data=df_rad,\n",
    "    x=' Average velocity value'\n",
    ")"
   ]
  },
  {
   "cell_type": "code",
   "execution_count": null,
   "metadata": {},
   "outputs": [],
   "source": [
    "print(f\"Average velocity: {np.mean(df_vec.v_len)}\")\n",
    "print(f\"        Variance: {np.var(df_vec.v_len)}\")\n",
    "print(f\"               n: {len(df_vec.v_len)}\")\n",
    "\n",
    "sns.histplot(\n",
    "    data=df_vec,\n",
    "    x='v_len',\n",
    "    bins=64\n",
    ")"
   ]
  },
  {
   "cell_type": "code",
   "execution_count": null,
   "metadata": {},
   "outputs": [],
   "source": [
    "df_vec = df_vec[df_vec.v_len >= 0.1]\n",
    "\n",
    "print(f\"Average velocity: {np.mean(df_vec.v_len)}\")\n",
    "print(f\"        Variance: {np.var(df_vec.v_len)}\")\n",
    "print(f\"               n: {len(df_vec.v_len)}\")\n",
    "\n",
    "sns.histplot(\n",
    "    data=df_vec,\n",
    "    x='v_len',\n",
    "    bins=64\n",
    ")"
   ]
  },
  {
   "cell_type": "code",
   "execution_count": null,
   "metadata": {},
   "outputs": [],
   "source": [
    "magnitudes = []\n",
    "for i in range(5):\n",
    "    magnitudes.append(np.mean(df_vec[df_vec.spacial_location == i].v_len))\n",
    "index = magnitudes.index(max(magnitudes))\n",
    "df_vec_sl = df_vec[df_vec.spacial_location == index]\n",
    "\n",
    "print(f\"Spacial location: {index}\")\n",
    "print(f\"Average velocity: {np.mean(df_vec_sl.v_len)}\")\n",
    "print(f\"        Variance: {np.var(df_vec_sl.v_len)}\")\n",
    "print(f\"               n: {len(df_vec_sl.v_len)}\")\n",
    "\n",
    "sns.histplot(\n",
    "    data=df_vec_sl,\n",
    "    x='v_len',\n",
    "    bins=64\n",
    ")\n",
    "plt.show()"
   ]
  },
  {
   "cell_type": "code",
   "execution_count": null,
   "metadata": {},
   "outputs": [],
   "source": [
    "np.random.seed(0)\n",
    "n = 100\n",
    "\n",
    "rad_samp = np.random.choice(\n",
    "    np.array(df_rad[' Average velocity value']),\n",
    "    n,\n",
    "    replace=False\n",
    ")\n",
    "\n",
    "print('Radar')\n",
    "print('--------------------------------')\n",
    "print(f\"    Mean: {np.mean(rad_samp)}\")\n",
    "print(f\"Variance: {np.var(rad_samp)}\")\n",
    "print()\n",
    "\n",
    "vec_samp = np.random.choice(\n",
    "    np.array(df_vec_sl.v_len),\n",
    "    n,\n",
    "    replace=False\n",
    ")\n",
    "\n",
    "print('PyORC')\n",
    "print('--------------------------------')\n",
    "print(f\"    Mean: {np.mean(vec_samp)}\")\n",
    "print(f\"Variance: {np.var(vec_samp)}\")\n",
    "print()\n"
   ]
  },
  {
   "cell_type": "code",
   "execution_count": null,
   "metadata": {},
   "outputs": [],
   "source": [
    "t_stat, p_value = stats.ttest_ind(rad_samp, vec_samp, equal_var=False)\n",
    "\n",
    "print(f\"t-statistic: {t_stat}\")\n",
    "print(f\"p-value: {p_value}\")"
   ]
  },
  {
   "cell_type": "code",
   "execution_count": null,
   "metadata": {},
   "outputs": [],
   "source": [
    "df = xr.open_dataset('video_capture_2024-07-01_12-22-37_velocimetry_results.nc').to_dataframe().reset_index()\n",
    "\n",
    "for x in df.x.unique():\n",
    "    sns.histplot(\n",
    "        data=df[df.x == x],\n",
    "        x='v_len'\n",
    "    )\n",
    "    plt.show()\n",
    "    plt.clf()"
   ]
  }
 ],
 "metadata": {
  "kernelspec": {
   "display_name": "pyorc",
   "language": "python",
   "name": "python3"
  },
  "language_info": {
   "codemirror_mode": {
    "name": "ipython",
    "version": 3
   },
   "file_extension": ".py",
   "mimetype": "text/x-python",
   "name": "python",
   "nbconvert_exporter": "python",
   "pygments_lexer": "ipython3",
   "version": "3.12.3"
  }
 },
 "nbformat": 4,
 "nbformat_minor": 2
}
