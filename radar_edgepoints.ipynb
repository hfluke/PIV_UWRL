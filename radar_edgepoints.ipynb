{
 "cells": [
  {
   "cell_type": "code",
   "execution_count": 13,
   "metadata": {},
   "outputs": [],
   "source": [
    "import numpy as np"
   ]
  },
  {
   "cell_type": "code",
   "execution_count": 14,
   "metadata": {},
   "outputs": [],
   "source": [
    "# meters, degrees\n",
    "angle = 45\n",
    "theta = np.radians(angle) \n",
    "height = 3.66\n",
    "vert = height / np.tan(theta)\n",
    "dist = np.sqrt(height**2 + vert**2)"
   ]
  },
  {
   "cell_type": "code",
   "execution_count": 29,
   "metadata": {},
   "outputs": [
    {
     "data": {
      "text/plain": [
       "(3.66, 9.534625976779317, 1.4049423682296214, 1.1001973625636068)"
      ]
     },
     "execution_count": 29,
     "metadata": {},
     "output_type": "execute_result"
    }
   ],
   "source": [
    "upstream = height / np.tan(theta - np.radians(24))\n",
    "downstream = height / np.tan(theta + np.radians(24))\n",
    "delta_width = dist * np.tan(np.radians(12))\n",
    "\n",
    "vert, upstream, downstream, delta_width"
   ]
  },
  {
   "cell_type": "code",
   "execution_count": 33,
   "metadata": {},
   "outputs": [
    {
     "data": {
      "text/plain": [
       "(1.8630154068672835, -4.8533210637860345)"
      ]
     },
     "execution_count": 33,
     "metadata": {},
     "output_type": "execute_result"
    }
   ],
   "source": [
    "a_d = (vert - downstream) / delta_width**2\n",
    "a_u = (vert - upstream) / delta_width**2\n",
    "a_d, a_u"
   ]
  }
 ],
 "metadata": {
  "kernelspec": {
   "display_name": "pyorc",
   "language": "python",
   "name": "python3"
  },
  "language_info": {
   "codemirror_mode": {
    "name": "ipython",
    "version": 3
   },
   "file_extension": ".py",
   "mimetype": "text/x-python",
   "name": "python",
   "nbconvert_exporter": "python",
   "pygments_lexer": "ipython3",
   "version": "3.12.3"
  }
 },
 "nbformat": 4,
 "nbformat_minor": 2
}
