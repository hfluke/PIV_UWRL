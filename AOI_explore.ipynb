{
 "cells": [
  {
   "cell_type": "code",
   "execution_count": null,
   "metadata": {},
   "outputs": [],
   "source": [
    "import pandas as pd\n",
    "import numpy as np\n",
    "import seaborn as sns\n",
    "import matplotlib.pyplot as plt"
   ]
  },
  {
   "cell_type": "code",
   "execution_count": null,
   "metadata": {},
   "outputs": [],
   "source": [
    "df = pd.read_csv('AOI_bounded.csv')[[\n",
    "    'datetime', 'x', 'y', 'v_x', 'v_y', 'v_len', 'sun_altitude',\n",
    "    'sun_azimuth', 'spacial_location', 'turbidity', 'LRO_discharge',\n",
    "    'LRO_discharge_site', 'vegetation', 'visibility', 'cloudcover',\n",
    "    'solarradiation', 'uvindex', 'conditions', 'AOI'\n",
    "]]\n",
    "df"
   ]
  },
  {
   "cell_type": "code",
   "execution_count": null,
   "metadata": {},
   "outputs": [],
   "source": [
    "sns.histplot(\n",
    "    data=df[df.v_len >= 0.1],\n",
    "    x='v_len',\n",
    "    hue='AOI',\n",
    "    bins=64\n",
    ")"
   ]
  },
  {
   "cell_type": "code",
   "execution_count": null,
   "metadata": {},
   "outputs": [],
   "source": [
    "sns.histplot(\n",
    "    # data=df[df.v_len >= 0.1],\n",
    "    data=df[df.AOI == 'original'],\n",
    "    x='v_len',\n",
    "    hue='AOI',\n",
    "    bins=64\n",
    ")\n",
    "plt.xlim(-0.75, 1.75)"
   ]
  },
  {
   "cell_type": "code",
   "execution_count": null,
   "metadata": {},
   "outputs": [],
   "source": [
    "print(np.mean(df[df.AOI == 'original'].v_len))\n",
    "print(np.mean(df[df.AOI == 'new'].v_len))"
   ]
  }
 ],
 "metadata": {
  "kernelspec": {
   "display_name": "pyorc",
   "language": "python",
   "name": "python3"
  },
  "language_info": {
   "codemirror_mode": {
    "name": "ipython",
    "version": 3
   },
   "file_extension": ".py",
   "mimetype": "text/x-python",
   "name": "python",
   "nbconvert_exporter": "python",
   "pygments_lexer": "ipython3",
   "version": "3.12.3"
  }
 },
 "nbformat": 4,
 "nbformat_minor": 2
}
