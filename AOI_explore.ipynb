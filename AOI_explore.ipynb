{
 "cells": [
  {
   "cell_type": "code",
   "execution_count": null,
   "metadata": {},
   "outputs": [],
   "source": [
    "import pandas as pd\n",
    "import numpy as np\n",
    "import seaborn as sns\n",
    "import matplotlib.pyplot as plt"
   ]
  },
  {
   "cell_type": "code",
   "execution_count": null,
   "metadata": {},
   "outputs": [],
   "source": [
    "df = pd.read_csv('AOI_bounded.csv')[[\n",
    "    'datetime', 'x', 'y', 'v_x', 'v_y', 'v_len', 'sun_altitude',\n",
    "    'sun_azimuth', 'spacial_location', 'turbidity', 'LRO_discharge',\n",
    "    'LRO_discharge_site', 'vegetation', 'visibility', 'cloudcover',\n",
    "    'solarradiation', 'uvindex', 'conditions', 'AOI'\n",
    "]]\n",
    "# df"
   ]
  },
  {
   "cell_type": "code",
   "execution_count": 24,
   "metadata": {},
   "outputs": [],
   "source": [
    "aoi = pd.read_csv('AOI_analysis.csv')\n",
    "aoi['datetime'] = [row.video.split('.')[0].split('_', maxsplit=2)[-1] for index, row in aoi.iterrows()]\n",
    "aoi.datetime = pd.to_datetime(aoi.datetime, format='%Y-%m-%d_%H-%M-%S')\n",
    "# aoi"
   ]
  },
  {
   "cell_type": "code",
   "execution_count": 25,
   "metadata": {},
   "outputs": [
    {
     "data": {
      "text/plain": [
       "<Axes: xlabel='v_len', ylabel='Count'>"
      ]
     },
     "execution_count": 25,
     "metadata": {},
     "output_type": "execute_result"
    },
    {
     "data": {
      "image/png": "[encoded data removed]",
      "text/plain": [
       "<Figure size 640x480 with 1 Axes>"
      ]
     },
     "metadata": {},
     "output_type": "display_data"
    }
   ],
   "source": [
    "sns.histplot(\n",
    "    data=df[df.v_len >= 0.1],\n",
    "    x='v_len',\n",
    "    hue='AOI',\n",
    "    bins=64\n",
    ")"
   ]
  },
  {
   "cell_type": "code",
   "execution_count": null,
   "metadata": {},
   "outputs": [],
   "source": [
    "# sns.histplot(\n",
    "#     # data=df[df.v_len >= 0.1],\n",
    "#     data=df[df.AOI == 'original'],\n",
    "#     x='v_len',\n",
    "#     hue='AOI',\n",
    "#     bins=64\n",
    "# )\n",
    "# plt.xlim(-0.75, 1.75)"
   ]
  },
  {
   "cell_type": "code",
   "execution_count": 30,
   "metadata": {},
   "outputs": [
    {
     "name": "stdout",
     "output_type": "stream",
     "text": [
      "2024-01-01 07:51:43\n",
      "original mean v_len: 0.22029952410414508\n",
      " bounded mean v_len: 0.22856515713724998\n",
      "area ratio (new to old): 0.7995320808224033\n",
      "\n",
      "2024-01-03 08:19:59\n",
      "original mean v_len: 0.24338939358338604\n",
      " bounded mean v_len: 0.24802877664765102\n",
      "area ratio (new to old): 0.7995320808224033\n",
      "\n",
      "2024-01-05 08:46:21\n",
      "original mean v_len: 0.2139954284780054\n",
      " bounded mean v_len: 0.21290689085170206\n",
      "area ratio (new to old): 0.7995320808224033\n",
      "\n",
      "2024-01-07 08:37:26\n",
      "original mean v_len: 0.2743866024412445\n",
      " bounded mean v_len: 0.2796052531112326\n",
      "area ratio (new to old): 0.7995320808224033\n",
      "\n",
      "2024-02-02 07:44:13\n",
      "original mean v_len: 0.18423763857043512\n",
      " bounded mean v_len: 0.18709930928510338\n",
      "area ratio (new to old): 0.7995320808224033\n",
      "\n",
      "2024-02-03 17:22:03\n",
      "original mean v_len: 0.2061953878567588\n",
      " bounded mean v_len: 0.20517158197002838\n",
      "area ratio (new to old): 0.7995320808224033\n",
      "\n",
      "2024-02-05 15:45:23\n",
      "original mean v_len: 0.21093161887425504\n",
      " bounded mean v_len: 0.2049567192800131\n",
      "area ratio (new to old): 0.7995320808224033\n",
      "\n",
      "2024-02-07 14:41:34\n",
      "original mean v_len: 0.14426690014962937\n",
      " bounded mean v_len: 0.13526971473206198\n",
      "area ratio (new to old): 0.7995320808224033\n",
      "\n",
      "2024-03-02 11:51:30\n",
      "original mean v_len: 0.2994505217730933\n",
      " bounded mean v_len: 0.3064782503704243\n",
      "area ratio (new to old): 0.7995320808224033\n",
      "\n",
      "2024-03-04 07:14:22\n",
      "original mean v_len: 0.263360390016131\n",
      " bounded mean v_len: 0.2662250969158404\n",
      "area ratio (new to old): 0.7995320808224033\n",
      "\n",
      "2024-03-05 15:23:47\n",
      "original mean v_len: 0.1994171207727415\n",
      " bounded mean v_len: 0.19794249967477018\n",
      "area ratio (new to old): 0.7995320808224033\n",
      "\n",
      "2024-03-07 11:06:11\n",
      "original mean v_len: 0.2509876020014161\n",
      " bounded mean v_len: 0.2538433672922574\n",
      "area ratio (new to old): 0.7995320808224033\n",
      "\n",
      "2024-04-10 18:31:05\n",
      "original mean v_len: 0.37445953530834986\n",
      " bounded mean v_len: 0.3813385086342157\n",
      "area ratio (new to old): 0.828934015293462\n",
      "\n",
      "2024-04-12 10:57:57\n",
      "original mean v_len: 0.2192291912504925\n",
      " bounded mean v_len: 0.22250265733450394\n",
      "area ratio (new to old): 0.828934015293462\n",
      "\n",
      "2024-04-13 17:06:03\n",
      "original mean v_len: 0.29861600807865996\n",
      " bounded mean v_len: 0.30037749448163437\n",
      "area ratio (new to old): 0.828934015293462\n",
      "\n",
      "2024-04-15 08:49:30\n",
      "original mean v_len: 0.382712348525564\n",
      " bounded mean v_len: 0.38001400019447246\n",
      "area ratio (new to old): 0.828934015293462\n",
      "\n",
      "2024-04-16 14:53:00\n",
      "original mean v_len: 0.36968561571126274\n",
      " bounded mean v_len: 0.3584925121377001\n",
      "area ratio (new to old): 0.828934015293462\n",
      "\n",
      "2024-05-02 05:43:13\n",
      "original mean v_len: 0.41904844625038934\n",
      " bounded mean v_len: 0.37685301929526965\n",
      "area ratio (new to old): 0.9020479060110392\n",
      "\n",
      "2024-05-18 10:48:40\n",
      "original mean v_len: 0.18393369409126825\n",
      " bounded mean v_len: 0.17642348677514288\n",
      "area ratio (new to old): 0.9020479060110392\n",
      "\n",
      "2024-05-19 15:25:45\n",
      "original mean v_len: 0.2936024197313449\n",
      " bounded mean v_len: 0.26112188174337186\n",
      "area ratio (new to old): 0.9020479060110392\n",
      "\n",
      "2024-06-02 07:59:20\n",
      "original mean v_len: 0.3311786626170714\n",
      " bounded mean v_len: 0.4615872441920073\n",
      "area ratio (new to old): 0.16932597356560497\n",
      "\n",
      "2024-06-03 12:31:27\n",
      "original mean v_len: 0.3585534089058435\n",
      " bounded mean v_len: 0.4909119846101714\n",
      "area ratio (new to old): 0.16932597356560497\n",
      "\n",
      "2024-06-04 16:55:50\n",
      "original mean v_len: 0.18993973097637293\n",
      " bounded mean v_len: 0.3117080248278319\n",
      "area ratio (new to old): 0.16932597356560497\n",
      "\n",
      "2024-06-06 05:20:28\n",
      "original mean v_len: 0.3880013628812829\n",
      " bounded mean v_len: 0.6167415519405375\n",
      "area ratio (new to old): 0.16932597356560497\n",
      "\n"
     ]
    }
   ],
   "source": [
    "for timestamp in sorted(df.datetime.unique()):\n",
    "    print(timestamp)\n",
    "    print(f\"original mean v_len: {np.mean(df[(df.datetime == timestamp) & (df.AOI == 'original')].v_len)}\")\n",
    "    print(f\" bounded mean v_len: {np.mean(df[(df.datetime == timestamp) & (df.AOI == 'new')].v_len)}\")\n",
    "    # display(aoi[aoi.datetime == timestamp])\n",
    "    print(f\"area ratio (new to old): {aoi[aoi.datetime == timestamp].new_AOI_area.values[0] / aoi[aoi.datetime == timestamp].original_AOI_area.values[0]}\")\n",
    "    print()"
   ]
  }
 ],
 "metadata": {
  "kernelspec": {
   "display_name": "pyorc",
   "language": "python",
   "name": "python3"
  },
  "language_info": {
   "codemirror_mode": {
    "name": "ipython",
    "version": 3
   },
   "file_extension": ".py",
   "mimetype": "text/x-python",
   "name": "python",
   "nbconvert_exporter": "python",
   "pygments_lexer": "ipython3",
   "version": "3.12.3"
  }
 },
 "nbformat": 4,
 "nbformat_minor": 2
}
