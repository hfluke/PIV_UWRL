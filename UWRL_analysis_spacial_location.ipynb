{
 "cells": [
  {
   "cell_type": "code",
   "execution_count": null,
   "metadata": {},
   "outputs": [],
   "source": [
    "import pandas as pd\n",
    "import numpy as np\n",
    "import seaborn as sns\n",
    "import matplotlib.pyplot as plt"
   ]
  },
  {
   "cell_type": "code",
   "execution_count": null,
   "metadata": {},
   "outputs": [],
   "source": [
    "df = pd.read_csv('UWRL_river_velocimetry_dataset.csv')"
   ]
  },
  {
   "cell_type": "code",
   "execution_count": null,
   "metadata": {},
   "outputs": [],
   "source": [
    "df['v_pos'] =  [0 if pd.isna(x) else (-1 if x < 0 else 1) for x in df['v_x']]\n",
    "df.datetime = pd.to_datetime(df.datetime)\n",
    "print(df.columns)\n",
    "df"
   ]
  },
  {
   "cell_type": "code",
   "execution_count": null,
   "metadata": {},
   "outputs": [],
   "source": [
    "df['year'] = [int(x.year) for x in df.datetime]\n",
    "df['month'] = [int(x.month) for x in df.datetime]\n",
    "df['day'] = [int(x.day) for x in df.datetime]\n",
    "df['hour'] = [int(x.hour) for x in df.datetime]"
   ]
  },
  {
   "cell_type": "code",
   "execution_count": null,
   "metadata": {},
   "outputs": [],
   "source": [
    "sunrise, sunset = [], []\n",
    "for month in sorted(df.month.unique()):\n",
    "    df_month = df[df.month == month]\n",
    "\n",
    "    for day in sorted(df_month.day.unique()):\n",
    "        df_day = df_month[df_month.day == day]\n",
    "\n",
    "        times_sorted = sorted(df_day.datetime.unique())\n",
    "\n",
    "        sunrise.append(times_sorted.pop(0))\n",
    "        try:\n",
    "            sunset.append(times_sorted.pop(-1))\n",
    "        except:\n",
    "            continue\n",
    "\n",
    "df['sunrise_sunset'] = ['sunrise' if x in sunrise else 'sunset' if x in sunset else 'no' for x in df.datetime]"
   ]
  },
  {
   "cell_type": "code",
   "execution_count": null,
   "metadata": {},
   "outputs": [],
   "source": [
    "df_ss = df.groupby(['sunrise_sunset', 'spacial_location', 'v_pos']).size().reset_index(name='counts')\n",
    "\n",
    "for x in df_ss.sunrise_sunset.unique():\n",
    "\n",
    "    print(x)\n",
    "\n",
    "    sns.barplot(\n",
    "        data=df_ss[df_ss.sunrise_sunset == x],\n",
    "        x='spacial_location',\n",
    "        y='counts',\n",
    "        hue='v_pos'\n",
    "    )\n",
    "    plt.legend(labels=['downstream', 'NaN', 'upstream'], bbox_to_anchor=(1.05, 1), loc='upper left')\n",
    "    plt.show()\n",
    "    plt.close()\n"
   ]
  },
  {
   "cell_type": "code",
   "execution_count": null,
   "metadata": {},
   "outputs": [],
   "source": [
    "df_cond = df.groupby(['conditions', 'spacial_location', 'v_pos']).size().reset_index(name='counts')\n",
    "\n",
    "for x in df_cond.conditions.unique():\n",
    "\n",
    "    print(x)\n",
    "\n",
    "    sns.barplot(\n",
    "        data=df_cond[df_cond.conditions == x],\n",
    "        x='spacial_location',\n",
    "        y='counts',\n",
    "        hue='v_pos'\n",
    "    )\n",
    "    plt.legend(labels=['downstream', 'NaN', 'upstream'], bbox_to_anchor=(1.05, 1), loc='upper left')\n",
    "    plt.show()\n",
    "    plt.close()\n"
   ]
  }
 ],
 "metadata": {
  "kernelspec": {
   "display_name": "pyorc",
   "language": "python",
   "name": "python3"
  },
  "language_info": {
   "codemirror_mode": {
    "name": "ipython",
    "version": 3
   },
   "file_extension": ".py",
   "mimetype": "text/x-python",
   "name": "python",
   "nbconvert_exporter": "python",
   "pygments_lexer": "ipython3",
   "version": "3.12.3"
  }
 },
 "nbformat": 4,
 "nbformat_minor": 2
}
