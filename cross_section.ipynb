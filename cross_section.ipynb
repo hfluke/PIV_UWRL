{
 "cells": [
  {
   "cell_type": "code",
   "execution_count": null,
   "metadata": {},
   "outputs": [],
   "source": [
    "import pandas as pd\n",
    "import numpy as np\n",
    "import seaborn as sns\n",
    "import matplotlib.pyplot as plt"
   ]
  },
  {
   "cell_type": "code",
   "execution_count": null,
   "metadata": {},
   "outputs": [],
   "source": [
    "df = pd.read_csv('temp2_UWRL_river_velocimetry_dataset.csv')\n",
    "df.datetime = pd.to_datetime(df.datetime)\n",
    "print(df.columns)\n",
    "df"
   ]
  },
  {
   "cell_type": "code",
   "execution_count": null,
   "metadata": {},
   "outputs": [],
   "source": [
    "# takes 7 min to run; could optimize...\n",
    "df['angle_avg_byloc'] = np.nan\n",
    "\n",
    "for timestamp in sorted(df.datetime.unique()):\n",
    "    # for x in sorted(df.x.unique()):\n",
    "    for i in range(5):\n",
    "        # angle_avg = df[(df.datetime == timestamp) & (df.x == x) & (df.spacial_location == i)].angle.mean()\n",
    "        # df.loc[(df.datetime == timestamp) & (df.x == x) & (df.spacial_location == i), 'angle_avg_byloc'] = angle_avg\n",
    "        angle_avg = df[(df.datetime == timestamp) & (df.x == 10.035) & (df.spacial_location == i)].angle.mean()\n",
    "        df.loc[(df.datetime == timestamp) & (df.x == 10.035) & (df.spacial_location == i), 'angle_avg_byloc'] = angle_avg\n",
    "\n",
    "df"
   ]
  },
  {
   "cell_type": "code",
   "execution_count": null,
   "metadata": {},
   "outputs": [],
   "source": [
    "df_cleaned = df.copy()\n",
    "df_cleaned = df_cleaned[df_cleaned.cloudcover == 0]\n",
    "df_cleaned = df_cleaned[df_cleaned.v_x >= 0]\n",
    "len(df_cleaned)"
   ]
  },
  {
   "cell_type": "code",
   "execution_count": null,
   "metadata": {},
   "outputs": [],
   "source": [
    "np.random.seed(0)\n",
    "indices = np.random.randint(0, len(df_cleaned.datetime.unique()), 10)\n",
    "timestamps = np.array(sorted(df_cleaned.datetime.unique()))[indices]\n",
    "\n",
    "df_samp = df_cleaned[df_cleaned.datetime.isin(timestamps)]"
   ]
  },
  {
   "cell_type": "code",
   "execution_count": null,
   "metadata": {},
   "outputs": [],
   "source": [
    "for dt in sorted(df_samp.datetime.unique()):\n",
    "    df_i = df_samp[(df_samp.datetime == dt) & (df_samp.x == 10.035)]\n",
    "\n",
    "    sns.lineplot(\n",
    "        data=df_i,\n",
    "        x='y',\n",
    "        y='angle',\n",
    "        label='angle'\n",
    "    )\n",
    "    sns.lineplot(\n",
    "        data=df_i,\n",
    "        x='y',\n",
    "        y='angle_var',\n",
    "        label='variance'\n",
    "    )\n",
    "    # sns.lineplot(\n",
    "    #     data=df_i,\n",
    "    #     x='y',\n",
    "    #     y='v_len',\n",
    "    #     label='magnitude'\n",
    "    # )\n",
    "    plt.xlabel('Bank to Bank Location (left to right looking upstream)')\n",
    "    plt.ylabel(None)\n",
    "    plt.title(f'{dt}        x=10.035')\n",
    "    plt.legend(loc='center left', bbox_to_anchor=(1, 0.5))\n",
    "    plt.show()\n",
    "    plt.clf()"
   ]
  },
  {
   "cell_type": "code",
   "execution_count": null,
   "metadata": {},
   "outputs": [],
   "source": [
    "for dt in sorted(df_samp.datetime.unique()):\n",
    "    df_i = df_samp[(df_samp.datetime == dt) & (df_samp.x == 10.035)]\n",
    "\n",
    "    sns.lineplot(\n",
    "        data=df_i,\n",
    "        x='y',\n",
    "        y='angle',\n",
    "        label='angle'\n",
    "    )\n",
    "    sns.lineplot(\n",
    "        data=df_i,\n",
    "        x='y',\n",
    "        y='angle_avg_byloc',\n",
    "        label='average angle'\n",
    "    )\n",
    "    plt.xlabel('Bank to Bank Location (left to right looking upstream)')\n",
    "    plt.ylabel(None)\n",
    "    plt.title(f'{dt}        x=10.035')\n",
    "    plt.legend(loc='center left', bbox_to_anchor=(1, 0.5))\n",
    "    plt.show()\n",
    "    plt.clf()"
   ]
  }
 ],
 "metadata": {
  "kernelspec": {
   "display_name": "pyorc",
   "language": "python",
   "name": "python3"
  },
  "language_info": {
   "codemirror_mode": {
    "name": "ipython",
    "version": 3
   },
   "file_extension": ".py",
   "mimetype": "text/x-python",
   "name": "python",
   "nbconvert_exporter": "python",
   "pygments_lexer": "ipython3",
   "version": "3.12.3"
  }
 },
 "nbformat": 4,
 "nbformat_minor": 2
}
