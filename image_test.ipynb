{
 "cells": [
  {
   "cell_type": "code",
   "execution_count": null,
   "metadata": {},
   "outputs": [],
   "source": [
    "import matplotlib.pyplot as plt\n",
    "import matplotlib.image as mpimg\n",
    "import numpy as np"
   ]
  },
  {
   "cell_type": "code",
   "execution_count": null,
   "metadata": {},
   "outputs": [],
   "source": [
    "images = [\n",
    "    'images/video_capture_2024-01-01_07-51-43_velocimetry_results.png',\n",
    "    'images/video_capture_2024-02-01_07-32-05_velocimetry_results.png',\n",
    "    'images/video_capture_2024-03-01_07-09-41_velocimetry_results.png',\n",
    "    'images/video_capture_2024-04-10_06-06-11_velocimetry_results.png',\n",
    "    'images/video_capture_2024-05-01_05-34-25_velocimetry_results.png'\n",
    "]"
   ]
  },
  {
   "cell_type": "code",
   "execution_count": null,
   "metadata": {},
   "outputs": [],
   "source": [
    "def overlay_grid(image):\n",
    "   \n",
    "    grid_size_small = 20\n",
    "    grid_size_med = 100\n",
    "    grid_size_large = 500\n",
    "\n",
    "    img = mpimg.imread(image)\n",
    "    img = img[:(img.shape[0]//7), 5*(img.shape[1]//9):6*(img.shape[1]//9)]\n",
    "\n",
    "    height, width, _ = img.shape\n",
    "\n",
    "    fig, ax = plt.subplots()\n",
    "    ax.imshow(img)\n",
    "\n",
    "    x_ticks = np.arange(0, width, grid_size_small)\n",
    "    y_ticks = np.arange(0, height, grid_size_small)\n",
    "    for x in x_ticks:\n",
    "        ax.axvline(x=x, color='c', linestyle='-', linewidth=0.5)\n",
    "    for y in y_ticks:\n",
    "        ax.axhline(y=y, color='c', linestyle='-', linewidth=0.5)\n",
    "\n",
    "    x_ticks = np.arange(0, width, grid_size_med)\n",
    "    y_ticks = np.arange(0, height, grid_size_med)\n",
    "    for x in x_ticks:\n",
    "        ax.axvline(x=x, color='b', linestyle='-', linewidth=1)\n",
    "    for y in y_ticks:\n",
    "        ax.axhline(y=y, color='b', linestyle='-', linewidth=1)\n",
    "\n",
    "    x_ticks = np.arange(0, width, grid_size_large)\n",
    "    y_ticks = np.arange(0, height, grid_size_large)\n",
    "    for x in x_ticks:\n",
    "        ax.axvline(x=x, color='r', linestyle='-', linewidth=2)\n",
    "    for y in y_ticks:\n",
    "        ax.axhline(y=y, color='r', linestyle='-', linewidth=2)\n",
    "\n",
    "    plt.show()\n",
    "    plt.close()"
   ]
  },
  {
   "cell_type": "code",
   "execution_count": null,
   "metadata": {},
   "outputs": [],
   "source": [
    "for image in images:\n",
    "    overlay_grid(image)"
   ]
  }
 ],
 "metadata": {
  "kernelspec": {
   "display_name": "pyorc",
   "language": "python",
   "name": "python3"
  },
  "language_info": {
   "codemirror_mode": {
    "name": "ipython",
    "version": 3
   },
   "file_extension": ".py",
   "mimetype": "text/x-python",
   "name": "python",
   "nbconvert_exporter": "python",
   "pygments_lexer": "ipython3",
   "version": "3.12.3"
  }
 },
 "nbformat": 4,
 "nbformat_minor": 2
}
