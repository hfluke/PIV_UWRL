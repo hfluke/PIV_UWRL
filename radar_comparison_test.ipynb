{
 "cells": [
  {
   "cell_type": "code",
   "execution_count": 1,
   "metadata": {},
   "outputs": [],
   "source": [
    "import pyorc\n",
    "import numpy as np\n",
    "import pandas as pd\n",
    "import xarray as xr\n",
    "import seaborn as sns\n",
    "from glob import glob\n",
    "from Radar import Radar\n",
    "import matplotlib.pyplot as plt\n",
    "from datetime import datetime as dt\n",
    "from matplotlib.colors import Normalize"
   ]
  },
  {
   "cell_type": "code",
   "execution_count": 2,
   "metadata": {},
   "outputs": [],
   "source": [
    "# videos = []\n",
    "# for video in sorted(glob(\"*.mp4\", root_dir=f\"Videos/\")):\n",
    "#     video not in analyzed and videos.append(video)\n",
    "dates = [\n",
    "    \"2024-09-12_12-00-04\",\n",
    "    \"2024-09-12_13-00-08\",\n",
    "    \"2024-09-12_14-00-08\",\n",
    "    \"2024-09-12_15-00-07\",\n",
    "    \"2024-09-12_16-00-07\"\n",
    "]"
   ]
  },
  {
   "cell_type": "code",
   "execution_count": 3,
   "metadata": {},
   "outputs": [],
   "source": [
    "date = dates.pop(0)"
   ]
  },
  {
   "cell_type": "code",
   "execution_count": 4,
   "metadata": {},
   "outputs": [],
   "source": [
    "df = pd.read_csv(\"RSS_Data_October21.txt\")[[\n",
    "    'TIMESTAMP', 'Average_velocity', 'Tilt_angle_value'\n",
    "]]\n",
    "df.TIMESTAMP = pd.to_datetime(df.TIMESTAMP)\n",
    "df.Average_velocity = df.Average_velocity / 1000\n",
    "# df"
   ]
  },
  {
   "cell_type": "code",
   "execution_count": 5,
   "metadata": {},
   "outputs": [],
   "source": [
    "cam = pd.read_csv(f\"Results/video_capture_{date}_radar_results.csv\")[[\n",
    "    'time', 'y', 'x', 'v_x', 'v_y', 's2n', 'corr', 'xp', 'yp', 'xs', 'ys'    \n",
    "]]\n",
    "cam['velocity'] = np.sqrt(cam.v_x**2 + cam.v_y**2)\n",
    "cam['datetime'] = dt(2024, 9, 12, 13, 0, 0)\n",
    "# cam"
   ]
  },
  {
   "cell_type": "code",
   "execution_count": 6,
   "metadata": {},
   "outputs": [],
   "source": [
    "velocities = []"
   ]
  },
  {
   "cell_type": "code",
   "execution_count": 7,
   "metadata": {},
   "outputs": [],
   "source": [
    "r = df[df.TIMESTAMP == cam.datetime[0]].Average_velocity[0]"
   ]
  },
  {
   "cell_type": "code",
   "execution_count": 8,
   "metadata": {},
   "outputs": [],
   "source": [
    "cam = pd.read_csv(f\"Results/video_capture_{date}_radar_results.csv\")[[\n",
    "    'time', 'y', 'x', 'v_x', 'v_y', 's2n', 'corr', 'xp', 'yp', 'xs', 'ys'    \n",
    "]]\n",
    "cam['velocity'] = np.sqrt(cam.v_x**2 + cam.v_y**2)\n",
    "cam['datetime'] = dt(2024, 9, 12, 13, 0, 0)\n",
    "velocities.append(np.average(cam.velocity.dropna()))"
   ]
  },
  {
   "cell_type": "code",
   "execution_count": 9,
   "metadata": {},
   "outputs": [],
   "source": [
    "cam = pd.read_csv(f\"Results/video_capture_{date}_radar_results_mask.csv\")[[\n",
    "    'time', 'y', 'x', 'v_x', 'v_y', 's2n', 'corr', 'xp', 'yp', 'xs', 'ys'    \n",
    "]]\n",
    "cam['velocity'] = np.sqrt(cam.v_x**2 + cam.v_y**2)\n",
    "cam['datetime'] = dt(2024, 9, 12, 13, 0, 0)\n",
    "velocities.append(np.average(cam.velocity.dropna()))\n",
    "t = np.average(cam.velocity.dropna())"
   ]
  },
  {
   "cell_type": "code",
   "execution_count": 10,
   "metadata": {},
   "outputs": [],
   "source": [
    "# cam = pd.read_csv(f\"Results/video_capture_{date}_radar_results_mask_avg.csv\")[[\n",
    "#     'y', 'x', 'v_x', 'v_y', 's2n', 'corr', 'xp', 'yp', 'xs', 'ys'    \n",
    "# ]]\n",
    "# cam['velocity'] = np.sqrt(cam.v_x**2 + cam.v_y**2)\n",
    "# cam['datetime'] = dt(2024, 9, 12, 13, 0, 0)\n",
    "# velocities.append(np.average(cam.velocity.dropna()))"
   ]
  },
  {
   "cell_type": "code",
   "execution_count": 11,
   "metadata": {},
   "outputs": [],
   "source": [
    "# cam = pd.read_csv(f\"Results/video_capture_{date}_radar_results_avg.csv\")[[\n",
    "#     'y', 'x', 'v_x', 'v_y', 's2n', 'corr', 'xp', 'yp', 'xs', 'ys'    \n",
    "# ]]\n",
    "# cam['velocity'] = np.sqrt(cam.v_x**2 + cam.v_y**2)\n",
    "# cam['datetime'] = dt(2024, 9, 12, 13, 0, 0)\n",
    "# velocities.append(np.average(cam.velocity.dropna()))"
   ]
  },
  {
   "cell_type": "code",
   "execution_count": 12,
   "metadata": {},
   "outputs": [
    {
     "data": {
      "image/png": "[encoded data removed]",
      "text/plain": [
       "<Figure size 640x480 with 1 Axes>"
      ]
     },
     "metadata": {},
     "output_type": "display_data"
    }
   ],
   "source": [
    "sns.histplot(\n",
    "    x=velocities,\n",
    "    binwidth=0.01\n",
    ")\n",
    "plt.axvline(x=r, color='red', linestyle='-', linewidth=1.5, label='radar')\n",
    "plt.axvline(x=t, color='limegreen', linestyle='-', linewidth=1.5, label='radar')\n",
    "\n",
    "plt.show()"
   ]
  }
 ],
 "metadata": {
  "kernelspec": {
   "display_name": "pyorc",
   "language": "python",
   "name": "python3"
  },
  "language_info": {
   "codemirror_mode": {
    "name": "ipython",
    "version": 3
   },
   "file_extension": ".py",
   "mimetype": "text/x-python",
   "name": "python",
   "nbconvert_exporter": "python",
   "pygments_lexer": "ipython3",
   "version": "3.12.3"
  }
 },
 "nbformat": 4,
 "nbformat_minor": 2
}
