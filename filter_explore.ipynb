{
 "cells": [
  {
   "cell_type": "code",
   "execution_count": null,
   "metadata": {},
   "outputs": [],
   "source": [
    "import glob\n",
    "import pyorc\n",
    "import numpy as np\n",
    "import pandas as pd\n",
    "import xarray as xr\n",
    "import matplotlib.pyplot as plt\n",
    "from matplotlib.colors import Normalize\n",
    "from filter_explore import filter"
   ]
  },
  {
   "cell_type": "code",
   "execution_count": null,
   "metadata": {},
   "outputs": [],
   "source": [
    "np.random.seed(0)\n",
    "\n",
    "MONTHS = ['January', 'February', 'March', 'April', 'May', 'June', 'July']\n",
    "\n",
    "videos = []\n",
    "for month in MONTHS:\n",
    "    for video in sorted(glob.glob(\"*.mp4\", root_dir=f\"{month}/videos/\")):\n",
    "        # videos.append(f\"{month}/results/{video.split('.')[0]}_velocimetry_results.nc\")\n",
    "        videos.append(f\"{video.split('.')[0]}\")\n",
    "\n",
    "videos = sorted(np.random.choice(np.array(videos), size=len(videos)//10, replace=False))\n",
    "\n",
    "with open('filter_explore.txt', \"a\") as f:\n",
    "    for video in videos:\n",
    "        f.write(f\"{video}\\n\")"
   ]
  },
  {
   "cell_type": "code",
   "execution_count": null,
   "metadata": {},
   "outputs": [],
   "source": [
    "files = []\n",
    "with open('filter_explore.txt') as f:\n",
    "    for line in f:\n",
    "        files.append(line.strip())\n",
    "\n",
    "for file in files:\n",
    "    print(file)\n",
    "    filter(file)"
   ]
  }
 ],
 "metadata": {
  "kernelspec": {
   "display_name": "pyorc",
   "language": "python",
   "name": "python3"
  },
  "language_info": {
   "codemirror_mode": {
    "name": "ipython",
    "version": 3
   },
   "file_extension": ".py",
   "mimetype": "text/x-python",
   "name": "python",
   "nbconvert_exporter": "python",
   "pygments_lexer": "ipython3",
   "version": "3.12.3"
  }
 },
 "nbformat": 4,
 "nbformat_minor": 2
}
