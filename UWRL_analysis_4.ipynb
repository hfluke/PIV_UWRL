{
 "cells": [
  {
   "cell_type": "code",
   "execution_count": null,
   "metadata": {},
   "outputs": [],
   "source": [
    "import pandas as pd\n",
    "import numpy as np\n",
    "import seaborn as sns\n",
    "import matplotlib.pyplot as plt"
   ]
  },
  {
   "cell_type": "code",
   "execution_count": null,
   "metadata": {},
   "outputs": [],
   "source": [
    "df = pd.read_csv('UWRL_river_velocimetry_dataset.csv')"
   ]
  },
  {
   "cell_type": "code",
   "execution_count": null,
   "metadata": {},
   "outputs": [],
   "source": [
    "df['v_pos'] =  [0 if pd.isna(x) else (-1 if x < 0 else 1) for x in df['v_x']]\n",
    "df['angle'] = np.arctan2(df['v_y'], df['v_x'])\n",
    "# df['angle_quad'] = ['up_right' if x < -np.pi / 2 else 'down_right' if x < 0 else 'up_left' if x > np.pi / 2 else 'down_left' for x in df.angle]\n",
    "df.datetime = pd.to_datetime(df.datetime)\n",
    "print(df.columns)\n",
    "df"
   ]
  },
  {
   "cell_type": "code",
   "execution_count": null,
   "metadata": {},
   "outputs": [],
   "source": [
    "sns.histplot(\n",
    "    data=df,\n",
    "    x='turbidity'\n",
    ")"
   ]
  },
  {
   "cell_type": "code",
   "execution_count": null,
   "metadata": {},
   "outputs": [],
   "source": [
    "# sns.histplot(\n",
    "#     data=df,\n",
    "#     x='y',\n",
    "#     hue='angle_quad',\n",
    "#     hue_order=['up_right', 'down_right', 'down_left', 'up_left'],\n",
    "#     discrete=True,\n",
    "#     multiple='dodge',\n",
    "#     shrink=0.8\n",
    "# )\n",
    "# plt.legend(labels=['up_left', 'down_left', 'down_right', 'up_right'], bbox_to_anchor=(1.05, 1), loc='upper left')\n",
    "# plt.show()\n",
    "# plt.close()"
   ]
  },
  {
   "cell_type": "code",
   "execution_count": null,
   "metadata": {},
   "outputs": [],
   "source": [
    "# for dt in sorted(df[df.conditions != 'Clear'].datetime.unique()):\n",
    "#     print('   datetime:', df[df.datetime == dt].datetime.unique()[0])\n",
    "#     print(' conditions:', df[df.datetime == dt].conditions.unique()[0])\n",
    "#     print('cloud cover:', df[df.datetime == dt].cloudcover.unique()[0])\n",
    "\n",
    "#     sns.scatterplot(\n",
    "#         data=df[df.datetime == dt],\n",
    "#         x='v_len',\n",
    "#         y='angle'\n",
    "#     )\n",
    "#     plt.show()\n",
    "#     plt.close()"
   ]
  },
  {
   "cell_type": "code",
   "execution_count": null,
   "metadata": {},
   "outputs": [],
   "source": [
    "df2 = df[(df.conditions == 'Snow, Rain, Overcast')|(df.conditions == 'Snow, Overcast')|(df.conditions == 'Snow, Rain, Partially cloudy')]\n",
    "\n",
    "sns.scatterplot(\n",
    "    data=df2,\n",
    "    x='v_len',\n",
    "    y='angle'\n",
    ")\n",
    "plt.show()\n",
    "plt.close()\n",
    "\n",
    "df3 = df[df.cloudcover == 100]\n",
    "\n",
    "sns.scatterplot(\n",
    "    data=df3,\n",
    "    x='v_len',\n",
    "    y='angle'\n",
    ")\n",
    "plt.show()\n",
    "plt.close()"
   ]
  },
  {
   "cell_type": "code",
   "execution_count": null,
   "metadata": {},
   "outputs": [],
   "source": [
    "# for dt in sorted(df.datetime.unique()):\n",
    "\n",
    "#     df_temp = df[df.datetime == dt]\n",
    "    \n",
    "#     print('   datetime:', df_temp.datetime.unique()[0])\n",
    "#     print(' conditions:', df_temp.conditions.unique()[0])\n",
    "#     print('cloud cover:', df_temp.cloudcover.unique()[0])\n",
    "\n",
    "#     sns.histplot(\n",
    "#         data=df_temp,\n",
    "#         x='y',\n",
    "#         hue='angle_quad',\n",
    "#         hue_order=['up_right', 'down_right', 'down_left', 'up_left'],\n",
    "#         discrete=True,\n",
    "#         multiple='dodge',\n",
    "#         shrink=0.8\n",
    "#     )\n",
    "#     plt.legend(labels=['up_left', 'down_left', 'down_right', 'up_right'], bbox_to_anchor=(1.05, 1), loc='upper left')\n",
    "#     plt.show()\n",
    "#     plt.close()\n"
   ]
  }
 ],
 "metadata": {
  "kernelspec": {
   "display_name": "pyorc",
   "language": "python",
   "name": "python3"
  },
  "language_info": {
   "codemirror_mode": {
    "name": "ipython",
    "version": 3
   },
   "file_extension": ".py",
   "mimetype": "text/x-python",
   "name": "python",
   "nbconvert_exporter": "python",
   "pygments_lexer": "ipython3",
   "version": "3.12.3"
  }
 },
 "nbformat": 4,
 "nbformat_minor": 2
}
