{
 "cells": [
  {
   "cell_type": "code",
   "execution_count": null,
   "metadata": {},
   "outputs": [],
   "source": [
    "import pyorc\n",
    "# import cartopy\n",
    "import xarray as xr\n",
    "# import cartopy.crs as ccrs\n",
    "import pandas as pd\n",
    "from matplotlib import patches\n",
    "import matplotlib.pyplot as plt\n",
    "# import cartopy.io.img_tiles as cimgt\n",
    "# from matplotlib.colors import Normalize\n",
    "# from dask.diagnostics import ProgressBar\n",
    "import glob"
   ]
  },
  {
   "cell_type": "code",
   "execution_count": null,
   "metadata": {},
   "outputs": [],
   "source": [
    "months = ['January', 'February', 'March', 'April', 'May', 'June']\n",
    "videos = []\n",
    "for month in months:\n",
    "    for video in sorted(glob.glob(\"*.mp4\", root_dir=f\"{month}/\")):\n",
    "        videos.append(\n",
    "            {\n",
    "                'video': f'{month}/{video}',\n",
    "                'name': video.split('.')[0]\n",
    "            }\n",
    "        )"
   ]
  },
  {
   "cell_type": "code",
   "execution_count": null,
   "metadata": {},
   "outputs": [],
   "source": [
    "# current_file = videos.pop()\n",
    "current_file = videos.pop(0)\n",
    "video_file = current_file['video']\n",
    "video_name = current_file['name']\n",
    "video = pyorc.api.video.Video(video_file, start_frame=0, end_frame=125)\n",
    "frame = video.get_frame(0, method=\"rgb\")"
   ]
  },
  {
   "cell_type": "code",
   "execution_count": null,
   "metadata": {},
   "outputs": [],
   "source": [
    "plt.plot(1613, 40, \"rx\", markersize=1)\n",
    "plt.imshow(frame)"
   ]
  },
  {
   "cell_type": "code",
   "execution_count": null,
   "metadata": {},
   "outputs": [],
   "source": [
    "gcps = dict(\n",
    "    src=[\n",
    "        [2434, 1397], #Blue\n",
    "        [2304, 1001], #Green\n",
    "        [525, 879],   #Orange\n",
    "        [77, 1779]    #Purple\n",
    "    ]\n",
    ")"
   ]
  },
  {
   "cell_type": "code",
   "execution_count": null,
   "metadata": {},
   "outputs": [],
   "source": [
    "plt.imshow(frame)\n",
    "plt.plot(*zip(*gcps[\"src\"]), \"rx\", markersize=20, label=\"Control points\")\n",
    "plt.legend()\n",
    "plt.savefig(f\"Camera_test/Control/{video_name}_control.png\", bbox_inches=\"tight\", dpi=600)"
   ]
  },
  {
   "cell_type": "code",
   "execution_count": null,
   "metadata": {},
   "outputs": [],
   "source": [
    "gcps[\"dst\"] = [\n",
    "    [13.633,6.171],  # Blue\n",
    "    [15.307,9.675],   # Green\n",
    "    [3.412,15.957],  # Orage\n",
    "    [5.747,4.855]    # Purple    \n",
    "]\n",
    "\n",
    "gcps[\"z_0\"] = 0.00"
   ]
  },
  {
   "cell_type": "code",
   "execution_count": null,
   "metadata": {},
   "outputs": [],
   "source": [
    "height, width = frame.shape[0:2]"
   ]
  },
  {
   "cell_type": "code",
   "execution_count": null,
   "metadata": {},
   "outputs": [],
   "source": [
    "cam_config = pyorc.CameraConfig(height=height, width=width, gcps=gcps)"
   ]
  },
  {
   "cell_type": "code",
   "execution_count": null,
   "metadata": {},
   "outputs": [],
   "source": [
    "corners = [\n",
    "    [2559, 1919],\n",
    "    [1752, 680],\n",
    "    [940, 680],\n",
    "    [200, 1919]\n",
    "]\n",
    "cam_config.set_bbox_from_corners(corners)\n",
    "cam_config.resolution = 0.01\n",
    "cam_config.window_size = 25"
   ]
  },
  {
   "cell_type": "code",
   "execution_count": null,
   "metadata": {},
   "outputs": [],
   "source": [
    "plt.imshow(frame)\n",
    "plt.plot(*zip(*gcps[\"src\"]), \"rx\", markersize=20, label=\"Control points\")\n",
    "plt.plot(*zip(*corners), \"co\", label=\"Corners of AOI\")\n",
    "plt.legend()\n",
    "plt.savefig(f\"Camera_test/Corners/{video_name}_corners.png\", bbox_inches=\"tight\", dpi=600)"
   ]
  },
  {
   "cell_type": "code",
   "execution_count": null,
   "metadata": {},
   "outputs": [],
   "source": [
    "ax2 = plt.axes()\n",
    "ax2.imshow(frame)\n",
    "cam_config.plot(ax=ax2, camera=True)\n",
    "plt.savefig(f\"Camera_test/Cam_config/{video_name}_cam_config.png\", bbox_inches=\"tight\", dpi=600)"
   ]
  },
  {
   "cell_type": "code",
   "execution_count": null,
   "metadata": {},
   "outputs": [],
   "source": [
    "# cam_config.to_file(f\"Cam_config/{video_name}_cam-config-UWRL.json\")"
   ]
  },
  {
   "cell_type": "code",
   "execution_count": null,
   "metadata": {},
   "outputs": [],
   "source": [
    "# cam_config = pyorc.load_camera_config(f\"Cam_config/{video_name}_cam-config-UWRL.json\")\n",
    "# cam_config = pyorc.load_camera_config(\"cam-config-UWRL.json\")"
   ]
  },
  {
   "cell_type": "code",
   "execution_count": null,
   "metadata": {},
   "outputs": [],
   "source": [
    "stabilize = [\n",
    "    [2559, 1919],\n",
    "    [1752, 680],\n",
    "    [940, 680],\n",
    "    [200, 1919]\n",
    "]\n",
    "video = pyorc.Video(\n",
    "    video_file,\n",
    "    camera_config=cam_config,\n",
    "    start_frame=0,\n",
    "    end_frame=125,\n",
    "    stabilize=stabilize,\n",
    "    h_a=0.\n",
    ")\n",
    "# video"
   ]
  },
  {
   "cell_type": "code",
   "execution_count": null,
   "metadata": {},
   "outputs": [],
   "source": [
    "patch_kwargs = {\n",
    "    \"alpha\": 0.5,\n",
    "    \"zorder\": 2,\n",
    "    \"edgecolor\": \"w\",\n",
    "    \"label\": \"Area of interest\",\n",
    "}\n",
    "f, ax = plt.subplots(1, 1, figsize=(10, 6))\n",
    "\n",
    "frame = video.get_frame(0, method=\"rgb\")\n",
    "# plot frame on a notebook-style window\n",
    "ax.imshow(frame)\n",
    "# add the polygon to the axes\n",
    "patch = patches.Polygon(\n",
    "    stabilize,\n",
    "    **patch_kwargs\n",
    ")\n",
    "p = ax.add_patch(patch)"
   ]
  },
  {
   "cell_type": "code",
   "execution_count": null,
   "metadata": {},
   "outputs": [],
   "source": [
    "plt.imshow(frame)"
   ]
  },
  {
   "cell_type": "code",
   "execution_count": null,
   "metadata": {},
   "outputs": [],
   "source": [
    "da = video.get_frames()\n",
    "da[0].frames.plot(cmap=\"gray\", ax=ax)"
   ]
  },
  {
   "cell_type": "code",
   "execution_count": null,
   "metadata": {},
   "outputs": [],
   "source": [
    "da_norm = da.frames.normalize()\n",
    "da_norm[0].frames.plot(cmap=\"gray\")"
   ]
  },
  {
   "cell_type": "code",
   "execution_count": null,
   "metadata": {},
   "outputs": [],
   "source": [
    "da_norm_proj = da_norm.frames.project()\n",
    "da_norm_proj[0].frames.plot(cmap=\"gray\")"
   ]
  },
  {
   "cell_type": "code",
   "execution_count": null,
   "metadata": {},
   "outputs": [],
   "source": [
    "# extract frames again, but now with rgb\n",
    "da_rgb = video.get_frames(method=\"rgb\")\n",
    "# project the rgb frames, same as before\n",
    "da_rgb_proj = da_rgb.frames.project()"
   ]
  }
 ],
 "metadata": {
  "kernelspec": {
   "display_name": "pyorc",
   "language": "python",
   "name": "python3"
  },
  "language_info": {
   "codemirror_mode": {
    "name": "ipython",
    "version": 3
   },
   "file_extension": ".py",
   "mimetype": "text/x-python",
   "name": "python",
   "nbconvert_exporter": "python",
   "pygments_lexer": "ipython3",
   "version": "3.12.3"
  }
 },
 "nbformat": 4,
 "nbformat_minor": 2
}
