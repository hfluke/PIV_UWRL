{
 "cells": [
  {
   "cell_type": "code",
   "execution_count": null,
   "metadata": {},
   "outputs": [],
   "source": [
    "import pyorc\n",
    "import cartopy\n",
    "import xarray as xr\n",
    "import cartopy.crs as ccrs\n",
    "import pandas as pd\n",
    "from matplotlib import patches\n",
    "import matplotlib.pyplot as plt\n",
    "import cartopy.io.img_tiles as cimgt\n",
    "from matplotlib.colors import Normalize\n",
    "from dask.diagnostics import ProgressBar"
   ]
  },
  {
   "cell_type": "code",
   "execution_count": null,
   "metadata": {},
   "outputs": [],
   "source": [
    "#%matplotlib notebook\n",
    "video_file = \"waterlab1.mp4\"\n",
    "video = pyorc.api.video.Video(video_file, start_frame=0, end_frame=125)  # we only need one frame\n",
    "frame = video.get_frame(0, method=\"rgb\")\n",
    "\n",
    "# plot frame on a notebook-style window\n",
    "f = plt.figure(figsize=(10, 6))\n",
    "\n",
    "plt.imshow(frame)"
   ]
  },
  {
   "cell_type": "code",
   "execution_count": null,
   "metadata": {},
   "outputs": [],
   "source": [
    "get_ipython().run_line_magic('matplotlib', 'inline')\n",
    "gcps = dict(\n",
    "    src=[\n",
    "        [2434, 1397], #Blue\n",
    "        [2304, 1001], #Green\n",
    "        [525, 879],   #Orange\n",
    "        [77, 1779]   #Purple\n",
    "    ]\n",
    ")\n",
    "\n",
    "f = plt.figure(figsize=(16, 9))\n",
    "plt.imshow(frame)\n",
    "plt.plot(*zip(*gcps[\"src\"]), \"rx\", markersize=20, label=\"Control points\")\n",
    "plt.legend()\n",
    "plt.savefig(\"control.jpg\", bbox_inches=\"tight\", dpi=600)"
   ]
  },
  {
   "cell_type": "code",
   "execution_count": null,
   "metadata": {},
   "outputs": [],
   "source": [
    "# Adding GCPs real word coordinate\n",
    "gcps[\"dst\"] = [\n",
    "    [13.633,6.171],  # Blue\n",
    "    [15.307,9.675],   # Green\n",
    "    [3.412,15.957],  # Orage\n",
    "    [5.747,4.855]    # Purple    \n",
    "]\n",
    "\n",
    "gcps[\"z_0\"] = 0.00\n",
    "\n",
    "# set the height and width\n",
    "height, width = frame.shape[0:2]\n",
    "\n",
    "# now we use everything to make a camera configuration\n",
    "cam_config = pyorc.CameraConfig(height=height, width=width, gcps=gcps)\n",
    "\n",
    "corners = [\n",
    "    [2559, 1919],\n",
    "    [1752, 680],\n",
    "    [940, 680],\n",
    "    [200, 1919]\n",
    "]\n",
    "cam_config.set_bbox_from_corners(corners)\n",
    "cam_config.resolution = 0.01\n",
    "cam_config.window_size = 25\n",
    "\n",
    "f = plt.figure(figsize=(10, 6))\n",
    "plt.imshow(frame)\n",
    "plt.plot(*zip(*gcps[\"src\"]), \"rx\", markersize=20, label=\"Control points\")\n",
    "plt.plot(*zip(*corners), \"co\", label=\"Corners of AOI\")\n",
    "plt.legend()"
   ]
  },
  {
   "cell_type": "code",
   "execution_count": null,
   "metadata": {},
   "outputs": [],
   "source": [
    "get_ipython().run_line_magic('matplotlib', 'inline')\n",
    "f = plt.figure()\n",
    "ax2 = plt.axes()\n",
    "ax2.imshow(frame)\n",
    "cam_config.plot(ax=ax2, camera=True)\n",
    "\n",
    "plt.savefig(\"ngwerere_camconfig1.jpg\", bbox_inches=\"tight\", dpi=600)"
   ]
  },
  {
   "cell_type": "code",
   "execution_count": null,
   "metadata": {},
   "outputs": [],
   "source": [
    "print(cam_config)\n",
    "cam_config.to_file(\"cam-config-UWRL.json\")"
   ]
  },
  {
   "cell_type": "code",
   "execution_count": null,
   "metadata": {},
   "outputs": [],
   "source": [
    "cam_config = pyorc.load_camera_config(\"cam-config-UWRL.json\")\n",
    "# set coordinates that encapsulate the water surface at minimum. Areas outside will be used for stabilization\n",
    "stabilize = [\n",
    "    [2559, 1919],\n",
    "    [1752, 680],\n",
    "    [940, 680],\n",
    "    [200, 1919]\n",
    "]\n",
    "video = pyorc.Video(\n",
    "    video_file,\n",
    "    camera_config=cam_config,\n",
    "    start_frame=0,\n",
    "    end_frame=125,\n",
    "    stabilize=stabilize,\n",
    "    h_a=0.\n",
    ")\n",
    "video"
   ]
  },
  {
   "cell_type": "code",
   "execution_count": null,
   "metadata": {},
   "outputs": [],
   "source": [
    "# some keyword arguments for fancy polygon plotting\n",
    "patch_kwargs = {\n",
    "    \"alpha\": 0.5,\n",
    "    \"zorder\": 2,\n",
    "    \"edgecolor\": \"w\",\n",
    "    \"label\": \"Area of interest\",\n",
    "}\n",
    "f, ax = plt.subplots(1, 1, figsize=(10, 6))\n",
    "\n",
    "frame = video.get_frame(0, method=\"rgb\")\n",
    "# plot frame on a notebook-style window\n",
    "ax.imshow(frame)\n",
    "# add the polygon to the axes\n",
    "patch = patches.Polygon(\n",
    "    stabilize,\n",
    "    **patch_kwargs\n",
    ")\n",
    "p = ax.add_patch(patch)"
   ]
  },
  {
   "cell_type": "code",
   "execution_count": null,
   "metadata": {},
   "outputs": [],
   "source": [
    "da = video.get_frames()\n",
    "# da"
   ]
  },
  {
   "cell_type": "code",
   "execution_count": null,
   "metadata": {},
   "outputs": [],
   "source": [
    "da[0].frames.plot(cmap=\"gray\", ax=ax)\n",
    "\n",
    "da_norm = da.frames.normalize()\n",
    "da_norm[0].frames.plot(cmap=\"gray\")"
   ]
  },
  {
   "cell_type": "code",
   "execution_count": null,
   "metadata": {},
   "outputs": [],
   "source": [
    "f = plt.figure(figsize=(16, 9))\n",
    "da_norm_proj = da_norm.frames.project()\n",
    "da_norm_proj[0].frames.plot(cmap=\"gray\")\n",
    "\n",
    "# extract frames again, but now with rgb\n",
    "da_rgb = video.get_frames(method=\"rgb\")\n",
    "# project the rgb frames, same as before\n",
    "da_rgb_proj = da_rgb.frames.project()\n",
    "\n",
    "piv = da_norm_proj.frames.get_piv()\n",
    "delayed_obj = piv.to_netcdf(\"waterlab_test.nc\", compute=False)\n",
    "with ProgressBar():\n",
    "    results = delayed_obj.compute()"
   ]
  },
  {
   "cell_type": "code",
   "execution_count": null,
   "metadata": {},
   "outputs": [],
   "source": [
    "ds = xr.open_dataset(\"waterlab_test.nc\")\n",
    "ds\n",
    "\n",
    "video = pyorc.Video(video_file, start_frame=0, end_frame=125)\n",
    "\n",
    "# borrow the camera config from the velocimetry results\n",
    "video.camera_config = ds.velocimetry.camera_config\n",
    "\n",
    "da_rgb = video.get_frames(method=\"rgb\")\n",
    "# project the rgb frame\n",
    "da_rgb_proj = da_rgb.frames.project()\n",
    "# plot the first frame (we only have one) without any arguments, default is to use \"local\" mode\n",
    "p = da_rgb_proj[0].frames.plot()\n",
    "\n",
    "# now plot the results on top, we use the mean, because we cannot plot more than 2 dimensions. \n",
    "# Default plotting method is \"quiver\", but \"scatter\" or \"pcolormesh\" is also possible.\n",
    "# We add a nice colorbar to understand the magnitudes.\n",
    "# We give the existing axis handle of the mappable returned from .frames.plot to plot on, and use \n",
    "# some transparency.\n",
    "ds_mean = ds.mean(dim=\"time\", keep_attrs=True)\n",
    "\n",
    "# first a pcolormesh\n",
    "ds_mean.velocimetry.plot.pcolormesh(\n",
    "    ax=p.axes,\n",
    "    alpha=0.3,\n",
    "    cmap=\"rainbow\",\n",
    "    add_colorbar=True,\n",
    "    vmax=1.0\n",
    ")\n",
    "\n",
    "ds_mean.velocimetry.plot(\n",
    "    ax=p.axes,\n",
    "    color=\"w\",\n",
    "    alpha=0.5,\n",
    "    width=0.0015,\n",
    ")"
   ]
  },
  {
   "cell_type": "code",
   "execution_count": null,
   "metadata": {},
   "outputs": [],
   "source": [
    "import copy\n",
    "ds_mask = copy.deepcopy(ds)\n",
    "mask_corr = ds_mask.velocimetry.mask.corr(inplace=True)\n",
    "mask_minmax = ds_mask.velocimetry.mask.minmax(inplace=True)\n",
    "mask_rolling = ds_mask.velocimetry.mask.rolling(inplace=True)\n",
    "mask_outliers = ds_mask.velocimetry.mask.outliers(inplace=True)\n",
    "mask_var = ds_mask.velocimetry.mask.variance(inplace=True)\n",
    "mask_angle = ds_mask.velocimetry.mask.angle(inplace=True)\n",
    "mask_count = ds_mask.velocimetry.mask.count(inplace=True)\n",
    "\n",
    "# apply the plot again, let's leave out the scalar values, and make the quivers a bit nicer than before.\n",
    "ds_mean_mask = ds_mask.mean(dim=\"time\", keep_attrs=True)\n",
    "\n",
    "# again the rgb frame first\n",
    "p = da_rgb_proj[0].frames.plot()\n",
    "\n",
    "#...and then masked velocimetry\n",
    "ds_mean_mask.velocimetry.plot(\n",
    "    ax=p.axes,\n",
    "    alpha=0.4,\n",
    "    cmap=\"rainbow\",\n",
    "    scale=20,\n",
    "    width=0.0015,\n",
    "    norm=Normalize(vmax=1.0, clip=False),\n",
    "    add_colorbar=True\n",
    ")"
   ]
  },
  {
   "cell_type": "code",
   "execution_count": null,
   "metadata": {},
   "outputs": [],
   "source": [
    "# apply all methods in time domain with relaxed angle masking\n",
    "import numpy as np\n",
    "ds_mask2 = copy.deepcopy(ds)\n",
    "ds_mask2.velocimetry.mask.corr(inplace=True)\n",
    "ds_mask2.velocimetry.mask.minmax(inplace=True)\n",
    "ds_mask2.velocimetry.mask.rolling(inplace=True)\n",
    "ds_mask2.velocimetry.mask.outliers(inplace=True)\n",
    "ds_mask2.velocimetry.mask.variance(inplace=True)\n",
    "ds_mask2.velocimetry.mask.angle(angle_tolerance=0.5*np.pi)\n",
    "ds_mask2.velocimetry.mask.count(inplace=True)\n",
    "ds_mask2.velocimetry.mask.window_mean(wdw=2, inplace=True, tolerance=0.5, reduce_time=True)\n",
    "\n",
    "# Now first average in time before applying any filter that only works in space.\n",
    "ds_mean_mask2 = ds_mask2.mean(dim=\"time\", keep_attrs=True)\n",
    "\n",
    "# apply the plot again\n",
    "# again the rgb frame first\n",
    "p = da_rgb_proj[0].frames.plot()\n",
    "\n",
    "#...and then filtered velocimetry\n",
    "ds_mean_mask2.velocimetry.plot(\n",
    "    ax=p.axes,\n",
    "    alpha=0.4,\n",
    "    cmap=\"rainbow\",\n",
    "    scale=20,\n",
    "    width=0.0015,\n",
    "    norm=Normalize(vmax=1.1, clip=False),\n",
    "    add_colorbar=True\n",
    ")"
   ]
  },
  {
   "cell_type": "code",
   "execution_count": null,
   "metadata": {},
   "outputs": [],
   "source": [
    "# use the \"camera\" mode to plot the camera perspective\n",
    "p = da_rgb[0].frames.plot(mode=\"camera\")"
   ]
  },
  {
   "cell_type": "code",
   "execution_count": null,
   "metadata": {},
   "outputs": [],
   "source": [
    "#...and then masked velocimetry again, but also camera. This gives us an augmented reality view. The quiver scale \n",
    "# needs to be adapted to fit in the screen properly\n",
    "\n",
    "p = da_rgb[0].frames.plot(mode=\"camera\")\n",
    "\n",
    "ds_mean_mask2.velocimetry.plot(\n",
    "    ax=p.axes,\n",
    "    mode=\"camera\",\n",
    "    alpha=0.4,\n",
    "    cmap=\"rainbow\",\n",
    "    scale=200,\n",
    "    width=0.0015,\n",
    "    norm=Normalize(vmin=0., vmax=1.0, clip=False),\n",
    "    add_colorbar=True\n",
    ")\n",
    "\n",
    "plt.savefig(\"feb_t.jpg\", bbox_inches=\"tight\", dpi=600)\n"
   ]
  },
  {
   "cell_type": "code",
   "execution_count": null,
   "metadata": {},
   "outputs": [],
   "source": [
    "ds_mean_mask2.velocimetry.plot(\n",
    "    mode=\"camera\",\n",
    "    # alpha=0.4,\n",
    "    # cmap=\"rainbow\",\n",
    "    # scale=200,\n",
    "    # width=0.0015,\n",
    "    # norm=Normalize(vmin=0., vmax=1.0, clip=False),\n",
    "    # add_colorbar=True\n",
    ")"
   ]
  },
  {
   "cell_type": "code",
   "execution_count": null,
   "metadata": {},
   "outputs": [],
   "source": [
    "df = ds_mean_mask2.to_dataframe().reset_index()\n",
    "df = df[:100]\n",
    "df.to_csv(\"vec.csv\", index=False)\n",
    "df"
   ]
  },
  {
   "cell_type": "code",
   "execution_count": null,
   "metadata": {},
   "outputs": [],
   "source": [
    "df['corr'].unique()\n"
   ]
  }
 ],
 "metadata": {
  "kernelspec": {
   "display_name": "pyorc",
   "language": "python",
   "name": "python3"
  },
  "language_info": {
   "codemirror_mode": {
    "name": "ipython",
    "version": 3
   },
   "file_extension": ".py",
   "mimetype": "text/x-python",
   "name": "python",
   "nbconvert_exporter": "python",
   "pygments_lexer": "ipython3",
   "version": "3.12.3"
  }
 },
 "nbformat": 4,
 "nbformat_minor": 2
}
