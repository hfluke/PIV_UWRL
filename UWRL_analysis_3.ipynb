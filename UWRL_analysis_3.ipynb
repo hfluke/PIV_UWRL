{
 "cells": [
  {
   "cell_type": "markdown",
   "metadata": {},
   "source": [
    "* bin vector lengths\n",
    "* look at varability of vector direction\n",
    "  * calculate an angle for each vector (?)\n",
    "  * look at surrounding vectors and compare \n",
    "\n",
    "* for each vector\n",
    "  * calculate an angle ()"
   ]
  },
  {
   "cell_type": "code",
   "execution_count": null,
   "metadata": {},
   "outputs": [],
   "source": [
    "import pandas as pd\n",
    "import numpy as np\n",
    "import seaborn as sns\n",
    "import matplotlib.pyplot as plt"
   ]
  },
  {
   "cell_type": "code",
   "execution_count": null,
   "metadata": {},
   "outputs": [],
   "source": [
    "df = pd.read_csv('UWRL_river_velocimetry_dataset.csv')"
   ]
  },
  {
   "cell_type": "code",
   "execution_count": null,
   "metadata": {},
   "outputs": [],
   "source": [
    "# df['v_pos'] =  [0 if pd.isna(x) else (-1 if x < 0 else 1) for x in df['v_x']]\n",
    "df['angle'] = np.arctan2(df['v_y'], df['v_x'])\n",
    "df.datetime = pd.to_datetime(df.datetime)\n",
    "print(df.columns)\n",
    "df"
   ]
  },
  {
   "cell_type": "code",
   "execution_count": null,
   "metadata": {},
   "outputs": [],
   "source": [
    "sns.scatterplot(\n",
    "    data=df,\n",
    "    x='v_x',\n",
    "    y='angle',\n",
    ")\n",
    "plt.show()\n",
    "\n",
    "sns.scatterplot(\n",
    "    data=df,\n",
    "    x='v_y',\n",
    "    y='angle',\n",
    ")\n",
    "plt.show()\n"
   ]
  },
  {
   "cell_type": "code",
   "execution_count": null,
   "metadata": {},
   "outputs": [],
   "source": [
    "for dt in df.datetime:\n",
    "    df_dt = df[df.datetime == dt]\n",
    "\n",
    "    for x in sorted(df_dt.x.unique()):\n",
    "        xr = round(x, 3)\n",
    "\n",
    "        for y in sorted(df_dt.y.unique()):\n",
    "            yr = round(y, 3)\n",
    "\n",
    "            if (xr in df_dt.x.unique()) and (yr in df_dt.y.unique()):\n",
    "                display(df_dt[(df_dt.x == xr)&(df_dt.y == yr)].angle)\n",
    "\n",
    "        break\n",
    "    break"
   ]
  }
 ],
 "metadata": {
  "kernelspec": {
   "display_name": "pyorc",
   "language": "python",
   "name": "python3"
  },
  "language_info": {
   "codemirror_mode": {
    "name": "ipython",
    "version": 3
   },
   "file_extension": ".py",
   "mimetype": "text/x-python",
   "name": "python",
   "nbconvert_exporter": "python",
   "pygments_lexer": "ipython3",
   "version": "3.12.3"
  }
 },
 "nbformat": 4,
 "nbformat_minor": 2
}
