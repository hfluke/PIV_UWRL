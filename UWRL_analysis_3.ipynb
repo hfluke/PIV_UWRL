{
 "cells": [
  {
   "cell_type": "code",
   "execution_count": null,
   "metadata": {},
   "outputs": [],
   "source": [
    "import pandas as pd\n",
    "import numpy as np\n",
    "import seaborn as sns\n",
    "import matplotlib.pyplot as plt"
   ]
  },
  {
   "cell_type": "code",
   "execution_count": null,
   "metadata": {},
   "outputs": [],
   "source": [
    "df = pd.read_csv('UWRL_river_velocimetry_dataset.csv')"
   ]
  },
  {
   "cell_type": "code",
   "execution_count": null,
   "metadata": {},
   "outputs": [],
   "source": [
    "df['v_pos'] =  [0 if pd.isna(x) else (-1 if x < 0 else 1) for x in df['v_x']]\n",
    "df.datetime = pd.to_datetime(df.datetime)\n",
    "print(df.columns)\n",
    "df"
   ]
  },
  {
   "cell_type": "code",
   "execution_count": null,
   "metadata": {},
   "outputs": [],
   "source": [
    "df['year'] = [int(x.year) for x in df.datetime]\n",
    "df['month'] = [int(x.month) for x in df.datetime]\n",
    "df['day'] = [int(x.day) for x in df.datetime]\n",
    "df['hour'] = [int(x.hour) for x in df.datetime]\n",
    "# df['minute'] = [int(x.minute) for x in df.datetime]\n",
    "# df['second'] = [int(x.second) for x in df.datetime]"
   ]
  },
  {
   "cell_type": "code",
   "execution_count": null,
   "metadata": {},
   "outputs": [],
   "source": [
    "df['sunrise/sunset'] = [np.nan for _ in range(len(df))]"
   ]
  },
  {
   "cell_type": "code",
   "execution_count": null,
   "metadata": {},
   "outputs": [],
   "source": [
    "for month in sorted(df.month.unique()):\n",
    "    df_month = df[df.month == month]\n",
    "\n",
    "    for day in sorted(df_month.day.unique()):\n",
    "        df_day = df_month[df_month.day == day]\n",
    "\n",
    "        # print('sunset/sunrise')\n",
    "\n",
    "        # for hour in sorted(df_day.hour.unique()):\n",
    "        hour = sorted(df_day.hour.unique())[-1]\n",
    "\n",
    "        print(df_day[df_day.hour == hour].datetime.unique()[0])\n",
    "\n",
    "        sns.histplot(\n",
    "            data=df_day[df_day.hour == hour],\n",
    "            # x='spacial_location',\n",
    "            x='x',\n",
    "            hue='v_pos',\n",
    "            discrete=True,\n",
    "            multiple='dodge',\n",
    "            shrink=0.8\n",
    "        )\n",
    "        plt.legend(labels=['downstream', 'NaN', 'upstream'], bbox_to_anchor=(1.05, 1), loc='upper left')\n",
    "        plt.show()\n",
    "        plt.close()\n",
    "\n",
    "        # for hour in sorted(df_day.hour.unique()):\n",
    "        #     df_hour = df_day[df_day.hour == hour]\n",
    "\n",
    "        #     print(df_hour.datetime.unique()[0])\n",
    "\n",
    "        #     sns.histplot(\n",
    "        #         data=df_hour,\n",
    "        #         x='spacial_location',\n",
    "        #         # x='x',\n",
    "        #         hue='v_pos',\n",
    "        #         discrete=True,\n",
    "        #         multiple='dodge',\n",
    "        #         shrink=0.8\n",
    "        #     )\n",
    "        #     plt.legend(labels=['downstream', 'NaN', 'upstream'], bbox_to_anchor=(1.05, 1), loc='upper left')\n",
    "        #     plt.show()\n",
    "        #     plt.close()\n",
    "\n",
    "\n",
    "    #         break\n",
    "    #     break\n",
    "    # break"
   ]
  }
 ],
 "metadata": {
  "kernelspec": {
   "display_name": "pyorc",
   "language": "python",
   "name": "python3"
  },
  "language_info": {
   "codemirror_mode": {
    "name": "ipython",
    "version": 3
   },
   "file_extension": ".py",
   "mimetype": "text/x-python",
   "name": "python",
   "nbconvert_exporter": "python",
   "pygments_lexer": "ipython3",
   "version": "3.12.3"
  }
 },
 "nbformat": 4,
 "nbformat_minor": 2
}
