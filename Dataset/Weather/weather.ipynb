{
 "cells": [
  {
   "cell_type": "code",
   "execution_count": null,
   "metadata": {},
   "outputs": [],
   "source": [
    "import requests\n",
    "import sys\n",
    "import csv\n",
    "import pandas as pd"
   ]
  },
  {
   "cell_type": "code",
   "execution_count": null,
   "metadata": {},
   "outputs": [],
   "source": [
    "# make an api call to visual crossing weather data\n",
    "response = None # requests.request(\"GET\", \"https://weather.visualcrossing.com/VisualCrossingWebServices/rest/services/timeline/41.739034%2C%20-111.795742/2024-07-01/2024-07-31?unitGroup=us&include=hours&key=4KJRENQNAVB2P7EWEP82W9B3L&contentType=csv\")\n",
    "if response.status_code!=200:\n",
    "  print('Unexpected Status code: ', response.status_code)\n",
    "  sys.exit()  \n",
    "\n",
    "CSVText = csv.reader(response.text.splitlines(), delimiter=',',quotechar='\"')\n",
    "        \n",
    "\n",
    "output_file = 'July_weather.csv'\n",
    "with open(output_file, mode='w', newline='') as file:\n",
    "    writer = csv.writer(file)\n",
    "    for row in CSVText:\n",
    "        writer.writerow(row)"
   ]
  },
  {
   "cell_type": "code",
   "execution_count": null,
   "metadata": {},
   "outputs": [],
   "source": [
    "# Build full Weather dataset\n",
    "files = [\n",
    "    'January_weather.csv',\n",
    "    'February_weather.csv',\n",
    "    'March_weather.csv',\n",
    "    'April_weather.csv',\n",
    "    'May_weather.csv',\n",
    "    'June_weather.csv',\n",
    "    'July_weather.csv'\n",
    "]\n",
    "dfs = []\n",
    "for file in files:\n",
    "    dfs.append(pd.read_csv(f'{file}'))\n",
    "pd.concat(dfs).to_csv(f'Weather.csv', index=False)"
   ]
  }
 ],
 "metadata": {
  "kernelspec": {
   "display_name": "pyorc",
   "language": "python",
   "name": "python3"
  },
  "language_info": {
   "codemirror_mode": {
    "name": "ipython",
    "version": 3
   },
   "file_extension": ".py",
   "mimetype": "text/x-python",
   "name": "python",
   "nbconvert_exporter": "python",
   "pygments_lexer": "ipython3",
   "version": "3.12.3"
  }
 },
 "nbformat": 4,
 "nbformat_minor": 2
}
