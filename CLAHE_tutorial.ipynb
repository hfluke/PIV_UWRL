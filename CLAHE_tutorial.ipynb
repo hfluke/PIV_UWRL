{
 "cells": [
  {
   "cell_type": "markdown",
   "metadata": {},
   "source": [
    "histogram equalization and CLAHE tutorials come from OpenCV https://docs.opencv.org/4.x/d5/daf/tutorial_py_histogram_equalization.html"
   ]
  },
  {
   "cell_type": "code",
   "execution_count": null,
   "metadata": {},
   "outputs": [],
   "source": [
    "import cv2\n",
    "import numpy as np\n",
    "from PIL import Image\n",
    "from matplotlib import pyplot as plt"
   ]
  },
  {
   "cell_type": "code",
   "execution_count": null,
   "metadata": {},
   "outputs": [],
   "source": [
    "# video = 'July/videos/video_capture_2024-07-01_09-08-21.mp4'\n",
    "# cap = cv2.VideoCapture(video)\n",
    "# _, frame = cap.read()\n",
    "# image = Image.fromarray(cv2.cvtColor(frame, cv2.COLOR_BGR2RGB))\n",
    "# image.save('Video_Preprocessing/preprocessing_test_image.jpg')\n",
    "# cap.release()"
   ]
  },
  {
   "cell_type": "code",
   "execution_count": null,
   "metadata": {},
   "outputs": [],
   "source": [
    "img = cv2.imread('Video_Preprocessing/preprocessing_test_image.jpg', cv2.IMREAD_GRAYSCALE)\n",
    "assert img is not None, \"file could not be read, check with os.path.exists()\"\n",
    "\n",
    "plt.imshow(img, cmap='gray')\n",
    "plt.show()\n",
    "plt.close()\n",
    " \n",
    "hist,bins = np.histogram(img.flatten(),256,[0,256])\n",
    " \n",
    "cdf = hist.cumsum()\n",
    "cdf_normalized = cdf * float(hist.max()) / cdf.max()\n",
    " \n",
    "\n",
    "plt.plot(cdf_normalized, color = 'b')\n",
    "plt.hist(img.flatten(),256,[0,256], color = 'r')\n",
    "plt.xlim([0,256])\n",
    "plt.legend(('cdf','histogram'), loc = 'upper left')\n",
    "plt.show()"
   ]
  },
  {
   "cell_type": "code",
   "execution_count": null,
   "metadata": {},
   "outputs": [],
   "source": [
    "cdf_m = np.ma.masked_equal(cdf,0)\n",
    "cdf_m = (cdf_m - cdf_m.min())*255/(cdf_m.max()-cdf_m.min())\n",
    "cdf = np.ma.filled(cdf_m,0).astype('uint8')"
   ]
  },
  {
   "cell_type": "code",
   "execution_count": null,
   "metadata": {},
   "outputs": [],
   "source": [
    "img2 = cdf[img]"
   ]
  },
  {
   "cell_type": "code",
   "execution_count": null,
   "metadata": {},
   "outputs": [],
   "source": [
    "plt.imshow(img2, cmap='gray')\n",
    "plt.show()\n",
    "plt.close()\n",
    " \n",
    "hist,bins = np.histogram(img2.flatten(),256,[0,256])\n",
    " \n",
    "cdf = hist.cumsum()\n",
    "cdf_normalized = cdf * float(hist.max()) / cdf.max()\n",
    " \n",
    "\n",
    "plt.plot(cdf_normalized, color = 'b')\n",
    "plt.hist(img2.flatten(),256,[0,256], color = 'r')\n",
    "plt.xlim([0,256])\n",
    "plt.legend(('cdf','histogram'), loc = 'upper left')\n",
    "plt.show()"
   ]
  },
  {
   "cell_type": "code",
   "execution_count": null,
   "metadata": {},
   "outputs": [],
   "source": [
    "img = cv2.imread('Video_Preprocessing/preprocessing_test_image.jpg', cv2.IMREAD_GRAYSCALE)\n",
    "assert img is not None, \"file could not be read, check with os.path.exists()\"\n",
    " \n",
    "# create a CLAHE object (Arguments are optional).\n",
    "clahe = cv2.createCLAHE(clipLimit=2.0, tileGridSize=(8,8))\n",
    "cl1 = clahe.apply(img)\n",
    "\n",
    "plt.imshow(img, cmap='gray')\n",
    "plt.show(); plt.close()\n",
    " \n",
    "plt.imshow(cl1, cmap='gray')\n",
    "plt.show(); plt.close()\n",
    " \n",
    "hist,bins = np.histogram(cl1.flatten(),256,[0,256])\n",
    " \n",
    "cdf = hist.cumsum()\n",
    "cdf_normalized = cdf * float(hist.max()) / cdf.max()\n",
    " \n",
    "\n",
    "plt.plot(cdf_normalized, color = 'b')\n",
    "plt.hist(cl1.flatten(),256,[0,256], color = 'r')\n",
    "plt.xlim([0,256])\n",
    "plt.legend(('cdf','histogram'), loc = 'upper left')\n",
    "plt.show()"
   ]
  },
  {
   "cell_type": "code",
   "execution_count": null,
   "metadata": {},
   "outputs": [],
   "source": [
    "image = cv2.imread('Video_Preprocessing/preprocessing_test_image.jpg')\n",
    "\n",
    "\n",
    "# Convert the image to LAB color space\n",
    "lab_image = cv2.cvtColor(image, cv2.COLOR_BGR2LAB)\n",
    "\n",
    "# Split the LAB image into L, A, and B channels\n",
    "l_channel, a_channel, b_channel = cv2.split(lab_image)\n",
    "\n",
    "# Apply CLAHE to the L channel\n",
    "l_channel_clahe = clahe.apply(l_channel)\n",
    "\n",
    "# Merge the channels back together\n",
    "lab_image_clahe = cv2.merge((l_channel_clahe, a_channel, b_channel))\n",
    "\n",
    "# Convert back to BGR color space\n",
    "enhanced_color_image = cv2.cvtColor(lab_image_clahe, cv2.COLOR_LAB2BGR)\n",
    "\n",
    "# Display the original and enhanced color images\n",
    "plt.imshow(cv2.cvtColor(image, cv2.COLOR_BGR2RGB))\n",
    "plt.show(); plt.close()\n",
    "plt.imshow(cv2.cvtColor(enhanced_color_image, cv2.COLOR_BGR2RGB))\n",
    "plt.show(); plt.close()"
   ]
  }
 ],
 "metadata": {
  "kernelspec": {
   "display_name": "pyorc",
   "language": "python",
   "name": "python3"
  },
  "language_info": {
   "codemirror_mode": {
    "name": "ipython",
    "version": 3
   },
   "file_extension": ".py",
   "mimetype": "text/x-python",
   "name": "python",
   "nbconvert_exporter": "python",
   "pygments_lexer": "ipython3",
   "version": "3.12.3"
  }
 },
 "nbformat": 4,
 "nbformat_minor": 2
}
