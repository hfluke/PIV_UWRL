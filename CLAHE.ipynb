{
 "cells": [
  {
   "cell_type": "code",
   "execution_count": null,
   "metadata": {},
   "outputs": [],
   "source": [
    "import numpy as np\n",
    "import cv2 as cv\n",
    "from matplotlib import pyplot as plt"
   ]
  },
  {
   "cell_type": "code",
   "execution_count": null,
   "metadata": {},
   "outputs": [],
   "source": [
    "video = 'July/videos/video_capture_2024-07-01_09-08-21.mp4'\n",
    "videos = []\n",
    "\n",
    "for clip in [0.5, 0.75, 1, 2, 2.5, 3, 4, 7, 10]:\n",
    "    for tile in [4, 6, 8, 12, 16, 24, 32]:\n",
    "        videos.append(f'{video}#clip')\n",
    "\n",
    "# with open('clahe_todo.txt', 'w') as f:\n",
    "#     f.write('\\n')"
   ]
  },
  {
   "cell_type": "code",
   "execution_count": null,
   "metadata": {},
   "outputs": [],
   "source": [
    "img = cv.imread('clahe_test.jpg', cv.IMREAD_GRAYSCALE)\n",
    "assert img is not None, \"file could not be read, check with os.path.exists()\"\n",
    "\n",
    "plt.imshow(img, cmap='gray')\n",
    "plt.show()\n",
    "plt.close()\n",
    " \n",
    "hist,bins = np.histogram(img.flatten(),256,[0,256])\n",
    " \n",
    "cdf = hist.cumsum()\n",
    "cdf_normalized = cdf * float(hist.max()) / cdf.max()\n",
    " \n",
    "\n",
    "plt.plot(cdf_normalized, color = 'b')\n",
    "plt.hist(img.flatten(),256,[0,256], color = 'r')\n",
    "plt.xlim([0,256])\n",
    "plt.legend(('cdf','histogram'), loc = 'upper left')\n",
    "plt.show()"
   ]
  },
  {
   "cell_type": "code",
   "execution_count": null,
   "metadata": {},
   "outputs": [],
   "source": [
    "cdf_m = np.ma.masked_equal(cdf,0)\n",
    "cdf_m = (cdf_m - cdf_m.min())*255/(cdf_m.max()-cdf_m.min())\n",
    "cdf = np.ma.filled(cdf_m,0).astype('uint8')"
   ]
  },
  {
   "cell_type": "code",
   "execution_count": null,
   "metadata": {},
   "outputs": [],
   "source": [
    "img2 = cdf[img]"
   ]
  },
  {
   "cell_type": "code",
   "execution_count": null,
   "metadata": {},
   "outputs": [],
   "source": [
    "plt.imshow(img2, cmap='gray')\n",
    "plt.show()\n",
    "plt.close()\n",
    " \n",
    "hist,bins = np.histogram(img2.flatten(),256,[0,256])\n",
    " \n",
    "cdf = hist.cumsum()\n",
    "cdf_normalized = cdf * float(hist.max()) / cdf.max()\n",
    " \n",
    "\n",
    "plt.plot(cdf_normalized, color = 'b')\n",
    "plt.hist(img2.flatten(),256,[0,256], color = 'r')\n",
    "plt.xlim([0,256])\n",
    "plt.legend(('cdf','histogram'), loc = 'upper left')\n",
    "plt.show()"
   ]
  },
  {
   "cell_type": "code",
   "execution_count": null,
   "metadata": {},
   "outputs": [],
   "source": [
    "img = cv.imread('clahe_test.jpg', cv.IMREAD_GRAYSCALE)\n",
    "assert img is not None, \"file could not be read, check with os.path.exists()\"\n",
    " \n",
    "# create a CLAHE object (Arguments are optional).\n",
    "clahe = cv.createCLAHE(clipLimit=2.0, tileGridSize=(8,8))\n",
    "cl1 = clahe.apply(img)\n",
    "\n",
    "plt.imshow(img)\n",
    "plt.show(); plt.close()\n",
    " \n",
    "# plt.imshow(cl1, cmap='gray')\n",
    "plt.imshow(cl1)\n",
    "plt.show(); plt.close()\n",
    " \n",
    "hist,bins = np.histogram(cl1.flatten(),256,[0,256])\n",
    " \n",
    "cdf = hist.cumsum()\n",
    "cdf_normalized = cdf * float(hist.max()) / cdf.max()\n",
    " \n",
    "\n",
    "plt.plot(cdf_normalized, color = 'b')\n",
    "plt.hist(cl1.flatten(),256,[0,256], color = 'r')\n",
    "plt.xlim([0,256])\n",
    "plt.legend(('cdf','histogram'), loc = 'upper left')\n",
    "plt.show()\n",
    " \n",
    "cv.imwrite('clahe_test_out.jpg',cl1)"
   ]
  },
  {
   "cell_type": "code",
   "execution_count": null,
   "metadata": {},
   "outputs": [],
   "source": [
    "image = cv.imread('clahe_test.jpg')\n",
    "\n",
    "\n",
    "# Convert the image to LAB color space\n",
    "lab_image = cv.cvtColor(image, cv.COLOR_BGR2LAB)\n",
    "\n",
    "# Split the LAB image into L, A, and B channels\n",
    "l_channel, a_channel, b_channel = cv.split(lab_image)\n",
    "\n",
    "# Apply CLAHE to the L channel\n",
    "l_channel_clahe = clahe.apply(l_channel)\n",
    "\n",
    "# Merge the channels back together\n",
    "lab_image_clahe = cv.merge((l_channel_clahe, a_channel, b_channel))\n",
    "\n",
    "# Convert back to BGR color space\n",
    "enhanced_color_image = cv.cvtColor(lab_image_clahe, cv.COLOR_LAB2BGR)\n",
    "\n",
    "# Display the original and enhanced color images\n",
    "plt.imshow(image)\n",
    "plt.show(); plt.close()\n",
    "plt.imshow(enhanced_color_image)\n",
    "plt.show(); plt.close()\n",
    " \n",
    "cv.imwrite('clahe_test_out.jpg',enhanced_color_image)"
   ]
  },
  {
   "cell_type": "code",
   "execution_count": null,
   "metadata": {},
   "outputs": [],
   "source": [
    "import cv2\n",
    "import numpy as np\n",
    "import matplotlib.pyplot as plt"
   ]
  },
  {
   "cell_type": "code",
   "execution_count": null,
   "metadata": {},
   "outputs": [],
   "source": [
    "# Read the input video\n",
    "input_video_path = 'April/videos/video_capture_2024-04-10_08-15-37.mp4'\n",
    "cap = cv2.VideoCapture(input_video_path)"
   ]
  },
  {
   "cell_type": "code",
   "execution_count": null,
   "metadata": {},
   "outputs": [],
   "source": [
    "# Get video properties\n",
    "frame_width = int(cap.get(cv2.CAP_PROP_FRAME_WIDTH))\n",
    "frame_height = int(cap.get(cv2.CAP_PROP_FRAME_HEIGHT))\n",
    "fps = int(cap.get(cv2.CAP_PROP_FPS))\n",
    "frame_count = int(cap.get(cv2.CAP_PROP_FRAME_COUNT))"
   ]
  },
  {
   "cell_type": "code",
   "execution_count": null,
   "metadata": {},
   "outputs": [],
   "source": [
    "# Define the codec and create VideoWriter object\n",
    "output_video_path = 'output_video.mp4'\n",
    "fourcc = cv2.VideoWriter_fourcc(*'mp4v')\n",
    "out = cv2.VideoWriter(output_video_path, fourcc, fps, (frame_width, frame_height))"
   ]
  },
  {
   "cell_type": "code",
   "execution_count": null,
   "metadata": {},
   "outputs": [],
   "source": [
    "def apply_clahe(frame, clahe):\n",
    "\n",
    "    # Convert the image to LAB color space\n",
    "    lab_frame = cv2.cvtColor(frame, cv2.COLOR_BGR2LAB)\n",
    "\n",
    "    # Split the LAB image into L, A, and B channels\n",
    "    l_channel, a_channel, b_channel = cv2.split(lab_frame)\n",
    "\n",
    "    # Merge the channels back together\n",
    "    lab_image_clahe = cv2.merge((clahe.apply(l_channel), a_channel, b_channel))\n",
    "\n",
    "    # Convert back to BGR color space\n",
    "    new_frame = cv2.cvtColor(lab_image_clahe, cv2.COLOR_LAB2BGR)\n",
    "\n",
    "    return new_frame"
   ]
  },
  {
   "cell_type": "code",
   "execution_count": null,
   "metadata": {},
   "outputs": [],
   "source": [
    "clahe = cv2.createCLAHE(clipLimit=1.0, tileGridSize=(8,8))\n",
    "\n",
    "while cap.isOpened():\n",
    "    ret, frame = cap.read()\n",
    "    if not ret:\n",
    "        break\n",
    "\n",
    "    # apply clahe\n",
    "    new_frame = apply_clahe(frame, clahe)\n",
    "\n",
    "    # Write the frame to the output video\n",
    "    out.write(new_frame)"
   ]
  },
  {
   "cell_type": "code",
   "execution_count": null,
   "metadata": {},
   "outputs": [],
   "source": [
    "# Release everything\n",
    "cap.release()\n",
    "out.release()\n",
    "cv2.destroyAllWindows()"
   ]
  }
 ],
 "metadata": {
  "kernelspec": {
   "display_name": "pyorc",
   "language": "python",
   "name": "python3"
  },
  "language_info": {
   "codemirror_mode": {
    "name": "ipython",
    "version": 3
   },
   "file_extension": ".py",
   "mimetype": "text/x-python",
   "name": "python",
   "nbconvert_exporter": "python",
   "pygments_lexer": "ipython3",
   "version": "3.12.3"
  }
 },
 "nbformat": 4,
 "nbformat_minor": 2
}
