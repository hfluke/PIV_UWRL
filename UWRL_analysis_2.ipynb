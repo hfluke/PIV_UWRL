{
 "cells": [
  {
   "cell_type": "code",
   "execution_count": null,
   "metadata": {},
   "outputs": [],
   "source": [
    "import pandas as pd\n",
    "import numpy as np\n",
    "import seaborn as sns\n",
    "import matplotlib.pyplot as plt"
   ]
  },
  {
   "cell_type": "code",
   "execution_count": null,
   "metadata": {},
   "outputs": [],
   "source": [
    "import xarray as xr\n",
    "\n",
    "ds = xr.open_dataset('January/results/video_capture_2024-01-06_10-33-49_velocimetry_results.nc')\n",
    "ds = ds.mean(dim=\"time\", keep_attrs=True)\n",
    "\n",
    "dfx = ds.to_dataframe().reset_index()\n",
    "dfx.v_x.unique()"
   ]
  },
  {
   "cell_type": "code",
   "execution_count": null,
   "metadata": {},
   "outputs": [],
   "source": [
    "df = pd.read_csv('UWRL_river_velocimetry_dataset.csv')"
   ]
  },
  {
   "cell_type": "code",
   "execution_count": null,
   "metadata": {},
   "outputs": [],
   "source": [
    "# df[df.datetime == '2024-01-06 10:33:49'].v_x.unique()\n",
    "df[df.datetime == '2024-01-06 17:35:26']"
   ]
  },
  {
   "cell_type": "code",
   "execution_count": null,
   "metadata": {},
   "outputs": [],
   "source": [
    "df['v_pos'] =  [0 if pd.isna(x) else (-1 if x < 0 else 1) for x in df['v_x']]\n",
    "df.datetime = pd.to_datetime(df.datetime)\n",
    "print(df.columns)\n",
    "df"
   ]
  },
  {
   "cell_type": "code",
   "execution_count": null,
   "metadata": {},
   "outputs": [],
   "source": [
    "plt.figure(figsize=(20, 10))\n",
    "\n",
    "sns.histplot(\n",
    "    data=df,\n",
    "    x='conditions',\n",
    "    hue='v_pos',\n",
    "    discrete=True,\n",
    "    multiple='dodge',\n",
    "    shrink=0.8\n",
    ")"
   ]
  },
  {
   "cell_type": "code",
   "execution_count": null,
   "metadata": {},
   "outputs": [],
   "source": [
    "conditions = df.conditions.unique()\n",
    "\n",
    "for condition in conditions:\n",
    "    df_temp = df[df.conditions == condition]\n",
    "    print(condition)\n",
    "    print(f'       negative: {len(df_temp[df_temp.v_pos == -1]) / len(df_temp):.2%}')\n",
    "    print(f'            nan: {len(df_temp[df_temp.v_pos ==  0]) / len(df_temp):.2%}')\n",
    "    print(f'    nonnegative: {len(df_temp[df_temp.v_pos ==  1]) / len(df_temp):.2%}')"
   ]
  },
  {
   "cell_type": "code",
   "execution_count": null,
   "metadata": {},
   "outputs": [],
   "source": [
    "df2 = df.groupby(['datetime', 'v_pos']).aggregate({'v_pos': 'count'})\n",
    "df2 = df2.rename(columns={'v_pos': 'v_pos_counts'}).reset_index()\n",
    "df2 "
   ]
  },
  {
   "cell_type": "code",
   "execution_count": null,
   "metadata": {},
   "outputs": [],
   "source": [
    "# sns.lineplot(\n",
    "#     data=df2[df2.v_pos == -1],\n",
    "#     x='datetime',\n",
    "#     y='v_pos_counts'\n",
    "# )\n",
    "\n",
    "sns.lineplot(\n",
    "    data=df2[df2.v_pos == 0],\n",
    "    x='datetime',\n",
    "    y='v_pos_counts'\n",
    ")\n",
    "\n",
    "# sns.lineplot(\n",
    "#     data=df2[df2.v_pos == 1],\n",
    "#     x='datetime',\n",
    "#     y='v_pos_counts'\n",
    "# )"
   ]
  },
  {
   "cell_type": "code",
   "execution_count": null,
   "metadata": {},
   "outputs": [],
   "source": [
    "df2[(df2.v_pos == 0)&(df2.v_pos_counts > 2000)]\n",
    "df2[df2.datetime == '2024-01-06 17:35:26']"
   ]
  }
 ],
 "metadata": {
  "kernelspec": {
   "display_name": "pyorc",
   "language": "python",
   "name": "python3"
  },
  "language_info": {
   "codemirror_mode": {
    "name": "ipython",
    "version": 3
   },
   "file_extension": ".py",
   "mimetype": "text/x-python",
   "name": "python",
   "nbconvert_exporter": "python",
   "pygments_lexer": "ipython3",
   "version": "3.1.-1"
  }
 },
 "nbformat": 4,
 "nbformat_minor": 2
}
