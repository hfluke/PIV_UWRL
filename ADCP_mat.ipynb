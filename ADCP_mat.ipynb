{
 "cells": [
  {
   "cell_type": "code",
   "execution_count": null,
   "metadata": {},
   "outputs": [],
   "source": [
    "# 'LR_WaterLab_AA_20240604_132107_edited_pp_Matlab/01-Transect_20240604122546.mat'"
   ]
  },
  {
   "cell_type": "code",
   "execution_count": null,
   "metadata": {},
   "outputs": [],
   "source": [
    "import h5py\n",
    "\n",
    "# Attempt to open the file using h5py\n",
    "try:\n",
    "    with h5py.File('LR_WaterLab_AA_20240604_132107_edited_pp_Matlab/02-Transect_20240604122819.mat', 'r') as f:\n",
    "        # List all keys to find your dataset\n",
    "        print(\"Keys in the file:\", list(f.keys()))\n",
    "        \n",
    "        # Access the dataset\n",
    "        data_matrix = f['your_dataset'][:]  # Replace 'your_dataset' with the actual key\n",
    "\n",
    "    # Convert to DataFrame\n",
    "    import pandas as pd\n",
    "    df = pd.DataFrame(data_matrix)\n",
    "    print(\"DataFrame created successfully:\")\n",
    "    print(df.head())\n",
    "\n",
    "except OSError as e:\n",
    "    print(f\"File format is not HDF5 or file is corrupted: {e}\")\n"
   ]
  }
 ],
 "metadata": {
  "kernelspec": {
   "display_name": "pyorc",
   "language": "python",
   "name": "python3"
  },
  "language_info": {
   "codemirror_mode": {
    "name": "ipython",
    "version": 3
   },
   "file_extension": ".py",
   "mimetype": "text/x-python",
   "name": "python",
   "nbconvert_exporter": "python",
   "pygments_lexer": "ipython3",
   "version": "3.12.3"
  }
 },
 "nbformat": 4,
 "nbformat_minor": 2
}
