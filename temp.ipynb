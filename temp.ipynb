{
 "cells": [
  {
   "cell_type": "code",
   "execution_count": 1,
   "metadata": {},
   "outputs": [],
   "source": [
    "import pandas as pd\n",
    "import numpy as np\n",
    "import seaborn as sns\n",
    "import matplotlib.pyplot as plt"
   ]
  },
  {
   "cell_type": "code",
   "execution_count": 2,
   "metadata": {},
   "outputs": [
    {
     "name": "stdout",
     "output_type": "stream",
     "text": [
      "Index(['datetime', 'y', 'x', 'v_x', 'v_y', 'v_len', 's2n', 'corr',\n",
      "       'sun_altitude', 'sun_azimuth', 'spacial_location', 'LRO_discharge',\n",
      "       'LRO_discharge_site', 'turbidity', 'vegetation', 'visibility',\n",
      "       'cloudcover', 'solarradiation', 'uvindex', 'conditions', 'v_pos',\n",
      "       'v_downstream', 'angle', 'angle_var'],\n",
      "      dtype='object')\n"
     ]
    }
   ],
   "source": [
    "df = pd.read_csv('temp_UWRL_river_velocimetry_dataset.csv')\n",
    "# df['v_pos'] = [0 if value < 0 else 1 for value in df.v_x.values] \n",
    "# df.pH = [value if value < 15 else value / 10 for value in df.pH.values]\n",
    "df.datetime = pd.to_datetime(df.datetime)\n",
    "print(df.columns)\n",
    "# df"
   ]
  },
  {
   "cell_type": "code",
   "execution_count": 5,
   "metadata": {},
   "outputs": [
    {
     "data": {
      "text/plain": [
       "<DatetimeArray>\n",
       "['2024-03-04 10:59:46', '2024-03-04 15:52:43', '2024-03-04 16:25:16']\n",
       "Length: 3, dtype: datetime64[ns]"
      ]
     },
     "execution_count": 5,
     "metadata": {},
     "output_type": "execute_result"
    }
   ],
   "source": [
    "df[df.conditions == 'Snow, Rain, Partially cloudy'].datetime.unique()"
   ]
  },
  {
   "cell_type": "code",
   "execution_count": null,
   "metadata": {},
   "outputs": [],
   "source": [
    "print(sorted(df.v_len.unique())[-1])\n",
    "\n",
    "sns.histplot(\n",
    "    data=df,\n",
    "    x='v_len',\n",
    "    bins=100\n",
    ")"
   ]
  },
  {
   "cell_type": "markdown",
   "metadata": {},
   "source": [
    "### Does the time of day effect the number of vectors present?"
   ]
  },
  {
   "cell_type": "code",
   "execution_count": null,
   "metadata": {},
   "outputs": [],
   "source": [
    "fig, axes = plt.subplots(1, 3, figsize=(18, 4))\n",
    "\n",
    "sns.scatterplot(\n",
    "    data=df[df.v_x >= 0],\n",
    "    x='sun_altitude',\n",
    "    y='v_x',\n",
    "    ax=axes[0]\n",
    ")\n",
    "\n",
    "sns.scatterplot(\n",
    "    data=df,\n",
    "    x='sun_altitude',\n",
    "    y='v_x',\n",
    "    ax=axes[1]\n",
    ")\n",
    "\n",
    "sns.scatterplot(\n",
    "    data=df[df.v_x < 0],\n",
    "    x='sun_altitude',\n",
    "    y='v_x',\n",
    "    ax=axes[2]\n",
    ")"
   ]
  },
  {
   "cell_type": "code",
   "execution_count": null,
   "metadata": {},
   "outputs": [],
   "source": [
    "sns.scatterplot(\n",
    "    data=df,\n",
    "    x='sun_altitude',\n",
    "    y='v_len'\n",
    ")"
   ]
  },
  {
   "cell_type": "code",
   "execution_count": null,
   "metadata": {},
   "outputs": [],
   "source": [
    "df[df.sun_altitude < 0]\n",
    "df.columns"
   ]
  },
  {
   "cell_type": "code",
   "execution_count": null,
   "metadata": {},
   "outputs": [],
   "source": [
    "fig, axes = plt.subplots(1, 2, figsize=(16, 4))\n",
    "\n",
    "var = 'visibility'\n",
    "\n",
    "sns.histplot(\n",
    "    data=df,\n",
    "    x=var,\n",
    "    ax=axes[0]\n",
    ")\n",
    "\n",
    "sns.histplot(\n",
    "    data=df[df.sun_altitude < 0],\n",
    "    x=var,\n",
    "    ax=axes[1]\n",
    ")"
   ]
  },
  {
   "cell_type": "code",
   "execution_count": null,
   "metadata": {},
   "outputs": [],
   "source": [
    "sns.histplot(\n",
    "    # data=df[df.sun_altitude < 0],\n",
    "    data=df,\n",
    "    x='uvindex',\n",
    "    discrete=True,\n",
    "    shrink=0.8\n",
    ")"
   ]
  },
  {
   "cell_type": "code",
   "execution_count": null,
   "metadata": {},
   "outputs": [],
   "source": [
    "sns.histplot(\n",
    "    data=df,\n",
    "    x='sun_altitude',\n",
    "    y='v_x',\n",
    "    binwidth=[0.05, 0.1]\n",
    ")"
   ]
  },
  {
   "cell_type": "code",
   "execution_count": null,
   "metadata": {},
   "outputs": [],
   "source": [
    "df2 = df.copy()\n",
    "df2['sun_alt_rounded'] = 0.2 * round(df.sun_altitude / 0.2)\n",
    "\n",
    "sns.histplot(\n",
    "    data=df2,\n",
    "    x='v_x',\n",
    "    hue='sun_alt_rounded',\n",
    "    binwidth=0.1\n",
    ")"
   ]
  },
  {
   "cell_type": "code",
   "execution_count": null,
   "metadata": {},
   "outputs": [],
   "source": [
    "sns.histplot(\n",
    "    data=df[df.cloudcover == 0],\n",
    "    x='sun_altitude',\n",
    "    hue='v_pos',\n",
    "    bins=5\n",
    ")"
   ]
  },
  {
   "cell_type": "code",
   "execution_count": null,
   "metadata": {},
   "outputs": [],
   "source": [
    "sns.scatterplot(\n",
    "    # data=df[(df.cloudcover == 0)&(df.v_x >= 0)&(df.v_len >= 0.15)],\n",
    "    data=df[(df.cloudcover == 0)&(df.v_len >= 0.15)],\n",
    "    x='sun_altitude',\n",
    "    y='v_x',\n",
    ")"
   ]
  },
  {
   "cell_type": "markdown",
   "metadata": {},
   "source": [
    "### Does the cloudcover effect the number of vectors present?"
   ]
  },
  {
   "cell_type": "code",
   "execution_count": null,
   "metadata": {},
   "outputs": [],
   "source": [
    "sns.histplot(\n",
    "    data=df,\n",
    "    x='cloudcover',\n",
    "    y='v_x'\n",
    ")"
   ]
  },
  {
   "cell_type": "code",
   "execution_count": null,
   "metadata": {},
   "outputs": [],
   "source": [
    "sns.histplot(\n",
    "    data=df[df.v_x >= 0],\n",
    "    x='cloudcover',\n",
    "    y='v_len'\n",
    ")"
   ]
  },
  {
   "cell_type": "code",
   "execution_count": null,
   "metadata": {},
   "outputs": [],
   "source": [
    "df[df.cloudcover == 0]"
   ]
  },
  {
   "cell_type": "markdown",
   "metadata": {},
   "source": [
    "Does wind speed correlate with the length of vectors?"
   ]
  },
  {
   "cell_type": "code",
   "execution_count": null,
   "metadata": {},
   "outputs": [],
   "source": [
    "sns.histplot(\n",
    "    data=df[df.v_len >= 0.15],\n",
    "    x='v_len',\n",
    "    bins=12\n",
    ")"
   ]
  },
  {
   "cell_type": "code",
   "execution_count": null,
   "metadata": {},
   "outputs": [],
   "source": [
    "df[df.v_len < 0.01]"
   ]
  },
  {
   "cell_type": "code",
   "execution_count": null,
   "metadata": {},
   "outputs": [],
   "source": [
    "sns.scatterplot(\n",
    "    data=df[(df.cloudcover == 0)&(df.v_x >= 0)&(df.v_len >= 0.15)],\n",
    "    x='sun_azimuth',\n",
    "    y='v_len'\n",
    ")\n",
    "df.columns"
   ]
  },
  {
   "cell_type": "code",
   "execution_count": null,
   "metadata": {},
   "outputs": [],
   "source": [
    "plt.figure(figsize=(15, 5))\n",
    "\n",
    "sns.histplot(\n",
    "    data=df,\n",
    "    x='cloudcover',\n",
    "    y='v_len',\n",
    "    # shrink=0.8\n",
    ")"
   ]
  },
  {
   "cell_type": "code",
   "execution_count": null,
   "metadata": {},
   "outputs": [],
   "source": [
    "df.columns"
   ]
  },
  {
   "cell_type": "code",
   "execution_count": null,
   "metadata": {},
   "outputs": [],
   "source": [
    "fig, axes = plt.subplots(1, 2, figsize=(15, 6))\n",
    "\n",
    "sns.scatterplot(\n",
    "    data=df,\n",
    "    x='pH',\n",
    "    y='v_len',\n",
    "    ax=axes[0]\n",
    ")\n",
    "\n",
    "sns.scatterplot(\n",
    "    data=df,\n",
    "    x='pH',\n",
    "    y='v_x',\n",
    "    ax=axes[1]\n",
    ")"
   ]
  },
  {
   "cell_type": "code",
   "execution_count": null,
   "metadata": {},
   "outputs": [],
   "source": [
    "sns.scatterplot(\n",
    "    data=df,\n",
    "    x='datetime',\n",
    "    y='v_len',\n",
    "    # line_kws={'color': 'red'}\n",
    ")"
   ]
  },
  {
   "cell_type": "code",
   "execution_count": null,
   "metadata": {},
   "outputs": [],
   "source": [
    "df['v_pos'] = [0 if value < 0 else 1 for value in df.v_x.values] \n",
    "\n",
    "sns.histplot(\n",
    "    data=df,\n",
    "    x='v_pos',\n",
    "    hue='conditions',\n",
    "    discrete=True,\n",
    "    shrink=0.8,\n",
    "    multiple='dodge'\n",
    ")"
   ]
  },
  {
   "cell_type": "code",
   "execution_count": null,
   "metadata": {},
   "outputs": [],
   "source": [
    "plt.figure(figsize=(15, 5))\n",
    "\n",
    "sns.histplot(\n",
    "    data=df,\n",
    "    x='conditions',\n",
    "    hue='v_pos',\n",
    "    discrete=True,\n",
    "    shrink=0.8,\n",
    "    multiple='dodge'\n",
    ")"
   ]
  },
  {
   "cell_type": "code",
   "execution_count": null,
   "metadata": {},
   "outputs": [],
   "source": [
    "plt.figure(figsize=(15, 5))\n",
    "\n",
    "sns.histplot(\n",
    "    data=df,\n",
    "    x='uvindex',\n",
    "    hue='v_pos',\n",
    "    discrete=True,\n",
    "    shrink=0.8,\n",
    "    multiple='dodge'\n",
    ")"
   ]
  },
  {
   "cell_type": "code",
   "execution_count": null,
   "metadata": {},
   "outputs": [],
   "source": [
    "sns.regplot(\n",
    "    data=df,\n",
    "    x='LRO_discharge',\n",
    "    y='v_len',\n",
    "    line_kws={'color': 'red'},\n",
    ")"
   ]
  },
  {
   "cell_type": "code",
   "execution_count": null,
   "metadata": {},
   "outputs": [],
   "source": [
    "sns.regplot(\n",
    "    data=df,\n",
    "    x='LRO_discharge',\n",
    "    y='v_x',\n",
    "    line_kws={'color': 'red'},\n",
    ")"
   ]
  }
 ],
 "metadata": {
  "kernelspec": {
   "display_name": "pyorc",
   "language": "python",
   "name": "python3"
  },
  "language_info": {
   "codemirror_mode": {
    "name": "ipython",
    "version": 3
   },
   "file_extension": ".py",
   "mimetype": "text/x-python",
   "name": "python",
   "nbconvert_exporter": "python",
   "pygments_lexer": "ipython3",
   "version": "3.12.3"
  }
 },
 "nbformat": 4,
 "nbformat_minor": 2
}
