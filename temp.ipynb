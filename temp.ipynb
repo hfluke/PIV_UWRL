{
 "cells": [
  {
   "cell_type": "code",
   "execution_count": null,
   "metadata": {},
   "outputs": [],
   "source": [
    "import pandas as pd\n",
    "import numpy as np\n",
    "import seaborn as sns\n",
    "import matplotlib.pyplot as plt\n",
    "import math"
   ]
  },
  {
   "cell_type": "code",
   "execution_count": null,
   "metadata": {},
   "outputs": [],
   "source": [
    "df = pd.read_csv('temp2/temp_1.csv')\n",
    "df['v_len'] = [math.sqrt(df.iloc[i].v_x * df.iloc[i].v_x + df.iloc[i].v_y * df.iloc[i].v_y) for i in range(len(df))]\n",
    "print(df.columns)\n",
    "df"
   ]
  },
  {
   "cell_type": "markdown",
   "metadata": {},
   "source": [
    "### Does the time of day effect the number of vectors present?"
   ]
  },
  {
   "cell_type": "code",
   "execution_count": null,
   "metadata": {},
   "outputs": [],
   "source": [
    "fig, axes = plt.subplots(1, 3, figsize=(18, 4))\n",
    "\n",
    "sns.regplot(\n",
    "    data=df[df.v_x >= 0],\n",
    "    x='sun_altitude',\n",
    "    y='v_x',\n",
    "    line_kws={'color': 'red'},\n",
    "    ax=axes[0]\n",
    ")\n",
    "\n",
    "sns.regplot(\n",
    "    data=df,\n",
    "    x='sun_altitude',\n",
    "    y='v_x',\n",
    "    line_kws={'color': 'red'},\n",
    "    ax=axes[1]\n",
    ")\n",
    "\n",
    "sns.regplot(\n",
    "    data=df[df.v_x < 0],\n",
    "    x='sun_altitude',\n",
    "    y='v_x',\n",
    "    line_kws={'color': 'red'},\n",
    "    ax=axes[2]\n",
    ")"
   ]
  },
  {
   "cell_type": "code",
   "execution_count": null,
   "metadata": {},
   "outputs": [],
   "source": [
    "sns.histplot(\n",
    "    data=df,\n",
    "    x='sun_altitude',\n",
    "    y='v_x',\n",
    "    binwidth=[0.05, 0.1]\n",
    ")"
   ]
  },
  {
   "cell_type": "code",
   "execution_count": null,
   "metadata": {},
   "outputs": [],
   "source": [
    "df2 = df.copy()\n",
    "df2['sun_alt_rounded'] = 0.2 * round(df.sun_altitude / 0.2)\n",
    "\n",
    "sns.histplot(\n",
    "    data=df2,\n",
    "    x='v_x',\n",
    "    hue='sun_alt_rounded',\n",
    "    binwidth=0.1\n",
    ")"
   ]
  },
  {
   "cell_type": "code",
   "execution_count": null,
   "metadata": {},
   "outputs": [],
   "source": [
    "sns.regplot(\n",
    "    data=df[df.cloudcover == 0],\n",
    "    x='sun_altitude',\n",
    "    y='v_x',\n",
    "    line_kws={'color': 'red'}\n",
    ")"
   ]
  },
  {
   "cell_type": "code",
   "execution_count": null,
   "metadata": {},
   "outputs": [],
   "source": [
    "sns.regplot(\n",
    "    data=df[(df.cloudcover == 0)&(df.v_x >= 0)&(df.v_len >= 0.15)],\n",
    "    x='sun_altitude',\n",
    "    y='v_len',\n",
    "    line_kws={'color': 'red'}\n",
    ")"
   ]
  },
  {
   "cell_type": "markdown",
   "metadata": {},
   "source": [
    "### Does the cloudcover effect the number of vectors present?"
   ]
  },
  {
   "cell_type": "code",
   "execution_count": null,
   "metadata": {},
   "outputs": [],
   "source": [
    "sns.histplot(\n",
    "    data=df,\n",
    "    x='cloudcover',\n",
    "    y='v_x'\n",
    ")"
   ]
  },
  {
   "cell_type": "code",
   "execution_count": null,
   "metadata": {},
   "outputs": [],
   "source": [
    "sns.histplot(\n",
    "    data=df[df.v_x >= 0],\n",
    "    x='cloudcover',\n",
    "    y='v_len'\n",
    ")"
   ]
  },
  {
   "cell_type": "code",
   "execution_count": null,
   "metadata": {},
   "outputs": [],
   "source": [
    "df[df.cloudcover == 0]"
   ]
  },
  {
   "cell_type": "markdown",
   "metadata": {},
   "source": [
    "Does wind speed correlate with the length of vectors?"
   ]
  },
  {
   "cell_type": "code",
   "execution_count": null,
   "metadata": {},
   "outputs": [],
   "source": [
    "sns.histplot(\n",
    "    data=df[df.v_len >= 0.15],\n",
    "    x='v_len',\n",
    "    bins=10\n",
    ")"
   ]
  },
  {
   "cell_type": "code",
   "execution_count": null,
   "metadata": {},
   "outputs": [],
   "source": [
    "df[df.v_len < 0.01]"
   ]
  },
  {
   "cell_type": "code",
   "execution_count": null,
   "metadata": {},
   "outputs": [],
   "source": [
    "sns.scatterplot(\n",
    "    data=df[(df.cloudcover == 0)&(df.v_x >= 0)&(df.v_len >= 0.15)],\n",
    "    x='sun_azimuth',\n",
    "    y='v_len'\n",
    ")\n",
    "df.columns"
   ]
  },
  {
   "cell_type": "code",
   "execution_count": null,
   "metadata": {},
   "outputs": [],
   "source": [
    "plt.figure(figsize=(15, 5))\n",
    "\n",
    "sns.histplot(\n",
    "    data=df,\n",
    "    x='cloudcover',\n",
    "    y='v_len',\n",
    "    # shrink=0.8\n",
    ")"
   ]
  },
  {
   "cell_type": "code",
   "execution_count": null,
   "metadata": {},
   "outputs": [],
   "source": [
    "df.columns"
   ]
  },
  {
   "cell_type": "code",
   "execution_count": null,
   "metadata": {},
   "outputs": [],
   "source": [
    "fig, axes = plt.subplots(1, 2, figsize=(15, 6))\n",
    "\n",
    "sns.regplot(\n",
    "    data=df,\n",
    "    x='pH',\n",
    "    y='v_len',\n",
    "    line_kws={'color': 'red'},\n",
    "    ax=axes[0]\n",
    ")\n",
    "\n",
    "sns.regplot(\n",
    "    data=df,\n",
    "    x='pH',\n",
    "    y='v_x',\n",
    "    line_kws={'color': 'red'},\n",
    "    ax=axes[1]\n",
    ")"
   ]
  }
 ],
 "metadata": {
  "kernelspec": {
   "display_name": "pyorc",
   "language": "python",
   "name": "python3"
  },
  "language_info": {
   "codemirror_mode": {
    "name": "ipython",
    "version": 3
   },
   "file_extension": ".py",
   "mimetype": "text/x-python",
   "name": "python",
   "nbconvert_exporter": "python",
   "pygments_lexer": "ipython3",
   "version": "3.12.3"
  }
 },
 "nbformat": 4,
 "nbformat_minor": 2
}
