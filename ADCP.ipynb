{
 "cells": [
  {
   "cell_type": "code",
   "execution_count": null,
   "metadata": {},
   "outputs": [],
   "source": [
    "import pyorc\n",
    "import numpy as np\n",
    "import pandas as pd\n",
    "import xarray as xr\n",
    "import seaborn as sns\n",
    "import matplotlib.pyplot as plt"
   ]
  },
  {
   "cell_type": "code",
   "execution_count": null,
   "metadata": {},
   "outputs": [],
   "source": [
    "adcp = pd.read_csv('LR_WaterLab_AA_20240604_132107_edited_pp.csv', sep='\\t')\n",
    "# adcp = adcp.rename(columns={'Mean Speed (m/s)': 'v_len'})\n",
    "print(adcp.columns)\n",
    "adcp"
   ]
  },
  {
   "cell_type": "code",
   "execution_count": null,
   "metadata": {},
   "outputs": [],
   "source": [
    "ds = xr.open_dataset('June/results/video_capture_2024-06-04_13-06-48_velocimetry_results.nc')\n",
    "ds = ds.mean(dim=\"time\", keep_attrs=True)\n",
    "\n",
    "df = ds.to_dataframe().reset_index(); ds.close()\n",
    "df['v_len'] = np.sqrt(df.v_x**2 + df.v_y**2)\n",
    "df\n"
   ]
  },
  {
   "cell_type": "code",
   "execution_count": null,
   "metadata": {},
   "outputs": [],
   "source": [
    "ds = xr.open_dataset('June/results/video_capture_2024-06-04_13-06-48_velocimetry_results.nc')\n",
    "\n",
    "ds.velocimetry.mask.corr(inplace=True)\n",
    "ds.velocimetry.mask.minmax(inplace=True)\n",
    "ds.velocimetry.mask.rolling(inplace=True)\n",
    "ds.velocimetry.mask.outliers(inplace=True)\n",
    "ds.velocimetry.mask.variance(inplace=True)\n",
    "ds.velocimetry.mask.angle(angle_tolerance=0.5*np.pi)\n",
    "ds.velocimetry.mask.count(inplace=True)\n",
    "ds.velocimetry.mask.window_mean(wdw=2, inplace=True, tolerance=0.5, reduce_time=True)\n",
    "\n",
    "ds = ds.mean(dim=\"time\", keep_attrs=True)\n",
    "\n",
    "df_post = ds.to_dataframe().reset_index(); ds.close()\n",
    "df_post['v_len'] = np.sqrt(df_post.v_x**2 + df_post.v_y**2)\n",
    "df_post"
   ]
  },
  {
   "cell_type": "code",
   "execution_count": null,
   "metadata": {},
   "outputs": [],
   "source": [
    "print('MEAN VELOCITY')\n",
    "print(f'{'ADCP':<24}: {np.mean(adcp['v_len'])}')\n",
    "print(f'{'PyORC':<24}: {np.mean(df['v_len'])}')\n",
    "print(f'{'PyORC w/ post-processing':<24}: {np.mean(df_post['v_len'])}')\n",
    "\n",
    "range = [0,2.5]\n",
    "n=64\n",
    "\n",
    "plt.figure(figsize=(7, 5))\n",
    "\n",
    "sns.histplot(\n",
    "    data=adcp,\n",
    "    x='v_len',\n",
    "    binrange=range,\n",
    "    bins=n,\n",
    "    label='ADCP'\n",
    ")\n",
    "sns.histplot(\n",
    "    data=df,\n",
    "    x='v_len',\n",
    "    binrange=range,\n",
    "    bins=n,\n",
    "    label='PyORC'\n",
    ")\n",
    "sns.histplot(\n",
    "    data=df_post,\n",
    "    x='v_len',\n",
    "    binrange=range,\n",
    "    bins=n,\n",
    "    label='PyORC w/ post-processing'\n",
    ")\n",
    "\n",
    "plt.xlabel('velocity')\n",
    "plt.legend()"
   ]
  }
 ],
 "metadata": {
  "kernelspec": {
   "display_name": "pyorc",
   "language": "python",
   "name": "python3"
  },
  "language_info": {
   "codemirror_mode": {
    "name": "ipython",
    "version": 3
   },
   "file_extension": ".py",
   "mimetype": "text/x-python",
   "name": "python",
   "nbconvert_exporter": "python",
   "pygments_lexer": "ipython3",
   "version": "3.12.3"
  }
 },
 "nbformat": 4,
 "nbformat_minor": 2
}
