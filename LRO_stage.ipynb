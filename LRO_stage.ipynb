{
 "cells": [
  {
   "cell_type": "code",
   "execution_count": 1,
   "metadata": {},
   "outputs": [],
   "source": [
    "import pandas as pd"
   ]
  },
  {
   "cell_type": "code",
   "execution_count": 2,
   "metadata": {},
   "outputs": [
    {
     "data": {
      "text/plain": [
       "Index(['LocalDateTime', 'UTCOffset', 'DateTimeUTC', 'BGA', 'BattVolt',\n",
       "       'Chlorophyll', 'Discharge_cms', 'Door_Tot', 'EXOTime', 'EXOVolt', 'ODO',\n",
       "       'ODO_Local', 'ODO_Sat', 'RH_enc', 'Rain_Tot', 'SpCond', 'Stage',\n",
       "       'StageNaNCounter', 'StageOffset', 'TurbAvg', 'TurbBES', 'TurbMax',\n",
       "       'TurbMed', 'TurbMin', 'TurbVar', 'TurbWipe', 'WaterSurfaceElev',\n",
       "       'WaterTemp_EXO', 'WaterTemp_PT', 'WaterTemp_Turb', 'fDOM', 'pH'],\n",
       "      dtype='object')"
      ]
     },
     "execution_count": 2,
     "metadata": {},
     "output_type": "execute_result"
    }
   ],
   "source": [
    "df = pd.read_csv(\"LRO_dec.csv\")\n",
    "df.columns"
   ]
  },
  {
   "cell_type": "code",
   "execution_count": 5,
   "metadata": {},
   "outputs": [],
   "source": [
    "frames = []\n",
    "for datetime in df.LocalDateTime.values:\n",
    "    (\"2024-12-04\" in datetime) and frames.append(datetime)\n",
    "# frames"
   ]
  },
  {
   "cell_type": "code",
   "execution_count": 4,
   "metadata": {},
   "outputs": [
    {
     "data": {
      "text/html": [
       "<div>\n",
       "<style scoped>\n",
       "    .dataframe tbody tr th:only-of-type {\n",
       "        vertical-align: middle;\n",
       "    }\n",
       "\n",
       "    .dataframe tbody tr th {\n",
       "        vertical-align: top;\n",
       "    }\n",
       "\n",
       "    .dataframe thead th {\n",
       "        text-align: right;\n",
       "    }\n",
       "</style>\n",
       "<table border=\"1\" class=\"dataframe\">\n",
       "  <thead>\n",
       "    <tr style=\"text-align: right;\">\n",
       "      <th></th>\n",
       "      <th>LocalDateTime</th>\n",
       "      <th>DateTimeUTC</th>\n",
       "      <th>Stage</th>\n",
       "      <th>WaterSurfaceElev</th>\n",
       "      <th>Discharge_cms</th>\n",
       "    </tr>\n",
       "  </thead>\n",
       "  <tbody>\n",
       "    <tr>\n",
       "      <th>32438</th>\n",
       "      <td>2024-12-04 00:00:00</td>\n",
       "      <td>2024-12-04 07:00:00</td>\n",
       "      <td>10.61</td>\n",
       "      <td>7.37</td>\n",
       "      <td>3.72</td>\n",
       "    </tr>\n",
       "    <tr>\n",
       "      <th>32439</th>\n",
       "      <td>2024-12-04 00:15:00</td>\n",
       "      <td>2024-12-04 07:15:00</td>\n",
       "      <td>10.75</td>\n",
       "      <td>7.38</td>\n",
       "      <td>3.74</td>\n",
       "    </tr>\n",
       "    <tr>\n",
       "      <th>32440</th>\n",
       "      <td>2024-12-04 00:30:00</td>\n",
       "      <td>2024-12-04 07:30:00</td>\n",
       "      <td>10.61</td>\n",
       "      <td>7.37</td>\n",
       "      <td>3.72</td>\n",
       "    </tr>\n",
       "    <tr>\n",
       "      <th>32441</th>\n",
       "      <td>2024-12-04 00:45:00</td>\n",
       "      <td>2024-12-04 07:45:00</td>\n",
       "      <td>10.50</td>\n",
       "      <td>7.37</td>\n",
       "      <td>3.70</td>\n",
       "    </tr>\n",
       "    <tr>\n",
       "      <th>32442</th>\n",
       "      <td>2024-12-04 01:00:00</td>\n",
       "      <td>2024-12-04 08:00:00</td>\n",
       "      <td>10.39</td>\n",
       "      <td>7.37</td>\n",
       "      <td>3.68</td>\n",
       "    </tr>\n",
       "    <tr>\n",
       "      <th>...</th>\n",
       "      <td>...</td>\n",
       "      <td>...</td>\n",
       "      <td>...</td>\n",
       "      <td>...</td>\n",
       "      <td>...</td>\n",
       "    </tr>\n",
       "    <tr>\n",
       "      <th>32529</th>\n",
       "      <td>2024-12-04 22:45:00</td>\n",
       "      <td>2024-12-05 05:45:00</td>\n",
       "      <td>9.94</td>\n",
       "      <td>7.37</td>\n",
       "      <td>3.61</td>\n",
       "    </tr>\n",
       "    <tr>\n",
       "      <th>32530</th>\n",
       "      <td>2024-12-04 23:00:00</td>\n",
       "      <td>2024-12-05 06:00:00</td>\n",
       "      <td>9.79</td>\n",
       "      <td>7.37</td>\n",
       "      <td>3.59</td>\n",
       "    </tr>\n",
       "    <tr>\n",
       "      <th>32531</th>\n",
       "      <td>2024-12-04 23:15:00</td>\n",
       "      <td>2024-12-05 06:15:00</td>\n",
       "      <td>9.65</td>\n",
       "      <td>7.36</td>\n",
       "      <td>3.57</td>\n",
       "    </tr>\n",
       "    <tr>\n",
       "      <th>32532</th>\n",
       "      <td>2024-12-04 23:30:00</td>\n",
       "      <td>2024-12-05 06:30:00</td>\n",
       "      <td>9.63</td>\n",
       "      <td>7.36</td>\n",
       "      <td>3.56</td>\n",
       "    </tr>\n",
       "    <tr>\n",
       "      <th>32533</th>\n",
       "      <td>2024-12-04 23:45:00</td>\n",
       "      <td>2024-12-05 06:45:00</td>\n",
       "      <td>9.51</td>\n",
       "      <td>7.36</td>\n",
       "      <td>3.55</td>\n",
       "    </tr>\n",
       "  </tbody>\n",
       "</table>\n",
       "<p>96 rows × 5 columns</p>\n",
       "</div>"
      ],
      "text/plain": [
       "             LocalDateTime          DateTimeUTC  Stage  WaterSurfaceElev  \\\n",
       "32438  2024-12-04 00:00:00  2024-12-04 07:00:00  10.61              7.37   \n",
       "32439  2024-12-04 00:15:00  2024-12-04 07:15:00  10.75              7.38   \n",
       "32440  2024-12-04 00:30:00  2024-12-04 07:30:00  10.61              7.37   \n",
       "32441  2024-12-04 00:45:00  2024-12-04 07:45:00  10.50              7.37   \n",
       "32442  2024-12-04 01:00:00  2024-12-04 08:00:00  10.39              7.37   \n",
       "...                    ...                  ...    ...               ...   \n",
       "32529  2024-12-04 22:45:00  2024-12-05 05:45:00   9.94              7.37   \n",
       "32530  2024-12-04 23:00:00  2024-12-05 06:00:00   9.79              7.37   \n",
       "32531  2024-12-04 23:15:00  2024-12-05 06:15:00   9.65              7.36   \n",
       "32532  2024-12-04 23:30:00  2024-12-05 06:30:00   9.63              7.36   \n",
       "32533  2024-12-04 23:45:00  2024-12-05 06:45:00   9.51              7.36   \n",
       "\n",
       "       Discharge_cms  \n",
       "32438           3.72  \n",
       "32439           3.74  \n",
       "32440           3.72  \n",
       "32441           3.70  \n",
       "32442           3.68  \n",
       "...              ...  \n",
       "32529           3.61  \n",
       "32530           3.59  \n",
       "32531           3.57  \n",
       "32532           3.56  \n",
       "32533           3.55  \n",
       "\n",
       "[96 rows x 5 columns]"
      ]
     },
     "execution_count": 4,
     "metadata": {},
     "output_type": "execute_result"
    }
   ],
   "source": [
    "# measured 12 ft (30.48 cm) at 15:00 local time (22:00 UTC)\n",
    "# TODO: pull updated data from LRO\n",
    "df[df.LocalDateTime.isin(frames)][[\n",
    "    \"LocalDateTime\", \"DateTimeUTC\", \"Stage\", \"WaterSurfaceElev\",  \"Discharge_cms\"\n",
    "]]"
   ]
  },
  {
   "cell_type": "code",
   "execution_count": 6,
   "metadata": {},
   "outputs": [
    {
     "data": {
      "text/html": [
       "<div>\n",
       "<style scoped>\n",
       "    .dataframe tbody tr th:only-of-type {\n",
       "        vertical-align: middle;\n",
       "    }\n",
       "\n",
       "    .dataframe tbody tr th {\n",
       "        vertical-align: top;\n",
       "    }\n",
       "\n",
       "    .dataframe thead th {\n",
       "        text-align: right;\n",
       "    }\n",
       "</style>\n",
       "<table border=\"1\" class=\"dataframe\">\n",
       "  <thead>\n",
       "    <tr style=\"text-align: right;\">\n",
       "      <th></th>\n",
       "      <th>LocalDateTime</th>\n",
       "      <th>DateTimeUTC</th>\n",
       "      <th>Stage</th>\n",
       "      <th>WaterSurfaceElev</th>\n",
       "      <th>Discharge_cms</th>\n",
       "    </tr>\n",
       "  </thead>\n",
       "  <tbody>\n",
       "    <tr>\n",
       "      <th>32450</th>\n",
       "      <td>2024-12-04 03:00:00</td>\n",
       "      <td>2024-12-04 10:00:00</td>\n",
       "      <td>10.33</td>\n",
       "      <td>7.37</td>\n",
       "      <td>3.67</td>\n",
       "    </tr>\n",
       "  </tbody>\n",
       "</table>\n",
       "</div>"
      ],
      "text/plain": [
       "             LocalDateTime          DateTimeUTC  Stage  WaterSurfaceElev  \\\n",
       "32450  2024-12-04 03:00:00  2024-12-04 10:00:00  10.33              7.37   \n",
       "\n",
       "       Discharge_cms  \n",
       "32450           3.67  "
      ]
     },
     "execution_count": 6,
     "metadata": {},
     "output_type": "execute_result"
    }
   ],
   "source": [
    "df[df.LocalDateTime == \"2024-12-04 03:00:00\"][[\n",
    "    \"LocalDateTime\", \"DateTimeUTC\", \"Stage\", \"WaterSurfaceElev\",  \"Discharge_cms\"\n",
    "]]"
   ]
  }
 ],
 "metadata": {
  "kernelspec": {
   "display_name": "pyorc",
   "language": "python",
   "name": "python3"
  },
  "language_info": {
   "codemirror_mode": {
    "name": "ipython",
    "version": 3
   },
   "file_extension": ".py",
   "mimetype": "text/x-python",
   "name": "python",
   "nbconvert_exporter": "python",
   "pygments_lexer": "ipython3",
   "version": "3.12.3"
  }
 },
 "nbformat": 4,
 "nbformat_minor": 2
}
