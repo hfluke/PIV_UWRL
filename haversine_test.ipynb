{
 "cells": [
  {
   "cell_type": "code",
   "execution_count": 11,
   "metadata": {},
   "outputs": [],
   "source": [
    "import numpy as np"
   ]
  },
  {
   "cell_type": "code",
   "execution_count": 12,
   "metadata": {},
   "outputs": [],
   "source": [
    "def haversine(lat1, lat2, lon1, lon2, r=6371):\n",
    "    dlat = np.radians(lat2 - lat1)\n",
    "    dlon = np.radians(lon2 - lon1)\n",
    "    lat1 = np.radians(lat1)\n",
    "    lat2 = np.radians(lat2)\n",
    "\n",
    "    return 2 * r * np.arcsin(np.sqrt(np.sin(dlat / 2)**2 + np.cos(lat1) * np.cos(lat2) * np.sin(dlon / 2)**2))\n",
    "\n",
    "def arc_len(lat1, lat2, lon1, lon2, r=6371):\n",
    "    a = np.radians(lat2 - lat1) * r\n",
    "    b = np.radians(lon2 - lon1) * r\n",
    "\n",
    "    return np.sqrt(a**2 + b**2)"
   ]
  },
  {
   "cell_type": "code",
   "execution_count": 18,
   "metadata": {},
   "outputs": [
    {
     "data": {
      "text/plain": [
       "(40.008014383335905, 47.85322722678012)"
      ]
     },
     "execution_count": 18,
     "metadata": {},
     "output_type": "execute_result"
    }
   ],
   "source": [
    "lat1 = 41.7392381\n",
    "lat2 = 41.7391638\n",
    "lon1 = -111.7957156\n",
    "lon2 = -111.7956075\n",
    "\n",
    "haversine(lat1, lat2, lon1, lon2) * 3280.8399, arc_len(lat1, lat2, lon1, lon2) * 3280.8399"
   ]
  }
 ],
 "metadata": {
  "kernelspec": {
   "display_name": "pyorc",
   "language": "python",
   "name": "python3"
  },
  "language_info": {
   "codemirror_mode": {
    "name": "ipython",
    "version": 3
   },
   "file_extension": ".py",
   "mimetype": "text/x-python",
   "name": "python",
   "nbconvert_exporter": "python",
   "pygments_lexer": "ipython3",
   "version": "3.12.3"
  }
 },
 "nbformat": 4,
 "nbformat_minor": 2
}
