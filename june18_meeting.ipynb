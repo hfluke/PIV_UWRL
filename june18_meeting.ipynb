{
 "cells": [
  {
   "cell_type": "markdown",
   "metadata": {},
   "source": [
    "* There is possibly something covering the camera. Beginning in June. The day videos are still (probably) usable; the night videos are not.\n",
    "* The camera has moved. Beginning in June. May need to be recalibrated.\n"
   ]
  },
  {
   "cell_type": "code",
   "execution_count": null,
   "metadata": {},
   "outputs": [],
   "source": []
  }
 ],
 "metadata": {
  "language_info": {
   "name": "python"
  }
 },
 "nbformat": 4,
 "nbformat_minor": 2
}
