{
 "cells": [
  {
   "cell_type": "markdown",
   "metadata": {},
   "source": [
    "Computer problems:\n",
    "\n",
    "* The computer fan has been having more problems. (need to try dusting it off?)\n",
    "\n",
    "Camera problems:\n",
    "\n",
    "* There is possibly something covering the camera. Beginning in June. The day videos are still (probably) usable; the night videos are not.\n",
    "* The camera has moved. Beginning in June. May need to be recalibrated.\n",
    "\n",
    "Observations from dataset:\n",
    "\n",
    "* Snowy conditions lead to inaccurate data\n",
    "* So far, have not seen correlation between time of day and outcomes\n",
    "* Clear skies tend to lead to the best results\n",
    "* Some of the January videos have \"upsteam vectors\" due to snow; some of the May videos have legitimate upstream vectors due to current\n",
    "* time series analysis; not seeing any strong trends over time other than vectors longer when river higher (as expected)\n",
    "* Have looked at:\n",
    "  * Proportion of upsteam : downstream : NaN vectors\n",
    "  * vectors lengths\n",
    "* Could try:\n",
    "  * Setting a threshold on length (only look at vectors > 0.15)\n",
    "  * Looking at vector counts per video\n"
   ]
  },
  {
   "cell_type": "markdown",
   "metadata": {},
   "source": [
    "TODO:\n",
    "\n",
    "* Figure out when camera moved\n",
    "* Look at times of day and how many vectors in each spacial location\n",
    "* Look at time of day per day\n",
    "* Look at TurbAvg and TurbMed from LRO data\n",
    "* Look at varability of vector direction based on vector length"
   ]
  },
  {
   "cell_type": "code",
   "execution_count": null,
   "metadata": {},
   "outputs": [],
   "source": [
    "import pandas as pd\n",
    "import seaborn as sns\n",
    "import matplotlib.pyplot as plt"
   ]
  },
  {
   "cell_type": "code",
   "execution_count": null,
   "metadata": {},
   "outputs": [],
   "source": [
    "df = pd.read_csv('UWRL_river_velocimetry_dataset.csv')"
   ]
  },
  {
   "cell_type": "code",
   "execution_count": null,
   "metadata": {},
   "outputs": [],
   "source": [
    "df['v_pos'] =  [0 if pd.isna(x) else (-1 if x < 0 else 1) for x in df['v_x']]\n",
    "df.datetime = pd.to_datetime(df.datetime)\n",
    "print(df.columns)\n",
    "df"
   ]
  },
  {
   "cell_type": "code",
   "execution_count": null,
   "metadata": {},
   "outputs": [],
   "source": [
    "plt.figure(figsize=(20, 10))\n",
    "\n",
    "sns.histplot(\n",
    "    data=df,\n",
    "    x='conditions',\n",
    "    hue='v_pos',\n",
    "    discrete=True,\n",
    "    multiple='dodge',\n",
    "    shrink=0.8\n",
    ")"
   ]
  },
  {
   "cell_type": "code",
   "execution_count": null,
   "metadata": {},
   "outputs": [],
   "source": [
    "for condition in df.conditions.unique():\n",
    "    df_temp = df[df.conditions == condition]\n",
    "    print(condition)\n",
    "    print(f'     negative: {len(df_temp[df_temp.v_pos == -1]) / len(df_temp):.2%}')\n",
    "    print(f'          nan: {len(df_temp[df_temp.v_pos ==  0]) / len(df_temp):.2%}')\n",
    "    print(f'  nonnegative: {len(df_temp[df_temp.v_pos ==  1]) / len(df_temp):.2%}')"
   ]
  },
  {
   "cell_type": "code",
   "execution_count": null,
   "metadata": {},
   "outputs": [],
   "source": [
    "sns.scatterplot(\n",
    "    data=df,\n",
    "    x='LRO_discharge',\n",
    "    y='v_len',\n",
    "    hue='LRO_discharge_site'\n",
    ")\n",
    "plt.legend(bbox_to_anchor=(1.05, 1), loc='upper left')"
   ]
  },
  {
   "cell_type": "code",
   "execution_count": null,
   "metadata": {},
   "outputs": [],
   "source": [
    "sns.histplot(\n",
    "    data=df,\n",
    "    x='v_len'\n",
    ")"
   ]
  }
 ],
 "metadata": {
  "kernelspec": {
   "display_name": "pyorc",
   "language": "python",
   "name": "python3"
  },
  "language_info": {
   "codemirror_mode": {
    "name": "ipython",
    "version": 3
   },
   "file_extension": ".py",
   "mimetype": "text/x-python",
   "name": "python",
   "nbconvert_exporter": "python",
   "pygments_lexer": "ipython3",
   "version": "3.1.-1"
  }
 },
 "nbformat": 4,
 "nbformat_minor": 2
}
