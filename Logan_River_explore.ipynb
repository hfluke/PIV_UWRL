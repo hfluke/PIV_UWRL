{
 "cells": [
  {
   "cell_type": "code",
   "execution_count": null,
   "metadata": {},
   "outputs": [],
   "source": [
    "import pandas as pd\n",
    "import numpy as np\n",
    "import seaborn as sns\n",
    "import matplotlib.pyplot as plt"
   ]
  },
  {
   "cell_type": "code",
   "execution_count": null,
   "metadata": {},
   "outputs": [],
   "source": [
    "df_lab = pd.read_csv('LR_WaterLab_AA_SourceID_1_QC_0_Year_2024.csv')\n",
    "# df_lab = df_lab[['DateTimeUTC', 'Discharge_cms', 'BGA']]\n",
    "df_lab = df_lab[['DateTimeUTC', 'Discharge_cms', 'BGA', 'Chlorophyll', 'ODO', 'fDOM', 'pH']]\n",
    "df_lab\n",
    "# df_lab[df_lab.Discharge_cms < 0]\n",
    "df_lab[df_lab.BGA < 0]"
   ]
  },
  {
   "cell_type": "code",
   "execution_count": null,
   "metadata": {},
   "outputs": [],
   "source": [
    "df_main = pd.read_csv('LR_MainStreet_BA_SourceID_1_QC_0_Year_2024.csv')\n",
    "# df_main = df_main[['LocalDateTime', 'UTCOffset', 'DateTimeUTC', 'Discharge_cms']]\n",
    "df_main[df_main.Discharge_cms.isna()]\n",
    "# df_main"
   ]
  },
  {
   "cell_type": "code",
   "execution_count": null,
   "metadata": {},
   "outputs": [],
   "source": [
    "# df_lab2 = df_lab[df_lab.Chlorophyll >= 15]\n",
    "df_lab2 = df_lab[(df_lab.BGA <= 7000)&(df_lab.BGA > 10)]\n",
    "df_lab2\n",
    "# df_main = df_main[df_main.Discharge_cms >= 0]\n",
    "# df_main.columns"
   ]
  },
  {
   "cell_type": "code",
   "execution_count": null,
   "metadata": {},
   "outputs": [],
   "source": [
    "sns.histplot(\n",
    "    data=df_lab,\n",
    "    # data=df_main,\n",
    "    # x='Discharge_cms',\n",
    "    x='Chlorophyll',\n",
    "    # x='BGA',\n",
    "    # binwidth=10\n",
    ")"
   ]
  },
  {
   "cell_type": "code",
   "execution_count": null,
   "metadata": {},
   "outputs": [],
   "source": [
    "df.DateTimeUTC.values"
   ]
  }
 ],
 "metadata": {
  "kernelspec": {
   "display_name": "pyorc",
   "language": "python",
   "name": "python3"
  },
  "language_info": {
   "codemirror_mode": {
    "name": "ipython",
    "version": 3
   },
   "file_extension": ".py",
   "mimetype": "text/x-python",
   "name": "python",
   "nbconvert_exporter": "python",
   "pygments_lexer": "ipython3",
   "version": "3.12.3"
  }
 },
 "nbformat": 4,
 "nbformat_minor": 2
}
