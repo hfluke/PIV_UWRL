{
 "cells": [
  {
   "cell_type": "code",
   "execution_count": 1,
   "metadata": {},
   "outputs": [],
   "source": [
    "import pandas as pd\n",
    "import numpy as np\n",
    "import seaborn as sns\n",
    "import matplotlib.pyplot as plt"
   ]
  },
  {
   "cell_type": "code",
   "execution_count": 2,
   "metadata": {},
   "outputs": [
    {
     "data": {
      "text/html": [
       "<div>\n",
       "<style scoped>\n",
       "    .dataframe tbody tr th:only-of-type {\n",
       "        vertical-align: middle;\n",
       "    }\n",
       "\n",
       "    .dataframe tbody tr th {\n",
       "        vertical-align: top;\n",
       "    }\n",
       "\n",
       "    .dataframe thead th {\n",
       "        text-align: right;\n",
       "    }\n",
       "</style>\n",
       "<table border=\"1\" class=\"dataframe\">\n",
       "  <thead>\n",
       "    <tr style=\"text-align: right;\">\n",
       "      <th></th>\n",
       "      <th>LocalDateTime</th>\n",
       "      <th>UTCOffset</th>\n",
       "      <th>DateTimeUTC</th>\n",
       "      <th>Discharge_cms</th>\n",
       "    </tr>\n",
       "  </thead>\n",
       "  <tbody>\n",
       "    <tr>\n",
       "      <th>0</th>\n",
       "      <td>2024-01-01 00:00:00</td>\n",
       "      <td>-7.0</td>\n",
       "      <td>2024-01-01 07:00:00</td>\n",
       "      <td>-9999.00000</td>\n",
       "    </tr>\n",
       "    <tr>\n",
       "      <th>1</th>\n",
       "      <td>2024-01-01 00:15:00</td>\n",
       "      <td>-7.0</td>\n",
       "      <td>2024-01-01 07:15:00</td>\n",
       "      <td>-9999.00000</td>\n",
       "    </tr>\n",
       "    <tr>\n",
       "      <th>2</th>\n",
       "      <td>2024-01-01 00:30:00</td>\n",
       "      <td>-7.0</td>\n",
       "      <td>2024-01-01 07:30:00</td>\n",
       "      <td>-9999.00000</td>\n",
       "    </tr>\n",
       "    <tr>\n",
       "      <th>3</th>\n",
       "      <td>2024-01-01 00:45:00</td>\n",
       "      <td>-7.0</td>\n",
       "      <td>2024-01-01 07:45:00</td>\n",
       "      <td>-9999.00000</td>\n",
       "    </tr>\n",
       "    <tr>\n",
       "      <th>4</th>\n",
       "      <td>2024-01-01 01:00:00</td>\n",
       "      <td>-7.0</td>\n",
       "      <td>2024-01-01 08:00:00</td>\n",
       "      <td>-9999.00000</td>\n",
       "    </tr>\n",
       "    <tr>\n",
       "      <th>...</th>\n",
       "      <td>...</td>\n",
       "      <td>...</td>\n",
       "      <td>...</td>\n",
       "      <td>...</td>\n",
       "    </tr>\n",
       "    <tr>\n",
       "      <th>15167</th>\n",
       "      <td>2024-06-06 23:45:00</td>\n",
       "      <td>-7.0</td>\n",
       "      <td>2024-06-07 06:45:00</td>\n",
       "      <td>31.90818</td>\n",
       "    </tr>\n",
       "    <tr>\n",
       "      <th>15168</th>\n",
       "      <td>2024-06-07 00:00:00</td>\n",
       "      <td>-7.0</td>\n",
       "      <td>2024-06-07 07:00:00</td>\n",
       "      <td>31.89772</td>\n",
       "    </tr>\n",
       "    <tr>\n",
       "      <th>15169</th>\n",
       "      <td>2024-06-07 00:15:00</td>\n",
       "      <td>-7.0</td>\n",
       "      <td>2024-06-07 07:15:00</td>\n",
       "      <td>32.17812</td>\n",
       "    </tr>\n",
       "    <tr>\n",
       "      <th>15170</th>\n",
       "      <td>2024-06-07 00:30:00</td>\n",
       "      <td>-7.0</td>\n",
       "      <td>2024-06-07 07:30:00</td>\n",
       "      <td>32.41535</td>\n",
       "    </tr>\n",
       "    <tr>\n",
       "      <th>15171</th>\n",
       "      <td>2024-06-07 00:45:00</td>\n",
       "      <td>-7.0</td>\n",
       "      <td>2024-06-07 07:45:00</td>\n",
       "      <td>32.59229</td>\n",
       "    </tr>\n",
       "  </tbody>\n",
       "</table>\n",
       "<p>15172 rows × 4 columns</p>\n",
       "</div>"
      ],
      "text/plain": [
       "             LocalDateTime  UTCOffset          DateTimeUTC  Discharge_cms\n",
       "0      2024-01-01 00:00:00       -7.0  2024-01-01 07:00:00    -9999.00000\n",
       "1      2024-01-01 00:15:00       -7.0  2024-01-01 07:15:00    -9999.00000\n",
       "2      2024-01-01 00:30:00       -7.0  2024-01-01 07:30:00    -9999.00000\n",
       "3      2024-01-01 00:45:00       -7.0  2024-01-01 07:45:00    -9999.00000\n",
       "4      2024-01-01 01:00:00       -7.0  2024-01-01 08:00:00    -9999.00000\n",
       "...                    ...        ...                  ...            ...\n",
       "15167  2024-06-06 23:45:00       -7.0  2024-06-07 06:45:00       31.90818\n",
       "15168  2024-06-07 00:00:00       -7.0  2024-06-07 07:00:00       31.89772\n",
       "15169  2024-06-07 00:15:00       -7.0  2024-06-07 07:15:00       32.17812\n",
       "15170  2024-06-07 00:30:00       -7.0  2024-06-07 07:30:00       32.41535\n",
       "15171  2024-06-07 00:45:00       -7.0  2024-06-07 07:45:00       32.59229\n",
       "\n",
       "[15172 rows x 4 columns]"
      ]
     },
     "execution_count": 2,
     "metadata": {},
     "output_type": "execute_result"
    }
   ],
   "source": [
    "df = pd.read_csv('LR_WaterLab_AA_SourceID_1_QC_0_Year_2024.csv')\n",
    "df = df[['LocalDateTime', 'UTCOffset', 'DateTimeUTC', 'Discharge_cms']]\n",
    "df"
   ]
  },
  {
   "cell_type": "code",
   "execution_count": 3,
   "metadata": {},
   "outputs": [],
   "source": [
    "df = df[df.Discharge_cms >= 0]\n",
    "df"
   ]
  },
  {
   "cell_type": "code",
   "execution_count": 21,
   "metadata": {},
   "outputs": [
    {
     "data": {
      "text/plain": [
       "<Axes: xlabel='Discharge_cms', ylabel='Count'>"
      ]
     },
     "execution_count": 21,
     "metadata": {},
     "output_type": "execute_result"
    },
    {
     "data": {
      "image/png": "[encoded data removed]",
      "text/plain": [
       "<Figure size 640x480 with 1 Axes>"
      ]
     },
     "metadata": {},
     "output_type": "display_data"
    }
   ],
   "source": [
    "sns.histplot(\n",
    "    data=df,\n",
    "    x='Discharge_cms',\n",
    "    binwidth=1\n",
    ")"
   ]
  },
  {
   "cell_type": "code",
   "execution_count": 20,
   "metadata": {},
   "outputs": [
    {
     "data": {
      "text/plain": [
       "array(['2024-03-04 22:15:00', '2024-03-04 22:30:00',\n",
       "       '2024-03-04 22:45:00', ..., '2024-06-07 07:15:00',\n",
       "       '2024-06-07 07:30:00', '2024-06-07 07:45:00'], dtype=object)"
      ]
     },
     "execution_count": 20,
     "metadata": {},
     "output_type": "execute_result"
    }
   ],
   "source": [
    "df.DateTimeUTC.values"
   ]
  }
 ],
 "metadata": {
  "kernelspec": {
   "display_name": "pyorc",
   "language": "python",
   "name": "python3"
  },
  "language_info": {
   "codemirror_mode": {
    "name": "ipython",
    "version": 3
   },
   "file_extension": ".py",
   "mimetype": "text/x-python",
   "name": "python",
   "nbconvert_exporter": "python",
   "pygments_lexer": "ipython3",
   "version": "3.12.3"
  }
 },
 "nbformat": 4,
 "nbformat_minor": 2
}
