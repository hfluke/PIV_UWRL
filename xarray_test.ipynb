{
 "cells": [
  {
   "cell_type": "code",
   "execution_count": null,
   "metadata": {},
   "outputs": [],
   "source": [
    "################################\n",
    "# add values based on time coord\n",
    "# thanks chat\n",
    "################################\n",
    "\n",
    "import numpy as np\n",
    "import pandas as pd\n",
    "import xarray as xr\n",
    "\n",
    "# Create a time range\n",
    "time = pd.date_range('2020-01-01', periods=10, freq='D')\n",
    "\n",
    "# Create an initial xarray Dataset\n",
    "ds = xr.Dataset(\n",
    "    {\n",
    "        'temperature': (['time'], np.random.rand(len(time)) * 10)  # Random temperature values\n",
    "    },\n",
    "    coords={'time': time}\n",
    ")\n",
    "\n",
    "# Define a function that depends on time\n",
    "def temperature_trend(time):\n",
    "    return 0.5 * (time - np.datetime64('2020-01-01')).astype('timedelta64[D]').astype(int)\n",
    "\n",
    "# Apply this function to each time point\n",
    "trend_values = temperature_trend(ds.time.values)\n",
    "\n",
    "# Add the new values to the dataset\n",
    "ds['temperature_trend'] = ('time', trend_values)\n",
    "\n",
    "print(ds)\n",
    "\n",
    "ds.close()"
   ]
  },
  {
   "cell_type": "code",
   "execution_count": null,
   "metadata": {},
   "outputs": [],
   "source": [
    "#################################\n",
    "# add values based on x coord\n",
    "# should be similar to above code\n",
    "# thanks chat\n",
    "#################################\n",
    "\n",
    "import numpy as np\n",
    "import pandas as pd\n",
    "import xarray as xr\n",
    "\n",
    "# Create a time range\n",
    "time = pd.date_range('2020-01-01', periods=10, freq='D')\n",
    "# Create an x range\n",
    "x = np.linspace(0, 10, 5)\n",
    "\n",
    "# Create an initial xarray Dataset\n",
    "ds = xr.Dataset(\n",
    "    {\n",
    "        'temperature': (['time', 'x'], np.random.rand(len(time), len(x)) * 10)  # Random temperature values\n",
    "    },\n",
    "    coords={'time': time, 'x': x}\n",
    ")\n",
    "\n",
    "# Define a function that depends on the x coordinate\n",
    "def elevation(x):\n",
    "    return 2 * x + 5\n",
    "\n",
    "# Apply the function to the x coordinate\n",
    "elevation_values = elevation(ds.x.values)\n",
    "\n",
    "# Broadcast the elevation values to match the dimensions of the dataset\n",
    "elevation_broadcasted = np.broadcast_to(elevation_values, (len(ds.time), len(ds.x)))\n",
    "\n",
    "# Add the new values to the dataset\n",
    "ds['elevation'] = (['time', 'x'], elevation_broadcasted)\n",
    "\n",
    "print(ds)\n",
    "\n",
    "ds.close()"
   ]
  },
  {
   "cell_type": "code",
   "execution_count": null,
   "metadata": {},
   "outputs": [],
   "source": [
    "import numpy as np\n",
    "import xarray as xr\n",
    "\n",
    "def main():\n",
    "    vector_file = \"January/results/video_capture_2024-01-02_09-44-20_velocimetry_results.nc\"\n",
    "\n",
    "    ds = xr.open_dataset(vector_file)\n",
    "\n",
    "    spac_loc = spacial_location_wrapper(ds.y.values)\n",
    "    spac_loc = np.broadcast_to(spac_loc, (len(ds.time), len(ds.y)))\n",
    "\n",
    "    ds['spacial_location'] = (['time', 'y'], spac_loc)\n",
    "\n",
    "    print(ds)\n",
    "\n",
    "def spacial_location(y, m, subdiv):\n",
    "    if y < m + subdiv:\n",
    "        return 0\n",
    "    elif (y >= m + subdiv) and (y < m + 2 * subdiv):\n",
    "        return 1\n",
    "    elif (y >= m + subdiv) and (y < m + 3 * subdiv):\n",
    "        return 2\n",
    "    elif (y >= m + subdiv) and (y < m + 4 * subdiv):\n",
    "        return 3\n",
    "    else:\n",
    "        return 4\n",
    "\n",
    "def spacial_location_wrapper(y_vals):\n",
    "    maximum = max(y_vals)\n",
    "    minimum = min(y_vals)\n",
    "    subdiv = (maximum - minimum) / 5\n",
    "\n",
    "    spac_loc = []\n",
    "    for y in y_vals:\n",
    "        spac_loc.append(spacial_location(y, minimum, subdiv))\n",
    "    return spac_loc\n",
    "\n",
    "main()"
   ]
  },
  {
   "cell_type": "code",
   "execution_count": null,
   "metadata": {},
   "outputs": [],
   "source": [
    "import numpy as np\n",
    "import pandas as pd\n",
    "import xarray as xr\n",
    "from datetime import datetime, timedelta\n",
    "\n",
    "# vector_file = \"January/results/video_capture_2024-01-02_09-44-20_velocimetry_results.nc\"\n",
    "vector_file = \"nc_old/video_capture_2024-05-17_13-49-18_velocimetry_results.nc\"\n",
    "ds = xr.open_dataset(vector_file)\n",
    "\n",
    "name = vector_file.split('/')[-1].rsplit('_', maxsplit=2)[0]\n",
    "year, month, day = name.split('_')[2].split('-')\n",
    "hour, minute, second = name.split('_')[3].split('-')\n",
    "\n",
    "rounded_minute = 15 * round(int(minute) / 15)\n",
    "minute = 0 if rounded_minute == 60 else rounded_minute\n",
    "\n",
    "dt = datetime(int(year), int(month), int(day), int(hour), minute, int(second))\n",
    "dt_utc = (dt + timedelta(hours=7)).replace(second=0)\n",
    "\n",
    "# date = f\"{dt_utc.year}-{dt_utc.month:02}-{dt_utc.day:02} {dt_utc.hour:02}:{dt_utc.minute:02}:00\"\n",
    "date = dt_utc.strftime('%Y-%m-%d %H:%M:%S')\n",
    "\n",
    "df = pd.read_csv('LR_WaterLab_AA_SourceID_1_QC_0_Year_2024.csv')\n",
    "df = df[['DateTimeUTC', 'Discharge_cms']]\n",
    "df = df[df.Discharge_cms >= 0]\n",
    "print(df)\n",
    "\n",
    "print(date in df.DateTimeUTC.values)\n",
    "if dt_utc in df.DateTimeUTC.values:\n",
    "    discharge_cms = df[df.DateTimeUTC == date].Discharge_cms.values[0]\n",
    "else:\n",
    "    discharge_cms = np.nan\n",
    "\n",
    "discharge = xr.DataArray(\n",
    "    data=discharge_cms * np.ones_like(ds['time']),\n",
    "    dims=['time'],\n",
    "    coords={'time': ds['time']}\n",
    ")\n",
    "ds['sun_altitude'] = discharge\n"
   ]
  },
  {
   "cell_type": "code",
   "execution_count": null,
   "metadata": {},
   "outputs": [],
   "source": [
    "import pandas as pd\n",
    "\n",
    "df = pd.read_csv('LR_WaterLab_AA_SourceID_1_QC_0_Year_2024.csv')\n",
    "df[df.pH > 15]\n",
    "\n",
    "df.pH = [value if value < 15 else value / 10 for value in df.pH.values]\n",
    "df.pH"
   ]
  },
  {
   "cell_type": "code",
   "execution_count": null,
   "metadata": {},
   "outputs": [],
   "source": [
    "\n",
    "import requests\n",
    "import sys\n",
    "\n",
    "import csv\n",
    "import codecs\n",
    "        \n",
    "\n",
    "response = requests.request(\"GET\", \"https://weather.visualcrossing.com/VisualCrossingWebServices/rest/services/timeline/41.739034%2C%20-111.795742/2024-05-01/2024-05-31?unitGroup=us&include=hours&key=4KJRENQNAVB2P7EWEP82W9B3L&contentType=csv\")\n",
    "if response.status_code!=200:\n",
    "  print('Unexpected Status code: ', response.status_code)\n",
    "  sys.exit()  \n",
    "\n",
    "\n",
    "# Parse the results as CSV\n",
    "CSVText = csv.reader(response.text.splitlines(), delimiter=',',quotechar='\"')\n",
    "        \n",
    "       \n",
    "               \n",
    "\n",
    "output_file = 'May_weather.csv'\n",
    "with open(output_file, mode='w', newline='') as file:\n",
    "    writer = csv.writer(file)\n",
    "    for row in CSVText:\n",
    "        writer.writerow(row)"
   ]
  },
  {
   "cell_type": "code",
   "execution_count": null,
   "metadata": {},
   "outputs": [],
   "source": [
    "import pandas as pd\n",
    "import seaborn as sns\n",
    "import matplotlib.pyplot as plt\n",
    "\n",
    "df = pd.read_csv('January_weather.csv')\n",
    "print(df.columns)\n",
    "df"
   ]
  },
  {
   "cell_type": "code",
   "execution_count": null,
   "metadata": {},
   "outputs": [],
   "source": [
    "df.head(15)"
   ]
  },
  {
   "cell_type": "code",
   "execution_count": null,
   "metadata": {},
   "outputs": [],
   "source": [
    "sns.histplot(\n",
    "    data=df,\n",
    "    x='preciptype'\n",
    ")"
   ]
  },
  {
   "cell_type": "code",
   "execution_count": null,
   "metadata": {},
   "outputs": [],
   "source": [
    "sns.histplot(\n",
    "    data=df,\n",
    "    x='cloudcover'\n",
    ")"
   ]
  },
  {
   "cell_type": "code",
   "execution_count": null,
   "metadata": {},
   "outputs": [],
   "source": [
    "plt.figure(figsize=(15, 5))\n",
    "\n",
    "sns.histplot(\n",
    "    data=df,\n",
    "    x='conditions'\n",
    ")"
   ]
  },
  {
   "cell_type": "code",
   "execution_count": null,
   "metadata": {},
   "outputs": [],
   "source": [
    "sns.histplot(\n",
    "    data=df,\n",
    "    x='uvindex',\n",
    "    discrete=True\n",
    ")"
   ]
  },
  {
   "cell_type": "code",
   "execution_count": null,
   "metadata": {},
   "outputs": [],
   "source": [
    "sns.histplot(\n",
    "    data=df,\n",
    "    x='windgust',\n",
    ")"
   ]
  },
  {
   "cell_type": "code",
   "execution_count": null,
   "metadata": {},
   "outputs": [],
   "source": [
    "sns.histplot(\n",
    "    data=df,\n",
    "    x='windspeed',\n",
    ")"
   ]
  },
  {
   "cell_type": "code",
   "execution_count": null,
   "metadata": {},
   "outputs": [],
   "source": [
    "sns.histplot(\n",
    "    data=df,\n",
    "    x='winddir',\n",
    ")"
   ]
  },
  {
   "cell_type": "code",
   "execution_count": null,
   "metadata": {},
   "outputs": [],
   "source": [
    "sns.histplot(\n",
    "    data=df,\n",
    "    x='visibility'\n",
    ")"
   ]
  },
  {
   "cell_type": "code",
   "execution_count": null,
   "metadata": {},
   "outputs": [],
   "source": [
    "sns.histplot(\n",
    "    data=df,\n",
    "    x='solarradiation',\n",
    ")"
   ]
  },
  {
   "cell_type": "code",
   "execution_count": null,
   "metadata": {},
   "outputs": [],
   "source": [
    "sns.histplot(\n",
    "    data=df,\n",
    "    x='solarenergy',\n",
    ")"
   ]
  }
 ],
 "metadata": {
  "kernelspec": {
   "display_name": "pyorc",
   "language": "python",
   "name": "python3"
  },
  "language_info": {
   "codemirror_mode": {
    "name": "ipython",
    "version": 3
   },
   "file_extension": ".py",
   "mimetype": "text/x-python",
   "name": "python",
   "nbconvert_exporter": "python",
   "pygments_lexer": "ipython3",
   "version": "3.1.-1"
  }
 },
 "nbformat": 4,
 "nbformat_minor": 2
}
