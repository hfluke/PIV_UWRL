{
 "cells": [
  {
   "cell_type": "code",
   "execution_count": 1,
   "metadata": {},
   "outputs": [],
   "source": [
    "import pandas as pd\n",
    "import numpy as np\n",
    "import seaborn as sns\n",
    "import matplotlib.pyplot as plt"
   ]
  },
  {
   "cell_type": "code",
   "execution_count": null,
   "metadata": {},
   "outputs": [],
   "source": [
    "df = pd.read_csv('temp2/temp_6.csv')"
   ]
  },
  {
   "cell_type": "code",
   "execution_count": null,
   "metadata": {},
   "outputs": [],
   "source": [
    "df['v_pos'] =  [0 if pd.isna(x) else (-1 if x < 0 else 1) for x in df['v_x']]\n",
    "df.pH = [value if value < 15 else value / 10 for value in df.pH.values]\n",
    "df.datetime = pd.to_datetime(df.datetime)\n",
    "print(df.columns)\n",
    "df"
   ]
  },
  {
   "cell_type": "code",
   "execution_count": null,
   "metadata": {},
   "outputs": [],
   "source": [
    "plt.figure(figsize=(20, 10))\n",
    "\n",
    "sns.histplot(\n",
    "    data=df,\n",
    "    x='conditions',\n",
    "    hue='v_pos',\n",
    "    discrete=True,\n",
    "    multiple='dodge',\n",
    "    shrink=0.8\n",
    ")"
   ]
  },
  {
   "cell_type": "code",
   "execution_count": null,
   "metadata": {},
   "outputs": [],
   "source": [
    "conditions = df.conditions.unique()\n",
    "\n",
    "for condition in conditions:\n",
    "    df_temp = df[df.conditions == condition]\n",
    "    print(condition)\n",
    "    print(f'     negative: {len(df_temp[df_temp.v_pos == -1]) / len(df_temp):.2%}')\n",
    "    print(f'          nan: {len(df_temp[df_temp.v_pos == 0]) / len(df_temp):.2%}')\n",
    "    print(f'  nonnegative: {len(df_temp[df_temp.v_pos == 1]) / len(df_temp):.2%}')\n"
   ]
  },
  {
   "cell_type": "code",
   "execution_count": null,
   "metadata": {},
   "outputs": [],
   "source": [
    "vars = ['v_x', 'v_len', 'v_pos', 's2n', 'corr',\n",
    "       'sun_altitude', 'sun_azimuth', 'spacial_location', 'LRO_discharge',\n",
    "       'LRO_discharge_site', 'BGA', 'Chlorophyll', 'ODO', 'fDOM', 'pH',\n",
    "       'vegetation', 'windspeed', 'winddir', 'visibility', 'cloudcover',\n",
    "       'solarradiation', 'uvindex', 'conditions']\n",
    "\n",
    "for var in vars:\n",
    "    plt.figure(figsize=(7, 5))\n",
    "    sns.histplot(\n",
    "        data=df,\n",
    "        x=var\n",
    "    )\n",
    "    plt.show()"
   ]
  },
  {
   "cell_type": "code",
   "execution_count": null,
   "metadata": {},
   "outputs": [],
   "source": [
    "vars = [\n",
    "    'v_x', 'v_len', 'v_pos', 's2n', 'corr', 'sun_altitude', 'sun_azimuth',\n",
    "    'LRO_discharge', 'BGA', 'Chlorophyll', 'ODO', 'fDOM', 'pH',\n",
    "    'vegetation', 'windspeed', 'winddir', 'visibility', 'cloudcover', 'solarradiation',\n",
    "    'uvindex'\n",
    "]\n",
    "\n",
    "for var in vars:\n",
    "    plt.figure(figsize=(7, 5))\n",
    "    sns.lineplot(\n",
    "        data=df,\n",
    "        x='datetime',\n",
    "        y=var\n",
    "    )\n",
    "    plt.show()\n",
    "    plt.close()"
   ]
  },
  {
   "cell_type": "code",
   "execution_count": null,
   "metadata": {},
   "outputs": [],
   "source": [
    "vars = ['datetime', 'v_len', 'v_pos', 's2n', 'corr',\n",
    "       'sun_altitude', 'sun_azimuth', 'spacial_location', 'LRO_discharge',\n",
    "       'LRO_discharge_site', 'BGA', 'Chlorophyll', 'ODO', 'fDOM', 'pH',\n",
    "       'vegetation', 'windspeed', 'winddir', 'visibility', 'cloudcover',\n",
    "       'solarradiation', 'uvindex', 'conditions']\n",
    "\n",
    "df2 = df[df.v_len >= 0.15]\n",
    "\n",
    "for var in vars:\n",
    "    plt.figure(figsize=(7, 5))\n",
    "    sns.scatterplot(\n",
    "        data=df2,\n",
    "        x=var,\n",
    "        y='v_x'\n",
    "    )\n",
    "    plt.show()\n",
    "    plt.cla()\n",
    "    plt.close()"
   ]
  },
  {
   "cell_type": "code",
   "execution_count": null,
   "metadata": {},
   "outputs": [],
   "source": [
    "vars = ['datetime', 'v_pos', 's2n', 'corr',\n",
    "       'sun_altitude', 'sun_azimuth', 'spacial_location', 'LRO_discharge',\n",
    "       'LRO_discharge_site', 'BGA', 'Chlorophyll', 'ODO', 'fDOM', 'pH',\n",
    "       'vegetation', 'windspeed', 'winddir', 'visibility', 'cloudcover',\n",
    "       'solarradiation', 'uvindex', 'conditions']\n",
    "\n",
    "for var in vars:\n",
    "    plt.figure(figsize=(7, 5))\n",
    "    sns.scatterplot(\n",
    "        data=df,\n",
    "        x=var,\n",
    "        y='v_len'\n",
    "    )\n",
    "    plt.show()\n",
    "    plt.cla()\n",
    "    plt.close()"
   ]
  },
  {
   "cell_type": "code",
   "execution_count": null,
   "metadata": {},
   "outputs": [],
   "source": [
    "sns.scatterplot(\n",
    "        data=df,\n",
    "        x='solarradiation',\n",
    "        y='v_x',\n",
    "        hue='v_pos'\n",
    "    )"
   ]
  },
  {
   "cell_type": "code",
   "execution_count": null,
   "metadata": {},
   "outputs": [],
   "source": [
    "sns.scatterplot(\n",
    "        data=df,\n",
    "        x='cloudcover',\n",
    "        y='v_x',\n",
    "        hue='v_pos'\n",
    "    )"
   ]
  },
  {
   "cell_type": "code",
   "execution_count": null,
   "metadata": {},
   "outputs": [],
   "source": [
    "sns.scatterplot(\n",
    "    data=df,\n",
    "    x='solarradiation',\n",
    "    y='cloudcover'\n",
    ")"
   ]
  },
  {
   "cell_type": "code",
   "execution_count": null,
   "metadata": {},
   "outputs": [],
   "source": [
    "vars = ['datetime', 'v_pos', 's2n', 'corr',\n",
    "       'sun_altitude', 'sun_azimuth', 'spacial_location', 'LRO_discharge',\n",
    "       'LRO_discharge_site', 'BGA', 'Chlorophyll', 'ODO', 'fDOM', 'pH',\n",
    "       'vegetation', 'windspeed', 'winddir', 'visibility', 'cloudcover',\n",
    "       'solarradiation', 'uvindex', 'conditions']\n",
    "\n",
    "for var in vars:\n",
    "    fig, axes = plt.subplots(1, 2, figsize=(12, 4))\n",
    "\n",
    "    sns.scatterplot(\n",
    "        data=df,\n",
    "        x=var,\n",
    "        y='v_x',\n",
    "        ax=axes[0]\n",
    "    )\n",
    "\n",
    "    sns.scatterplot(\n",
    "        data=df,\n",
    "        x=var,\n",
    "        y='v_len',\n",
    "        ax=axes[1]\n",
    "    )\n",
    "\n",
    "    plt.show()\n",
    "    plt.cla()\n",
    "    plt.close()"
   ]
  },
  {
   "cell_type": "code",
   "execution_count": null,
   "metadata": {},
   "outputs": [],
   "source": [
    "sns.lineplot(\n",
    "    # data=df,\n",
    "    data=df[df.Chlorophyll < 25],\n",
    "    x='datetime',\n",
    "    y='Chlorophyll'\n",
    ")"
   ]
  },
  {
   "cell_type": "code",
   "execution_count": null,
   "metadata": {},
   "outputs": [],
   "source": [
    "sns.histplot(\n",
    "    data=df[df.Chlorophyll < 25],\n",
    "    x='Chlorophyll',\n",
    "    bins=8\n",
    ")"
   ]
  },
  {
   "cell_type": "code",
   "execution_count": null,
   "metadata": {},
   "outputs": [],
   "source": [
    "df.columns"
   ]
  },
  {
   "cell_type": "code",
   "execution_count": null,
   "metadata": {},
   "outputs": [],
   "source": [
    "df2 = df.groupby('datetime').aggregate({'v_x': 'count'})\n",
    "df2"
   ]
  },
  {
   "cell_type": "code",
   "execution_count": null,
   "metadata": {},
   "outputs": [],
   "source": [
    "df2.v_x.unique()\n",
    "\n",
    "df2[df2.v_x == 0]"
   ]
  }
 ],
 "metadata": {
  "kernelspec": {
   "display_name": "pyorc",
   "language": "python",
   "name": "python3"
  },
  "language_info": {
   "codemirror_mode": {
    "name": "ipython",
    "version": 3
   },
   "file_extension": ".py",
   "mimetype": "text/x-python",
   "name": "python",
   "nbconvert_exporter": "python",
   "pygments_lexer": "ipython3",
   "version": "3.1.-1"
  }
 },
 "nbformat": 4,
 "nbformat_minor": 2
}
