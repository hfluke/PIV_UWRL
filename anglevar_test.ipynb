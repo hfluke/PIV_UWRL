{
 "cells": [
  {
   "cell_type": "code",
   "execution_count": null,
   "metadata": {},
   "outputs": [],
   "source": [
    "# import pandas as pd\n",
    "# import numpy as np\n",
    "\n",
    "# POINTS = [\n",
    "#     {'x': -0.13, 'y': -0.13},\n",
    "#     {'x': -0.13, 'y': 0},\n",
    "#     {'x': -0.13, 'y': 0.13},\n",
    "#     {'x': 0, 'y': -0.13},\n",
    "#     {'x': 0, 'y': 0.13},\n",
    "#     {'x': 0.13, 'y': -0.13},\n",
    "#     {'x': 0.13, 'y': 0},\n",
    "#     {'x': 0.13, 'y': 0.13},\n",
    "# ]\n",
    "\n",
    "# analyzed = []\n",
    "# with open('anglevar_complete.txt') as f:\n",
    "#     for line in f:\n",
    "#         analyzed.append(pd.to_datetime(line))\n",
    "\n",
    "# df = pd.read_csv('temp_UWRL_river_velocimetry_dataset.csv')\n",
    "# df.datetime = pd.to_datetime(df.datetime)\n",
    "\n",
    "# dates = []\n",
    "# for date in sorted(df.datetime.unique()):\n",
    "#     date not in analyzed and dates.append(date)\n",
    "\n",
    "# while dates != []:\n",
    "#     print(f'{len(dates)} more timestamps to process')\n",
    "#     d = []\n",
    "\n",
    "#     for i in range(REPS):\n",
    "#         date = dates.pop(0)\n",
    "#         print(f'{REPS-i:>3}. {date}')\n",
    "\n",
    "#         df_curr = df[(df.datetime == date) & ~(df.angle.isna())]\n",
    "\n",
    "#         for index, row in df_curr.iterrows():\n",
    "#             x, y = row.x, row.y\n",
    "#             print(x, y)\n",
    "\n",
    "#             angles = []\n",
    "\n",
    "#             for POINT in POINTS:\n",
    "#                 angles.extend(df_curr.loc[(df_curr.x == xr + POINT['x'])&(df_curr.y == yr + POINT['y'])].angle.values)\n",
    "            \n",
    "#             if angles != []:\n",
    "#                 angle_diffs = []\n",
    "#                 for angle in angles:\n",
    "#                     diff = abs(angle - row.angle) % np.pi\n",
    "#                     angle_diffs.append(diff * diff)\n",
    "        \n",
    "#                 df.at[index, 'angle_var'] = sum(angle_diffs) / len(angle_diffs)\n",
    "#         d.append(date)\n",
    "\n",
    "#     print('saving to csv\\n')\n",
    "#     df.to_csv('temp_UWRL_river_velocimetry_dataset.csv', index=False)\n",
    "\n",
    "#     with open('anglevar_complete.txt', 'a') as f:\n",
    "#         for date in d:\n",
    "#             f.write(f\"{date}\\n\")"
   ]
  },
  {
   "cell_type": "code",
   "execution_count": null,
   "metadata": {},
   "outputs": [],
   "source": [
    "import pandas as pd\n",
    "import numpy as np"
   ]
  },
  {
   "cell_type": "code",
   "execution_count": null,
   "metadata": {},
   "outputs": [],
   "source": [
    "df = pd.read_csv('temp2_UWRL_river_velocimetry_dataset.csv')\n",
    "# df['angle'] = np.arctan2(df['v_y'], df['v_x'])\n",
    "# df['angle_var'] = [np.nan for _ in range(len(df))]\n",
    "# df['angle_var_support'] = [np.nan for _ in range(len(df))]\n",
    "# df.to_csv('temp2_UWRL_river_velocimetry_dataset.csv', index=False)"
   ]
  },
  {
   "cell_type": "code",
   "execution_count": null,
   "metadata": {},
   "outputs": [],
   "source": [
    "df[~(df.angle.isna())]"
   ]
  },
  {
   "cell_type": "code",
   "execution_count": null,
   "metadata": {},
   "outputs": [],
   "source": [
    "POINTS = [\n",
    "    {'x': -1, 'y': -1},\n",
    "    {'x': -1, 'y': 0},\n",
    "    {'x': -1, 'y': 1},\n",
    "    {'x': 0, 'y': -1},\n",
    "    {'x': 0, 'y': 1},\n",
    "    {'x': 1, 'y': -1},\n",
    "    {'x': 1, 'y': 0},\n",
    "    {'x': 1, 'y': 1},\n",
    "]\n",
    "\n",
    "df.datetime = pd.to_datetime(df.datetime)\n",
    "\n",
    "dates = sorted(df.datetime.unique())\n",
    "x_vals = sorted(df.x.unique())\n",
    "y_vals = sorted(df.y.unique())"
   ]
  },
  {
   "cell_type": "code",
   "execution_count": null,
   "metadata": {},
   "outputs": [],
   "source": [
    "date = dates.pop(0)\n",
    "print(date)\n",
    "\n",
    "df_i = df[(df.datetime == date) & ~(df.angle.isna())]\n",
    "\n",
    "for index, row in df_i.iterrows():\n",
    "    x, y = row.x, row.y\n",
    "    x_i, y_i = x_vals.index(x), y_vals.index(y)\n",
    "\n",
    "    print(x_i, x, y_i, y)\n",
    "\n",
    "    angles = []\n",
    "\n",
    "    for POINT in POINTS:\n",
    "        try:\n",
    "            angles.extend(df_i.loc[(df_i.x == x_vals[x_i + POINT['x']]) & (df_i.y == y_vals[y_i + POINT['y']])].angle.values)\n",
    "        except:\n",
    "            continue\n",
    "    print(angles)\n",
    "\n",
    "    if angles != []:\n",
    "        angle_diff_sq = []\n",
    "        for angle in angles:\n",
    "            diff = abs(angle - row.angle) % np.pi\n",
    "            angle_diff_sq.append(diff * diff)\n",
    "\n",
    "        print(angle_diff_sq)\n",
    "        print(row.angle)\n",
    "\n",
    "        df.at[index, 'angle_var'] = sum(angle_diff_sq) / len(angle_diff_sq)\n",
    "        df.at[index, 'angle_var_support'] = len(angles)\n",
    "\n",
    "\n",
    "#     d.append(date)\n",
    "\n",
    "# print('saving to csv\\n')\n",
    "# df.to_csv('temp_UWRL_river_velocimetry_dataset.csv', index=False)\n",
    "\n",
    "# with open('anglevar_complete.txt', 'a') as f:\n",
    "#     for date in d:\n",
    "#         f.write(f\"{date}\\n\")\n",
    "\n",
    "    break"
   ]
  },
  {
   "cell_type": "code",
   "execution_count": null,
   "metadata": {},
   "outputs": [],
   "source": [
    "df[~(df.angle_var.isna())]"
   ]
  }
 ],
 "metadata": {
  "kernelspec": {
   "display_name": "pyorc",
   "language": "python",
   "name": "python3"
  },
  "language_info": {
   "codemirror_mode": {
    "name": "ipython",
    "version": 3
   },
   "file_extension": ".py",
   "mimetype": "text/x-python",
   "name": "python",
   "nbconvert_exporter": "python",
   "pygments_lexer": "ipython3",
   "version": "3.12.3"
  }
 },
 "nbformat": 4,
 "nbformat_minor": 2
}
